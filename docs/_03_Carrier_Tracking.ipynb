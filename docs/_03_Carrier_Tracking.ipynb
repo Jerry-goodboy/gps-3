{
 "cells": [
  {
   "cell_type": "markdown",
   "metadata": {},
   "source": [
    "# Carrier Tracking\n",
    "\n",
    "As the GPS satellites pass overhead, the 1575.42 MHz carrier signal is Doppler shifted higher as it rises over the horizon, and then decreases until it is shifted lower as it sets across the horizon. If the satellite is directly overhead (zenith) there is no shift at all. \n",
    "\n",
    "## About the Doppler Effect\n",
    "\n",
    "If you aren't familiar with the Doppler effect, it is the reason that a car or train horn has a pitch shift as it passes by. [Here is a slightly obnoxious demonstration.](https://www.youtube.com/watch?v=a3RfULw7aAY) The same thing is happening to the satellite signal, but it is a radio wave rather than a sound wave. For a more technical explanation check out [Khan Academy](https://www.youtube.com/watch?v=dc7l7Qqa8xk).\n",
    "\n",
    "## Algorithm\n",
    "\n",
    "The tracking loop is a special class of phase-locked loop called a Costas loop. Since bit transitions from -1 to 1 in the data will cause periodic 180 degree phase shifts in the carrier wave, the loop can not lose lock when this happens. The Costas loop consists of a local oscillator which produces a cosine wave that should be equal in frequency to the carrier, as well as a sine wave 90 degrees out of phase. \n",
    "\n",
    "These waves are mixed in to the signal, and the result is passed through a discriminator function that returns the adjustment that the oscillator needs to remain aligned with the incoming wave. A low pass filter is applied to the discriminator to add stability. "
   ]
  },
  {
   "cell_type": "code",
   "execution_count": null,
   "metadata": {
    "collapsed": true
   },
   "outputs": [],
   "source": [
    "import numpy as np\n",
    "import matplotlib.pyplot as plt\n",
    "\n"
   ]
  },
  {
   "cell_type": "code",
   "execution_count": null,
   "metadata": {
    "collapsed": true
   },
   "outputs": [],
   "source": []
  }
 ],
 "metadata": {
  "kernelspec": {
   "display_name": "Python 3",
   "language": "python",
   "name": "python3"
  },
  "language_info": {
   "codemirror_mode": {
    "name": "ipython",
    "version": 3
   },
   "file_extension": ".py",
   "mimetype": "text/x-python",
   "name": "python",
   "nbconvert_exporter": "python",
   "pygments_lexer": "ipython3",
   "version": "3.5.2"
  }
 },
 "nbformat": 4,
 "nbformat_minor": 2
}
