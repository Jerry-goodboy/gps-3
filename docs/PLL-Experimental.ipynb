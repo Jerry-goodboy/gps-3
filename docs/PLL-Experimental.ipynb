{
 "cells": [
  {
   "cell_type": "markdown",
   "metadata": {
    "collapsed": true,
    "deletable": true,
    "editable": true
   },
   "source": [
    "# Second order PLL\n",
    "\n",
    "Reference pg175 of Tsui\n",
    "\n",
    "## Initialization of variables"
   ]
  },
  {
   "cell_type": "code",
   "execution_count": 28,
   "metadata": {
    "collapsed": false,
    "deletable": true,
    "editable": true
   },
   "outputs": [
    {
     "name": "stdout",
     "output_type": "stream",
     "text": [
      "1.0370666751536263e-08\n",
      "6.759697056306955e-14\n",
      "1.3032244865276326e-09\n",
      "4.247269214384406e-16\n"
     ]
    }
   ],
   "source": [
    "import numpy as np\n",
    "import control\n",
    "import controlsystems as cs\n",
    "from scipy import signal\n",
    "import matplotlib.pyplot as plt\n",
    "\n",
    "# Initializations\n",
    "\n",
    "phi_hat = 0.3      # phi_hat is the output phase \n",
    "freq_offset = 0.3\n",
    "delta_phi = 0.0    # delta_phi is the phase difference between the incomming signal and the VCO\n",
    "\n",
    "\n",
    "noise_power = 0\n",
    "noise_mean = 0\n",
    "\n",
    "\n",
    "Bnd = 1 #Hz\n",
    "Bnc = 20 #Hz\n",
    "Kd = 50\n",
    "Kc = 4 * np.pi * 100\n",
    "fs = 4092000\n",
    "ts = 1/fs\n",
    "N = fs       # Number of samples\n",
    "# These are just initializing some vectors for plotting\n",
    "ref = np.linspace(0, N, N)\n",
    "Zeta = 0.707\n",
    "wnc = (2*Bnc) / (Zeta + 1/(4*Zeta))\n",
    "wnd = (2*Bnd) / (Zeta + 1/(4*Zeta))\n",
    "\n",
    "carrC1 = (8*Zeta*wnc*ts) / (Kc*(4 + 4*Zeta*wnc*ts + (wnc*ts)**2))\n",
    "carrC2 = (4*(wnc*ts)**2) / (Kc*(4 + 4*Zeta*wnc*ts + (wnc*ts)**2))\n",
    "\n",
    "codeC1 = (8*Zeta*wnd*ts) / (Kd*(4 + 4*Zeta*wnd*ts + (wnd*ts)**2))\n",
    "codeC2 = (4*(wnd*ts)**2) / (Kd*(4 + 4*Zeta*wnd*ts + (wnd*ts)**2))\n",
    "\n",
    "print(carrC1)\n",
    "print(carrC2)\n",
    "print(codeC1)\n",
    "print(codeC2)"
   ]
  },
  {
   "cell_type": "markdown",
   "metadata": {
    "deletable": true,
    "editable": true
   },
   "source": [
    "# Create z-domain transfer functions H(z) "
   ]
  },
  {
   "cell_type": "code",
   "execution_count": 23,
   "metadata": {
    "collapsed": false,
    "deletable": true,
    "editable": true
   },
   "outputs": [
    {
     "name": "stdout",
     "output_type": "stream",
     "text": [
      "\n",
      "\n",
      "1.303e-05 z - 1.303e-05\n",
      "-----------------------\n",
      "     z^2 - 2 z + 1\n",
      "\n",
      "dt = 2.4437927663734114e-07\n",
      "\n",
      "\n",
      "\n",
      "6.516e-07 z - 6.516e-07\n",
      "-----------------------\n",
      "     z^2 - 2 z + 1\n",
      "\n",
      "dt = 2.4437927663734114e-07\n",
      "\n"
     ]
    }
   ],
   "source": [
    "carr_num = np.array([Kc*(carrC1 + carrC2),  -Kc*(carrC1)])\n",
    "carr_den = np.array([1, Kc*(carrC1 + carrC2) - 2, 1 - Kc*carrC1])\n",
    "\n",
    "code_num = np.array([Kd*(codeC1 + codeC2),  -Kd*(codeC1)])\n",
    "code_den = np.array([1, Kd*(codeC1 + codeC2) - 2, 1 - Kd*codeC1])\n",
    "\n",
    "carrH = control.tf(carr_num, carr_den, ts)\n",
    "print()\n",
    "print(carrH)\n",
    "\n",
    "codeH = control.tf(code_num, code_den, ts)\n",
    "print()\n",
    "print(codeH)"
   ]
  },
  {
   "cell_type": "markdown",
   "metadata": {
    "deletable": true,
    "editable": true
   },
   "source": [
    "# Create matrix representation of H(z)"
   ]
  },
  {
   "cell_type": "code",
   "execution_count": 24,
   "metadata": {
    "collapsed": false,
    "deletable": true,
    "editable": true
   },
   "outputs": [
    {
     "ename": "TypeError",
     "evalue": "data type not understood",
     "output_type": "error",
     "traceback": [
      "\u001b[0;31m---------------------------------------------------------------------------\u001b[0m",
      "\u001b[0;31mTypeError\u001b[0m                                 Traceback (most recent call last)",
      "\u001b[0;32m<ipython-input-24-78db95b349f7>\u001b[0m in \u001b[0;36m<module>\u001b[0;34m()\u001b[0m\n\u001b[0;32m----> 1\u001b[0;31m \u001b[0mcarrHmatrix\u001b[0m \u001b[0;34m=\u001b[0m \u001b[0mnp\u001b[0m\u001b[0;34m.\u001b[0m\u001b[0mmatrix\u001b[0m\u001b[0;34m(\u001b[0m\u001b[0mcarr_num\u001b[0m\u001b[0;34m,\u001b[0m \u001b[0mcarr_den\u001b[0m\u001b[0;34m)\u001b[0m\u001b[0;34m\u001b[0m\u001b[0m\n\u001b[0m\u001b[1;32m      2\u001b[0m \u001b[0mprint\u001b[0m\u001b[0;34m(\u001b[0m\u001b[0mcarr_num\u001b[0m\u001b[0;34m[\u001b[0m\u001b[0;36m1\u001b[0m\u001b[0;34m]\u001b[0m\u001b[0;34m)\u001b[0m\u001b[0;34m\u001b[0m\u001b[0m\n",
      "\u001b[0;32m/home/dwayne/.local/lib/python3.5/site-packages/numpy/matrixlib/defmatrix.py\u001b[0m in \u001b[0;36m__new__\u001b[0;34m(subtype, data, dtype, copy)\u001b[0m\n\u001b[1;32m    257\u001b[0m                 \u001b[0mintype\u001b[0m \u001b[0;34m=\u001b[0m \u001b[0mdata\u001b[0m\u001b[0;34m.\u001b[0m\u001b[0mdtype\u001b[0m\u001b[0;34m\u001b[0m\u001b[0m\n\u001b[1;32m    258\u001b[0m             \u001b[0;32melse\u001b[0m\u001b[0;34m:\u001b[0m\u001b[0;34m\u001b[0m\u001b[0m\n\u001b[0;32m--> 259\u001b[0;31m                 \u001b[0mintype\u001b[0m \u001b[0;34m=\u001b[0m \u001b[0mN\u001b[0m\u001b[0;34m.\u001b[0m\u001b[0mdtype\u001b[0m\u001b[0;34m(\u001b[0m\u001b[0mdtype\u001b[0m\u001b[0;34m)\u001b[0m\u001b[0;34m\u001b[0m\u001b[0m\n\u001b[0m\u001b[1;32m    260\u001b[0m             \u001b[0mnew\u001b[0m \u001b[0;34m=\u001b[0m \u001b[0mdata\u001b[0m\u001b[0;34m.\u001b[0m\u001b[0mview\u001b[0m\u001b[0;34m(\u001b[0m\u001b[0msubtype\u001b[0m\u001b[0;34m)\u001b[0m\u001b[0;34m\u001b[0m\u001b[0m\n\u001b[1;32m    261\u001b[0m             \u001b[0;32mif\u001b[0m \u001b[0mintype\u001b[0m \u001b[0;34m!=\u001b[0m \u001b[0mdata\u001b[0m\u001b[0;34m.\u001b[0m\u001b[0mdtype\u001b[0m\u001b[0;34m:\u001b[0m\u001b[0;34m\u001b[0m\u001b[0m\n",
      "\u001b[0;31mTypeError\u001b[0m: data type not understood"
     ]
    }
   ],
   "source": [
    "carrHmatrix = np.matrix(carr_num, carr_den)\n",
    "print(carr_num[1])"
   ]
  },
  {
   "cell_type": "markdown",
   "metadata": {
    "deletable": true,
    "editable": true
   },
   "source": [
    "# Calculate tau values"
   ]
  },
  {
   "cell_type": "code",
   "execution_count": 25,
   "metadata": {
    "collapsed": false,
    "deletable": true,
    "editable": true
   },
   "outputs": [
    {
     "name": "stdout",
     "output_type": "stream",
     "text": [
      "3615240.0706970966\n",
      "0.03749257218963831\n"
     ]
    }
   ],
   "source": [
    "tau1 = ts/carrC2\n",
    "tau2 = (2*tau1*carrC1 + ts)/2\n",
    "\n",
    "print(tau1)\n",
    "print(tau2)"
   ]
  },
  {
   "cell_type": "markdown",
   "metadata": {
    "deletable": true,
    "editable": true
   },
   "source": [
    "## Generate a sine wave to test with\n",
    "\n",
    "This block generates a simple sine wave which is set by the phi and freq_offset parameters. "
   ]
  },
  {
   "cell_type": "code",
   "execution_count": 26,
   "metadata": {
    "collapsed": false,
    "deletable": true,
    "editable": true
   },
   "outputs": [],
   "source": [
    "phi = 0.0              # Original signal phase\n",
    "def tstSignalGen(ref, phi, freq_offset):\n",
    "    signal = []       # Save the signal_in for plotting\n",
    "    for i in ref:\n",
    "\n",
    "        # Complex input signal\n",
    "        signal_in = np.cos(phi) + 1j*np.sin(phi)\n",
    "        phi += freq_offset\n",
    "\n",
    "        signal.append(signal_in) # Saved for plotting\n",
    "    return signal"
   ]
  },
  {
   "cell_type": "markdown",
   "metadata": {
    "deletable": true,
    "editable": true
   },
   "source": [
    "# Create input signal X(z)"
   ]
  },
  {
   "cell_type": "code",
   "execution_count": 29,
   "metadata": {
    "collapsed": false,
    "deletable": true,
    "editable": true
   },
   "outputs": [
    {
     "name": "stdout",
     "output_type": "stream",
     "text": [
      "\n",
      "1.303e-05 z + 1.303e-05\n",
      "-----------------------\n",
      "     z^2 - 2 z + 1\n",
      "\n",
      "dt = 2.4437927663734114e-07\n",
      "\n",
      "(3.2590431307706234e-06, None, None, 1.7320395202103638, None, None)\n",
      "4092000\n"
     ]
    }
   ],
   "source": [
    "#noise = np.random.normal(noise_mean, noise_power, N)\n",
    "inputsignal = np.array(tstSignalGen(ref, phi, freq_offset)) #+ noise\n",
    "\n",
    "carr_num = [Kc*(carrC1 + carrC2),  Kc*(carrC1)]\n",
    "carr_den = [1, Kc*(carrC1 + carrC2) - 2, 1 - Kc*carrC1]\n",
    "\n",
    "code_num = [Kd*(codeC1 + codeC2),  Kd*(codeC1)]\n",
    "code_den = [1, Kd*(codeC1 + codeC2) - 2, 1 - Kd*codeC1]\n",
    "\n",
    "X = control.tf(carr_num, carr_den, ts)\n",
    "print(X)\n",
    "\n",
    "margins = control.stability_margins(X, True)\n",
    "print(margins)\n",
    "#(T, yout, xout) = control.step_response(X, ref)\n",
    "print(len(ref))\n",
    "#lockedsig = phaseLock(inputsignal, phi_hat, delta_phi)"
   ]
  },
  {
   "cell_type": "markdown",
   "metadata": {
    "deletable": true,
    "editable": true
   },
   "source": [
    "# Calculate output by multiplying X(z)* H(z) = Y(z)\n"
   ]
  },
  {
   "cell_type": "code",
   "execution_count": 8,
   "metadata": {
    "collapsed": false,
    "deletable": true,
    "editable": true
   },
   "outputs": [
    {
     "name": "stdout",
     "output_type": "stream",
     "text": [
      "\n",
      "1.303e-05 z^3 - 1.514e-06 z^2 - 1.152e-05 z\n",
      "-------------------------------------------\n",
      "z^4 - 0.2323 z^3 - 1.535 z^2 - 0.2323 z + 1\n",
      "\n",
      "dt = 2.443792766373412e-07\n",
      "\n",
      "\n",
      "6.516e-07 z^3 - 7.569e-08 z^2 - 5.759e-07 z\n",
      "-------------------------------------------\n",
      "z^4 - 0.2323 z^3 - 1.535 z^2 - 0.2323 z + 1\n",
      "\n",
      "dt = 2.443792766373412e-07\n",
      "\n"
     ]
    }
   ],
   "source": [
    "carrY = X * carrH \n",
    "codeY = X * codeH\n",
    "\n",
    "print(carrY)\n",
    "print(codeY)\n"
   ]
  },
  {
   "cell_type": "code",
   "execution_count": null,
   "metadata": {
    "collapsed": false,
    "deletable": true,
    "editable": true
   },
   "outputs": [],
   "source": [
    "print(yout)"
   ]
  },
  {
   "cell_type": "markdown",
   "metadata": {
    "deletable": true,
    "editable": true
   },
   "source": [
    "# Convert output from z-domain to t-domain"
   ]
  },
  {
   "cell_type": "code",
   "execution_count": 9,
   "metadata": {
    "collapsed": false,
    "deletable": true,
    "editable": true
   },
   "outputs": [
    {
     "ename": "KeyboardInterrupt",
     "evalue": "",
     "output_type": "error",
     "traceback": [
      "\u001b[0;31m---------------------------------------------------------------------------\u001b[0m",
      "\u001b[0;31mKeyboardInterrupt\u001b[0m                         Traceback (most recent call last)",
      "\u001b[0;32m<ipython-input-9-b6795615587d>\u001b[0m in \u001b[0;36m<module>\u001b[0;34m()\u001b[0m\n\u001b[0;32m----> 1\u001b[0;31m \u001b[0mT\u001b[0m\u001b[0;34m,\u001b[0m \u001b[0myout\u001b[0m \u001b[0;34m=\u001b[0m \u001b[0mcontrol\u001b[0m\u001b[0;34m.\u001b[0m\u001b[0mimpulse_response\u001b[0m\u001b[0;34m(\u001b[0m\u001b[0mcarrH\u001b[0m\u001b[0;34m)\u001b[0m\u001b[0;34m\u001b[0m\u001b[0m\n\u001b[0m\u001b[1;32m      2\u001b[0m \u001b[0;34m\u001b[0m\u001b[0m\n\u001b[1;32m      3\u001b[0m \u001b[0;34m\u001b[0m\u001b[0m\n\u001b[1;32m      4\u001b[0m \u001b[0;31m#plt.plot(response, ts)\u001b[0m\u001b[0;34m\u001b[0m\u001b[0;34m\u001b[0m\u001b[0m\n\u001b[1;32m      5\u001b[0m \u001b[0;31m#plt.show()\u001b[0m\u001b[0;34m\u001b[0m\u001b[0;34m\u001b[0m\u001b[0m\n",
      "\u001b[0;32m/home/dwayne/.local/lib/python3.5/site-packages/control/timeresp.py\u001b[0m in \u001b[0;36mimpulse_response\u001b[0;34m(sys, T, X0, input, output, transpose, **keywords)\u001b[0m\n\u001b[1;32m    661\u001b[0m     T, yout, _xout = forced_response(\n\u001b[1;32m    662\u001b[0m         \u001b[0msys\u001b[0m\u001b[0;34m,\u001b[0m \u001b[0mT\u001b[0m\u001b[0;34m,\u001b[0m \u001b[0mU\u001b[0m\u001b[0;34m,\u001b[0m \u001b[0mnew_X0\u001b[0m\u001b[0;34m,\u001b[0m\u001b[0;34m\u001b[0m\u001b[0m\n\u001b[0;32m--> 663\u001b[0;31m         transpose=transpose, **keywords)\n\u001b[0m\u001b[1;32m    664\u001b[0m     \u001b[0;32mreturn\u001b[0m \u001b[0mT\u001b[0m\u001b[0;34m,\u001b[0m \u001b[0myout\u001b[0m\u001b[0;34m\u001b[0m\u001b[0m\n",
      "\u001b[0;32m/home/dwayne/.local/lib/python3.5/site-packages/control/timeresp.py\u001b[0m in \u001b[0;36mforced_response\u001b[0;34m(sys, T, U, X0, transpose, **keywords)\u001b[0m\n\u001b[1;32m    392\u001b[0m         \u001b[0;31m# Discrete time simulation using signal processing toolbox\u001b[0m\u001b[0;34m\u001b[0m\u001b[0;34m\u001b[0m\u001b[0m\n\u001b[1;32m    393\u001b[0m         \u001b[0mdsys\u001b[0m \u001b[0;34m=\u001b[0m \u001b[0;34m(\u001b[0m\u001b[0mA\u001b[0m\u001b[0;34m,\u001b[0m \u001b[0mB\u001b[0m\u001b[0;34m,\u001b[0m \u001b[0mC\u001b[0m\u001b[0;34m,\u001b[0m \u001b[0mD\u001b[0m\u001b[0;34m,\u001b[0m \u001b[0msys\u001b[0m\u001b[0;34m.\u001b[0m\u001b[0mdt\u001b[0m\u001b[0;34m)\u001b[0m\u001b[0;34m\u001b[0m\u001b[0m\n\u001b[0;32m--> 394\u001b[0;31m         \u001b[0mtout\u001b[0m\u001b[0;34m,\u001b[0m \u001b[0myout\u001b[0m\u001b[0;34m,\u001b[0m \u001b[0mxout\u001b[0m \u001b[0;34m=\u001b[0m \u001b[0msp\u001b[0m\u001b[0;34m.\u001b[0m\u001b[0msignal\u001b[0m\u001b[0;34m.\u001b[0m\u001b[0mdlsim\u001b[0m\u001b[0;34m(\u001b[0m\u001b[0mdsys\u001b[0m\u001b[0;34m,\u001b[0m \u001b[0mU\u001b[0m\u001b[0;34m,\u001b[0m \u001b[0mT\u001b[0m\u001b[0;34m,\u001b[0m \u001b[0mX0\u001b[0m\u001b[0;34m)\u001b[0m\u001b[0;34m\u001b[0m\u001b[0m\n\u001b[0m\u001b[1;32m    395\u001b[0m \u001b[0;34m\u001b[0m\u001b[0m\n\u001b[1;32m    396\u001b[0m     \u001b[0;31m# See if we need to transpose the data back into MATLAB form\u001b[0m\u001b[0;34m\u001b[0m\u001b[0;34m\u001b[0m\u001b[0m\n",
      "\u001b[0;32m/home/dwayne/.local/lib/python3.5/site-packages/scipy/signal/ltisys.py\u001b[0m in \u001b[0;36mdlsim\u001b[0;34m(system, u, t, x0)\u001b[0m\n\u001b[1;32m   3334\u001b[0m                         np.dot(system.B, u_dt[i, :]))\n\u001b[1;32m   3335\u001b[0m         yout[i, :] = (np.dot(system.C, xout[i, :]) +\n\u001b[0;32m-> 3336\u001b[0;31m                       np.dot(system.D, u_dt[i, :]))\n\u001b[0m\u001b[1;32m   3337\u001b[0m \u001b[0;34m\u001b[0m\u001b[0m\n\u001b[1;32m   3338\u001b[0m     \u001b[0;31m# Last point\u001b[0m\u001b[0;34m\u001b[0m\u001b[0;34m\u001b[0m\u001b[0m\n",
      "\u001b[0;31mKeyboardInterrupt\u001b[0m: "
     ]
    }
   ],
   "source": [
    "T, yout = control.impulse_response(carrH)\n",
    "\n",
    "\n",
    "#plt.plot(response, ts)\n",
    "#plt.show()"
   ]
  },
  {
   "cell_type": "markdown",
   "metadata": {
    "deletable": true,
    "editable": true
   },
   "source": [
    "# Plot real & imaginary outputs"
   ]
  },
  {
   "cell_type": "code",
   "execution_count": null,
   "metadata": {
    "collapsed": false,
    "deletable": true,
    "editable": true,
    "scrolled": true
   },
   "outputs": [],
   "source": [
    "#plt.subplot(2, 1, 1)\n",
    "plt.plot(ref, np.real(inputsignal), color = 'lightblue')\n",
    "#plt.plot(ref, np.real(lockedsig), color = 'firebrick')\n",
    "\n",
    "\n",
    "\n",
    "#plt.subplot(2, 1, 2)\n",
    "#plt.plot(ref, np.imag(lockedsig))\n",
    "#plt.xlabel(\"Samples\")\n",
    "\n",
    "#plt.ylabel(\"Amplitude\")\n",
    "plt.show()"
   ]
  },
  {
   "cell_type": "markdown",
   "metadata": {
    "deletable": true,
    "editable": true
   },
   "source": [
    "## 2 signal comparison\n",
    "\n",
    "Tested 2 different signals for direct comparison"
   ]
  },
  {
   "cell_type": "code",
   "execution_count": null,
   "metadata": {
    "collapsed": false,
    "deletable": true,
    "editable": true
   },
   "outputs": [],
   "source": [
    "in1 = tstSignalGen(ref, 0.0, 0.4)\n",
    "in2 = tstSignalGen(ref, 0.0, 0.09)\n",
    "\n",
    "lock1 = phaseLock(in1, phi_hat, delta_phi)\n",
    "lock2 = phaseLock(in2, phi_hat, delta_phi)"
   ]
  },
  {
   "cell_type": "code",
   "execution_count": null,
   "metadata": {
    "collapsed": false,
    "deletable": true,
    "editable": true
   },
   "outputs": [],
   "source": [
    "plt.plot(np.real(in1))\n",
    "plt.plot(np.real(lock1))\n",
    "plt.show()\n",
    "plt.plot(np.real(in2))\n",
    "plt.plot(ref, np.real(lock2))\n",
    "plt.show()\n",
    "\n"
   ]
  },
  {
   "cell_type": "code",
   "execution_count": null,
   "metadata": {
    "collapsed": true,
    "deletable": true,
    "editable": true
   },
   "outputs": [],
   "source": []
  },
  {
   "cell_type": "code",
   "execution_count": null,
   "metadata": {
    "collapsed": true,
    "deletable": true,
    "editable": true
   },
   "outputs": [],
   "source": []
  }
 ],
 "metadata": {
  "kernelspec": {
   "display_name": "Python 3",
   "language": "python",
   "name": "python3"
  },
  "language_info": {
   "codemirror_mode": {
    "name": "ipython",
    "version": 3
   },
   "file_extension": ".py",
   "mimetype": "text/x-python",
   "name": "python",
   "nbconvert_exporter": "python",
   "pygments_lexer": "ipython3",
   "version": "3.5.2"
  }
 },
 "nbformat": 4,
 "nbformat_minor": 2
}
