{
 "cells": [
  {
   "cell_type": "code",
   "execution_count": null,
   "metadata": {
    "collapsed": true
   },
   "outputs": [],
   "source": [
    "## Initialization of variables"
   ]
  },
  {
   "cell_type": "code",
   "execution_count": null,
   "metadata": {
    "collapsed": true
   },
   "outputs": [],
   "source": [
    "# Initializations\n",
    "    def __init__(self, omega_n):\n",
    "        self.phi_hat = 0.0      # phi_hat is the output phase \n",
    "        self.delta_phi = 0.0    # delta_phi is the phase difference between the incomming signal and the VCO\n",
    "        self.wn = omega_n\n",
    "        self.wn = 0.01          # wn is omega_n, pll bandwidth\n",
    "        self.zeta = 0.707       # Damping factor of the loop\n",
    "        self.K = 1000           # K = loop gain, which I assume can be chosen, but this is a sample value\n",
    "        \n",
    "        # These are just initializing some vectors for plotting\n",
    "        self.ref = []\n",
    "        self.out = []\n",
    "        \n",
    "        \n",
    "        # The ax, tx, and bx variables are for the loop parameters. Using feedback theory I derived (ok, I stole)\n",
    "        # an equation in the form (a0*z^-1 + a1*z^-1 + a2*z^-1)/(b0*z^-1 + b1*z^-1 + b2*z^-1). tx are just other\n",
    "        # ways of expressing the variables wn, zeta, and K\n",
    "        self.a0 = 1.0\n",
    "        self.a1 = -2.0\n",
    "        self.a2 = 1.0\n",
    "\n",
    "        self.t1 = K/(wn*wn)     # tau_1\n",
    "        self.t2 = 2*zeta/wn     # tau_2\n",
    "\n",
    "        self.b0 = (4*K/t1) * (1.0+t2/2.0)\n",
    "        self.b1 = 8*K/t1\n",
    "        self.b2 = (4*K/t1) * (1.0-t2/2.0)\n",
    "        \n",
    "        \n",
    "        # In order for the filter desing to work a buffer is needed to cycle values through\n",
    "        self.v0 = 0.0           # Buffer for the filter values\n",
    "        self.v1 = 0.0           # Buffer for the filter values\n",
    "        self.v2 = 0.0           # Buffer for the filter values"
   ]
  },
  {
   "cell_type": "code",
   "execution_count": null,
   "metadata": {
    "collapsed": true
   },
   "outputs": [],
   "source": [
    "## Output to plot"
   ]
  },
  {
   "cell_type": "code",
   "execution_count": null,
   "metadata": {
    "collapsed": true
   },
   "outputs": [],
   "source": [
    "# Plotting data method    \n",
    "    def plot_data(self, signal_in, vco):\n",
    "        for i in range(400):\n",
    "            self.ref = ref.append(signal_in)\n",
    "            self.out = out.append(vco)\n",
    "        if i == 400:\n",
    "            plt.plot(ref)\n",
    "            plt.plot(out)\n",
    "            #plt.plot(diff)\n",
    "            plt.show()"
   ]
  },
  {
   "cell_type": "code",
   "execution_count": null,
   "metadata": {
    "collapsed": true
   },
   "outputs": [],
   "source": [
    "## Updating the phase difference"
   ]
  },
  {
   "cell_type": "code",
   "execution_count": null,
   "metadata": {
    "collapsed": true
   },
   "outputs": [],
   "source": [
    "# The angle difference (delta_phi) and VCO angle (phi_hat) update method\n",
    "    def update_delta_phi(self, delta_phi):\n",
    "        self.v2 = self.v1\n",
    "        self.v1 = self.v0\n",
    "        self.v0 = self.delta_phi - self.v1*self.a1 - self.v2*self.a2\n",
    "        self.phi_hat = self.v0*self.b0 + self.v1*self.b1 + self.v2*self.b2\n"
   ]
  },
  {
   "cell_type": "markdown",
   "metadata": {},
   "source": [
    "## Main portion of the code"
   ]
  },
  {
   "cell_type": "code",
   "execution_count": null,
   "metadata": {
    "collapsed": true
   },
   "outputs": [],
   "source": [
    "# Main portion of the code\n",
    "def Costas(self, signal_in):\n",
    "    pll = Costas_Loop()\n",
    "    import matplotlib.pyplot as plt\n",
    "    for i in range(400):\n",
    "        self.phi = 0.0              # Original signal phase\n",
    "        self.signal_in = np.exp = (1j*self.phi) # Complex input signal\n",
    "        self.vco = np.exp(1j*self.phi_hat) # Complex oscillator signal\n",
    "        self.delta_phi = np.angle(self.signal_in*np.conj(self.vco))\n",
    "        self.plot_data(self.signal_in, self.vco)\n",
    "        self.update_delta_phi(delta_phi)"
   ]
  }
 ],
 "metadata": {
  "kernelspec": {
   "display_name": "Python 3",
   "language": "python",
   "name": "python3"
  },
  "language_info": {
   "codemirror_mode": {
    "name": "ipython",
    "version": 3
   },
   "file_extension": ".py",
   "mimetype": "text/x-python",
   "name": "python",
   "nbconvert_exporter": "python",
   "pygments_lexer": "ipython3",
   "version": "3.5.2"
  }
 },
 "nbformat": 4,
 "nbformat_minor": 2
}
