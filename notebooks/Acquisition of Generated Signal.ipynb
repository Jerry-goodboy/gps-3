{
 "cells": [
  {
   "cell_type": "markdown",
   "metadata": {
    "deletable": true,
    "editable": true
   },
   "source": [
    "# Satellite Acquisition\n",
    "\n",
    "**BEFORE RUNNING THIS CODE:\n",
    "test.bin needs to be generated using gps-sdr-sim, using the command below. https://github.com/osqzss/gps-sdr-sim The brdc2000.15n file is from: ftp://cddis.gsfc.nasa.gov/gnss/data/daily/\n",
    "\n",
    "This notebook demonstrates the satellite acquisition proccess, in which we determine which satellites are overhead. This code implements the parallel code phase search algorithm, which is the most complex of those available, but is also the fastest since it returns a result in just one iteration. It is possible that we will need to use a different algorithm when the code is running on an embedded platform.\n",
    "\n",
    "As noted in the L-12 GPS data README, the sampling frequency is 4.092 MHz. and the IF is 0. Also note that the L1 signal hits the antenna at the 1.57542 GHz frequency (10.23 MHz x 154). This is dealt with by the hardware frontend, so we only have to concern ourselves with the 1.023 MHz BPSK modulated C/A code.\n",
    "\n",
    "## Preamble"
   ]
  },
  {
   "cell_type": "code",
   "execution_count": 14,
   "metadata": {
    "collapsed": false,
    "deletable": true,
    "editable": true
   },
   "outputs": [],
   "source": [
    "import numpy as np\n",
    "import matplotlib.pyplot as plt\n",
    "import struct\n",
    "import math\n",
    "import heapq\n",
    "\n",
    "##Grabs the GoldCode module from the root of the repo\n",
    "import os\n",
    "import sys\n",
    "nb_dir = os.path.split(os.getcwd())[0]\n",
    "if nb_dir not in sys.path:\n",
    "    sys.path.append(nb_dir)\n",
    "from GoldCode import GoldCode\n",
    "from GPSData import IQData"
   ]
  },
  {
   "cell_type": "markdown",
   "metadata": {
    "deletable": true,
    "editable": true
   },
   "source": [
    "## Import data File\n",
    "\n",
    "test.bin needs to be generated using gps-sdr-sim, using the command below. \n",
    "https://github.com/osqzss/gps-sdr-sim\n",
    "The brdc2000.15n file is from: \n",
    "ftp://cddis.gsfc.nasa.gov/gnss/data/daily/"
   ]
  },
  {
   "cell_type": "code",
   "execution_count": 15,
   "metadata": {
    "collapsed": false,
    "deletable": true,
    "editable": true
   },
   "outputs": [
    {
     "name": "stdout",
     "output_type": "stream",
     "text": [
      "Opening a file.\n"
     ]
    },
    {
     "ename": "FileNotFoundError",
     "evalue": "[Errno 2] No such file or directory: '../../gps-sdr-sim/test.bin'",
     "output_type": "error",
     "traceback": [
      "\u001b[0;31m---------------------------------------------------------------------------\u001b[0m",
      "\u001b[0;31mFileNotFoundError\u001b[0m                         Traceback (most recent call last)",
      "\u001b[0;32m<ipython-input-15-747a8cd88e44>\u001b[0m in \u001b[0;36m<module>\u001b[0;34m()\u001b[0m\n\u001b[1;32m      5\u001b[0m \u001b[0;31m# In[2]:\u001b[0m\u001b[0;34m\u001b[0m\u001b[0;34m\u001b[0m\u001b[0m\n\u001b[1;32m      6\u001b[0m \u001b[0mprint\u001b[0m\u001b[0;34m(\u001b[0m\u001b[0;34m\"Opening a file.\"\u001b[0m\u001b[0;34m)\u001b[0m\u001b[0;34m\u001b[0m\u001b[0m\n\u001b[0;32m----> 7\u001b[0;31m \u001b[0mfHandle\u001b[0m \u001b[0;34m=\u001b[0m \u001b[0mopen\u001b[0m\u001b[0;34m(\u001b[0m\u001b[0;34m'../../gps-sdr-sim/test.bin'\u001b[0m\u001b[0;34m,\u001b[0m\u001b[0;34m'rb'\u001b[0m\u001b[0;34m)\u001b[0m\u001b[0;34m\u001b[0m\u001b[0m\n\u001b[0m\u001b[1;32m      8\u001b[0m \u001b[0mI1\u001b[0m \u001b[0;34m=\u001b[0m \u001b[0mfHandle\u001b[0m\u001b[0;34m.\u001b[0m\u001b[0mread\u001b[0m\u001b[0;34m(\u001b[0m\u001b[0;36m1\u001b[0m\u001b[0;34m)\u001b[0m\u001b[0;34m\u001b[0m\u001b[0m\n\u001b[1;32m      9\u001b[0m \u001b[0mQ1\u001b[0m \u001b[0;34m=\u001b[0m \u001b[0mfHandle\u001b[0m\u001b[0;34m.\u001b[0m\u001b[0mread\u001b[0m\u001b[0;34m(\u001b[0m\u001b[0;36m1\u001b[0m\u001b[0;34m)\u001b[0m\u001b[0;34m\u001b[0m\u001b[0m\n",
      "\u001b[0;31mFileNotFoundError\u001b[0m: [Errno 2] No such file or directory: '../../gps-sdr-sim/test.bin'"
     ]
    }
   ],
   "source": [
    "# ## Import data File\n",
    "# Generated from gps-sdr-sim using the command: \n",
    "#  ./gps-sdr-sim -e brdc2000.15n -l 43.798582,-120.648512,10.0 -t 2015/07/19,11:17:11 -s 4092000 -d 1 -b 8 -o test.bin\n",
    "\n",
    "# In[2]:\n",
    "print(\"Opening a file.\")\n",
    "fHandle = open('../../gps-sdr-sim/test.bin','rb')\n",
    "I1 = fHandle.read(1)\n",
    "Q1 = fHandle.read(1)\n",
    "print(I1)\n",
    "print(Q1)\n",
    "print(int.from_bytes(I1, byteorder='big', signed=True))\n",
    "print(int.from_bytes(Q1, byteorder='big', signed=True))\n",
    "\n",
    "i = 1\n",
    "ms = 10\n",
    "IData = []\n",
    "QData = []\n",
    "while I1 != \"\":\n",
    "    IData.append(int.from_bytes(I1, byteorder='big', signed=True))\n",
    "    QData.append(int.from_bytes(Q1, byteorder='big', signed=True))\n",
    "    I1 = fHandle.read(1)\n",
    "    Q1 = fHandle.read(1)\n",
    "    i = i+1\n",
    "    if i > ms*4092:\n",
    "        break\n",
    "fHandle.close()\n",
    "print(\"File is now closed.\")\n",
    "\n",
    "fs = 4097000\n",
    "t = np.linspace(0,1,len(IData),endpoint=True) \n",
    "print(t)\n",
    "CData = np.zeros(len(IData), dtype=np.complex)\n",
    "CData = np.array(IData) + 1j*np.array(QData)"
   ]
  },
  {
   "cell_type": "markdown",
   "metadata": {
    "deletable": true,
    "editable": true
   },
   "source": [
    "# View Complex Data Spectrum\n",
    "\n",
    "We need to take the fft of the IQ datastream."
   ]
  },
  {
   "cell_type": "code",
   "execution_count": 16,
   "metadata": {
    "collapsed": false,
    "deletable": true,
    "editable": true
   },
   "outputs": [
    {
     "ename": "NameError",
     "evalue": "name 'CData' is not defined",
     "output_type": "error",
     "traceback": [
      "\u001b[0;31m---------------------------------------------------------------------------\u001b[0m",
      "\u001b[0;31mNameError\u001b[0m                                 Traceback (most recent call last)",
      "\u001b[0;32m<ipython-input-16-7603636dfef2>\u001b[0m in \u001b[0;36m<module>\u001b[0;34m()\u001b[0m\n\u001b[1;32m      1\u001b[0m \u001b[0;31m# Since we are using circular-convolution, nfft must be equal to the number of samples\u001b[0m\u001b[0;34m\u001b[0m\u001b[0;34m\u001b[0m\u001b[0m\n\u001b[0;32m----> 2\u001b[0;31m \u001b[0mnfft\u001b[0m \u001b[0;34m=\u001b[0m \u001b[0mlen\u001b[0m\u001b[0;34m(\u001b[0m\u001b[0mCData\u001b[0m\u001b[0;34m)\u001b[0m\u001b[0;34m\u001b[0m\u001b[0m\n\u001b[0m\u001b[1;32m      3\u001b[0m \u001b[0mdeltaFreq\u001b[0m \u001b[0;34m=\u001b[0m \u001b[0mfs\u001b[0m\u001b[0;34m/\u001b[0m\u001b[0mnfft\u001b[0m\u001b[0;34m\u001b[0m\u001b[0m\n\u001b[1;32m      4\u001b[0m \u001b[0mprint\u001b[0m\u001b[0;34m(\u001b[0m\u001b[0;34m\"Calculated deltaFreq: %f [Hz]\"\u001b[0m \u001b[0;34m%\u001b[0m\u001b[0;34m(\u001b[0m\u001b[0mdeltaFreq\u001b[0m\u001b[0;34m)\u001b[0m\u001b[0;34m)\u001b[0m\u001b[0;34m\u001b[0m\u001b[0m\n\u001b[1;32m      5\u001b[0m \u001b[0;34m\u001b[0m\u001b[0m\n",
      "\u001b[0;31mNameError\u001b[0m: name 'CData' is not defined"
     ]
    }
   ],
   "source": [
    "# Since we are using circular-convolution, nfft must be equal to the number of samples\n",
    "nfft = len(CData)\n",
    "deltaFreq = fs/nfft\n",
    "print(\"Calculated deltaFreq: %f [Hz]\" %(deltaFreq))\n",
    "\n",
    "# Generate frequency lists for plotting fft\n",
    "# Can use f for regular fft and fshift for shifted version\n",
    "fs_kHz = fs/1000 #Make easier to read\n",
    "f = np.linspace (0,fs_kHz,nfft, endpoint=False)\n",
    "fshift = np.linspace(-fs_kHz/2,fs_kHz/2,nfft,endpoint=False)\n",
    "\n",
    "SampleLength = ms*10**(-3)\n",
    "t = np.linspace(0,SampleLength,nfft,endpoint=True) \n",
    "# Reference data size section of book to pick the len param. Should be based sample rate\n",
    "ffC = np.fft.fft(CData, nfft)"
   ]
  },
  {
   "cell_type": "markdown",
   "metadata": {
    "deletable": true,
    "editable": true
   },
   "source": [
    "# Plot output"
   ]
  },
  {
   "cell_type": "code",
   "execution_count": 17,
   "metadata": {
    "collapsed": false,
    "deletable": true,
    "editable": true
   },
   "outputs": [
    {
     "ename": "NameError",
     "evalue": "name 'f' is not defined",
     "output_type": "error",
     "traceback": [
      "\u001b[0;31m---------------------------------------------------------------------------\u001b[0m",
      "\u001b[0;31mNameError\u001b[0m                                 Traceback (most recent call last)",
      "\u001b[0;32m<ipython-input-17-6618ac777b1d>\u001b[0m in \u001b[0;36m<module>\u001b[0;34m()\u001b[0m\n\u001b[0;32m----> 1\u001b[0;31m \u001b[0mplt\u001b[0m\u001b[0;34m.\u001b[0m\u001b[0mplot\u001b[0m\u001b[0;34m(\u001b[0m\u001b[0mf\u001b[0m\u001b[0;34m,\u001b[0m \u001b[0mnp\u001b[0m\u001b[0;34m.\u001b[0m\u001b[0mabs\u001b[0m\u001b[0;34m(\u001b[0m\u001b[0mffC\u001b[0m\u001b[0;34m)\u001b[0m\u001b[0;34m)\u001b[0m\u001b[0;34m\u001b[0m\u001b[0m\n\u001b[0m\u001b[1;32m      2\u001b[0m \u001b[0;34m\u001b[0m\u001b[0m\n\u001b[1;32m      3\u001b[0m \u001b[0mplt\u001b[0m\u001b[0;34m.\u001b[0m\u001b[0mtitle\u001b[0m\u001b[0;34m(\u001b[0m\u001b[0;34m\"FFT of Complex Data\"\u001b[0m\u001b[0;34m)\u001b[0m\u001b[0;34m\u001b[0m\u001b[0m\n\u001b[1;32m      4\u001b[0m \u001b[0mplt\u001b[0m\u001b[0;34m.\u001b[0m\u001b[0mxlabel\u001b[0m\u001b[0;34m(\u001b[0m\u001b[0;34m\"Frequency (kHz)\"\u001b[0m\u001b[0;34m)\u001b[0m\u001b[0;34m\u001b[0m\u001b[0m\n\u001b[1;32m      5\u001b[0m \u001b[0mplt\u001b[0m\u001b[0;34m.\u001b[0m\u001b[0mshow\u001b[0m\u001b[0;34m(\u001b[0m\u001b[0;34m)\u001b[0m\u001b[0;34m\u001b[0m\u001b[0m\n",
      "\u001b[0;31mNameError\u001b[0m: name 'f' is not defined"
     ]
    }
   ],
   "source": [
    "plt.plot(f, np.abs(ffC))\n",
    "\n",
    "plt.title(\"FFT of Complex Data\")\n",
    "plt.xlabel(\"Frequency (kHz)\")\n",
    "plt.show()"
   ]
  },
  {
   "cell_type": "markdown",
   "metadata": {
    "deletable": true,
    "editable": true
   },
   "source": [
    "# Get a Gold Code\n",
    "\n",
    "- Gold Code must be generated as though it were sampled at the sampling rate\n",
    "- 1023 chips that must take 1ms to pass through (due to chipping rate)\n",
    "- We are sampling @ 4.092 MHz\n",
    "- So we need the GC to repeat each chip 4 times before going to the next chip.\n",
    "- The numpy.repeat() function does this exactly\n",
    "\n",
    "## SVs in this data:\n",
    "\n",
    "The satellites are: \n",
    "Start time = 2015/07/19,11:17:11 (1854:40631)\n",
    "\n",
    "sat|  ?    |  ?   |   ?         | ?\n",
    "---|-------|------|-------------|-----\n",
    "01 | 209.8 | 14.0 | 24397817.3  | 3.7\n",
    "03 | 219.7 | 77.1 | 20309263.6  | 1.5\n",
    "06 | 317.5 | 14.0 | 24309631.9  | 3.7\n",
    "07 | 227.3 |  1.9 | 25733447.1  | 4.9\n",
    "09 | 284.7 | 25.1 | 23238199.5  | 2.9\n",
    "16 | 136.5 | 31.5 | 22442996.6  | 2.6\n",
    "23 | 300.5 | 59.6 | 21068804.2  | 1.7\n",
    "26 |  99.5 | 40.9 | 21945145.6  | 2.2\n",
    "31 |  49.8 | 31.8 | 22795607.4  | 2.6\n",
    "32 | 147.0 | 43.2 | 22071954.8  | 2.1\n"
   ]
  },
  {
   "cell_type": "code",
   "execution_count": 18,
   "metadata": {
    "collapsed": false,
    "deletable": true,
    "editable": true,
    "scrolled": true
   },
   "outputs": [
    {
     "name": "stdout",
     "output_type": "stream",
     "text": [
      "Satellite chosen: 15, with tap: (7, 8)\n"
     ]
    },
    {
     "ename": "NameError",
     "evalue": "name 'SampleLength' is not defined",
     "output_type": "error",
     "traceback": [
      "\u001b[0;31m---------------------------------------------------------------------------\u001b[0m",
      "\u001b[0;31mNameError\u001b[0m                                 Traceback (most recent call last)",
      "\u001b[0;32m<ipython-input-18-f69dd7c05ae1>\u001b[0m in \u001b[0;36m<module>\u001b[0;34m()\u001b[0m\n\u001b[1;32m     24\u001b[0m \u001b[0;34m\u001b[0m\u001b[0m\n\u001b[1;32m     25\u001b[0m \u001b[0;31m# Repeat entire array for each ms of data sampled\u001b[0m\u001b[0;34m\u001b[0m\u001b[0;34m\u001b[0m\u001b[0m\n\u001b[0;32m---> 26\u001b[0;31m \u001b[0mCACodeSampled\u001b[0m \u001b[0;34m=\u001b[0m \u001b[0mnp\u001b[0m\u001b[0;34m.\u001b[0m\u001b[0mtile\u001b[0m\u001b[0;34m(\u001b[0m\u001b[0mCACodeSampled\u001b[0m\u001b[0;34m,\u001b[0m\u001b[0mint\u001b[0m\u001b[0;34m(\u001b[0m\u001b[0mSampleLength\u001b[0m\u001b[0;34m*\u001b[0m\u001b[0;36m1000\u001b[0m\u001b[0;34m)\u001b[0m\u001b[0;34m)\u001b[0m\u001b[0;34m\u001b[0m\u001b[0m\n\u001b[0m\u001b[1;32m     27\u001b[0m \u001b[0mprint\u001b[0m\u001b[0;34m(\u001b[0m\u001b[0mlen\u001b[0m\u001b[0;34m(\u001b[0m\u001b[0mCACodeSampled\u001b[0m\u001b[0;34m)\u001b[0m\u001b[0;34m)\u001b[0m\u001b[0;34m\u001b[0m\u001b[0m\n",
      "\u001b[0;31mNameError\u001b[0m: name 'SampleLength' is not defined"
     ]
    }
   ],
   "source": [
    "#code = np.repeat(CodeGen.getCode(1023), 4)\n",
    "\n",
    "#Choose which satellite's C/A code is generated\n",
    "Satellite = 15\n",
    "\n",
    "# Create list of C/A code Taps, for simpler sat selection\",\n",
    "#sat = [(2,6),(3,7),(4,8),(5,9),(1,9),(2,6),(1,8),(2,9),(3,10),(2,3),(3,4),(5,6),(6,7),(7,8),(8,9),(9,10),(1,4),(2,5),(3,6),(4,7),(5,8),(6,9),(1,3),(4,6),(5,7),(6,8),(7,9),(8,10),(1,6),(2,7),(3,8),(4,9),(5,10),(4,10),(1,7),(2,8),(4,10)]\n",
    "sat = [(1,5),(2,6),(3,7),(4,8),(0,8),(1,5),(0,7),(1,8),(2,9),(1,2),(2,3),(4,5),(5,6),(6,7),(7,8),(8,9),(0,3),(1,4),(2,5),(3,6),(4,7),(5,8),(0,2),(3,5),(4,6),(5,7),(6,8),(7,9),(0,5),(1,6),(2,7),(3,8),(4,9),(3,9),(0,6),(1,7),(3,9)]\n",
    "\n",
    "# Create Code Generator object for chosen Satellite\n",
    "CodeGen = GoldCode(sat[Satellite - 1]) # Index starts at zero\n",
    "\n",
    "# Generate CA Code\n",
    "CACode = CodeGen.getCode(1023)\n",
    "\n",
    "# Reformat GC to have -1 in place of 0 (Now done in GoldCode)\n",
    "#for n,i in enumerate(CACode):\n",
    "#    if i==0:\n",
    "#        CACode[n]=-1\n",
    "        \n",
    "# Repeat each chip 4 times (See markdown in above cell), to match our ADC sample frequency\",\n",
    "CACodeSampled = np.repeat(CACode,4)\n",
    "print(\"Satellite chosen: %d, with tap: %s\" %(Satellite,str(sat[Satellite - 1])))\n",
    "\n",
    "# Repeat entire array for each ms of data sampled\n",
    "CACodeSampled = np.tile(CACodeSampled,int(SampleLength*1000))\n",
    "print(len(CACodeSampled))"
   ]
  },
  {
   "cell_type": "code",
   "execution_count": 19,
   "metadata": {
    "collapsed": false,
    "deletable": true,
    "editable": true,
    "scrolled": true
   },
   "outputs": [
    {
     "ename": "NameError",
     "evalue": "name 'nfft' is not defined",
     "output_type": "error",
     "traceback": [
      "\u001b[0;31m---------------------------------------------------------------------------\u001b[0m",
      "\u001b[0;31mNameError\u001b[0m                                 Traceback (most recent call last)",
      "\u001b[0;32m<ipython-input-19-4bf1548c4c7b>\u001b[0m in \u001b[0;36m<module>\u001b[0;34m()\u001b[0m\n\u001b[0;32m----> 1\u001b[0;31m \u001b[0mCodefft\u001b[0m \u001b[0;34m=\u001b[0m \u001b[0mnp\u001b[0m\u001b[0;34m.\u001b[0m\u001b[0mfft\u001b[0m\u001b[0;34m.\u001b[0m\u001b[0mfft\u001b[0m\u001b[0;34m(\u001b[0m\u001b[0mCACodeSampled\u001b[0m\u001b[0;34m,\u001b[0m \u001b[0mnfft\u001b[0m\u001b[0;34m)\u001b[0m\u001b[0;34m\u001b[0m\u001b[0m\n\u001b[0m\u001b[1;32m      2\u001b[0m \u001b[0;34m\u001b[0m\u001b[0m\n\u001b[1;32m      3\u001b[0m \u001b[0mplt\u001b[0m\u001b[0;34m.\u001b[0m\u001b[0mplot\u001b[0m\u001b[0;34m(\u001b[0m\u001b[0mf\u001b[0m\u001b[0;34m,\u001b[0m \u001b[0mnp\u001b[0m\u001b[0;34m.\u001b[0m\u001b[0mabs\u001b[0m\u001b[0;34m(\u001b[0m\u001b[0mCodefft\u001b[0m\u001b[0;34m)\u001b[0m\u001b[0;34m)\u001b[0m\u001b[0;34m\u001b[0m\u001b[0m\n\u001b[1;32m      4\u001b[0m \u001b[0mplt\u001b[0m\u001b[0;34m.\u001b[0m\u001b[0mtitle\u001b[0m\u001b[0;34m(\u001b[0m\u001b[0;34m\"FFT of Gold Code\"\u001b[0m\u001b[0;34m)\u001b[0m\u001b[0;34m\u001b[0m\u001b[0m\n\u001b[1;32m      5\u001b[0m \u001b[0mplt\u001b[0m\u001b[0;34m.\u001b[0m\u001b[0mxlabel\u001b[0m\u001b[0;34m(\u001b[0m\u001b[0;34m\"Frequency (kHz)\"\u001b[0m\u001b[0;34m)\u001b[0m\u001b[0;34m\u001b[0m\u001b[0m\n",
      "\u001b[0;31mNameError\u001b[0m: name 'nfft' is not defined"
     ]
    }
   ],
   "source": [
    "Codefft = np.fft.fft(CACodeSampled, nfft)\n",
    "\n",
    "plt.plot(f, np.abs(Codefft))\n",
    "plt.title(\"FFT of Gold Code\")\n",
    "plt.xlabel(\"Frequency (kHz)\")\n",
    "plt.show()"
   ]
  },
  {
   "cell_type": "markdown",
   "metadata": {
    "deletable": true,
    "editable": true
   },
   "source": [
    "## Function to find second largest value"
   ]
  },
  {
   "cell_type": "code",
   "execution_count": 20,
   "metadata": {
    "collapsed": false,
    "deletable": true,
    "editable": true
   },
   "outputs": [],
   "source": [
    "# This will return second largest value\n",
    "# It will also ignore any value that is close to the second largest value\n",
    "def GetSecondLargest(DataList):\n",
    "    # Make sure is a numpy array\n",
    "    DataArray = np.array(DataList)\n",
    "    \n",
    "    # Find largest value\n",
    "    Largest = np.amax(DataArray)\n",
    "    LargestIndex = np.argmax(DataArray)\n",
    "#    print(\"Largest value: %f, at position: %d\"%(Largest,LargestIndex))\n",
    "    \n",
    "    # Reduce value by a percent to prevent near-identical values from being selected\n",
    "    ScaleAmount = 0.95\n",
    "    ScaledLargest = ScaleAmount*Largest\n",
    "    SecondLargest = 0\n",
    "    SecondLargestIndex = 0\n",
    "    \n",
    "    for ind,val in enumerate(DataArray):\n",
    "        if val < ScaledLargest:\n",
    "            if val > SecondLargest:\n",
    "                #Ignore adjacent bins to Largest\n",
    "                if (np.abs(LargestIndex-ind) > 10):\n",
    "                    SecondLargest = val\n",
    "                    SecondLargestIndex = ind\n",
    "    \n",
    "#    print(\"Second largest value: %f, at position: %d\"%(SecondLargest,SecondLargestIndex))\n",
    "    return SecondLargest"
   ]
  },
  {
   "cell_type": "markdown",
   "metadata": {
    "deletable": true,
    "editable": true
   },
   "source": [
    "# Complex Conjugate of Gold Code fft\n",
    "\n",
    "Take the complex conjugate of the Gold Code [real(fft) - imag(fft)j], and then multiply it by the IQ fft. If this is done correctly there should be a spike about $10^7$ times as high as the noise. \n",
    "\n"
   ]
  },
  {
   "cell_type": "code",
   "execution_count": 21,
   "metadata": {
    "collapsed": false,
    "deletable": true,
    "editable": true,
    "scrolled": false
   },
   "outputs": [
    {
     "ename": "NameError",
     "evalue": "name 'Codefft' is not defined",
     "output_type": "error",
     "traceback": [
      "\u001b[0;31m---------------------------------------------------------------------------\u001b[0m",
      "\u001b[0;31mNameError\u001b[0m                                 Traceback (most recent call last)",
      "\u001b[0;32m<ipython-input-21-31932ad8cbe5>\u001b[0m in \u001b[0;36m<module>\u001b[0;34m()\u001b[0m\n\u001b[0;32m----> 1\u001b[0;31m \u001b[0mGCConj\u001b[0m \u001b[0;34m=\u001b[0m \u001b[0mnp\u001b[0m\u001b[0;34m.\u001b[0m\u001b[0mconjugate\u001b[0m\u001b[0;34m(\u001b[0m\u001b[0mCodefft\u001b[0m\u001b[0;34m)\u001b[0m\u001b[0;34m\u001b[0m\u001b[0m\n\u001b[0m\u001b[1;32m      2\u001b[0m \u001b[0;34m\u001b[0m\u001b[0m\n\u001b[1;32m      3\u001b[0m \u001b[0mresult\u001b[0m \u001b[0;34m=\u001b[0m \u001b[0mnp\u001b[0m\u001b[0;34m.\u001b[0m\u001b[0mfft\u001b[0m\u001b[0;34m.\u001b[0m\u001b[0mifft\u001b[0m\u001b[0;34m(\u001b[0m\u001b[0mGCConj\u001b[0m \u001b[0;34m*\u001b[0m \u001b[0mffC\u001b[0m\u001b[0;34m,\u001b[0m\u001b[0mnfft\u001b[0m\u001b[0;34m)\u001b[0m\u001b[0;34m\u001b[0m\u001b[0m\n\u001b[1;32m      4\u001b[0m \u001b[0;34m\u001b[0m\u001b[0m\n\u001b[1;32m      5\u001b[0m \u001b[0mresultSQ\u001b[0m \u001b[0;34m=\u001b[0m \u001b[0mnp\u001b[0m\u001b[0;34m.\u001b[0m\u001b[0mreal\u001b[0m\u001b[0;34m(\u001b[0m\u001b[0mresult\u001b[0m\u001b[0;34m*\u001b[0m\u001b[0mnp\u001b[0m\u001b[0;34m.\u001b[0m\u001b[0mconjugate\u001b[0m\u001b[0;34m(\u001b[0m\u001b[0mresult\u001b[0m\u001b[0;34m)\u001b[0m\u001b[0;34m)\u001b[0m\u001b[0;34m\u001b[0m\u001b[0m\n",
      "\u001b[0;31mNameError\u001b[0m: name 'Codefft' is not defined"
     ]
    }
   ],
   "source": [
    "GCConj = np.conjugate(Codefft)\n",
    "\n",
    "result = np.fft.ifft(GCConj * ffC,nfft)\n",
    "\n",
    "resultSQ = np.real(result*np.conjugate(result))\n",
    "\n",
    "t = np.linspace(0,SampleLength,nfft,endpoint=True) \n",
    "print(\"Length of t: %d\" %(len(t)))\n",
    "print(\"Length of IFFT: %d\" %(len(resultSQ)))\n",
    "\n",
    "plt.plot(t,resultSQ)\n",
    "\n",
    "# Zoom in to one ms\n",
    "xmin,xmax = plt.xlim()\n",
    "plt.xlim(xmin,xmin + 0.001)\n",
    "\n",
    "plt.title(\"Cross-correlation without adjusting for doppler shift.\")\n",
    "plt.xlabel(\"Time (seconds)\")\n",
    "plt.show()\n",
    "\n",
    "# Search for largest value in 1 ms worth of data\n",
    "SecondLargestValue = GetSecondLargest(resultSQ[0:int(fs*0.001)])\n",
    "\n",
    "# Pseudo SNR\n",
    "ResultsSNR = 10*np.log10(np.amax(resultSQ)/SecondLargestValue)\n",
    "print(\"SNR: %f\"%(ResultsSNR))\n",
    "\n",
    "print(\"Max Value: %f, at freqshift: %d, with index %d\"%(np.amax(resultSQ),0,np.argmax(resultSQ)))"
   ]
  },
  {
   "cell_type": "markdown",
   "metadata": {
    "collapsed": true,
    "deletable": true,
    "editable": true
   },
   "source": [
    "# Notes\n",
    "\n",
    "- From book appendix: we should look for the top 2 peaks, and use the ratio to determine whether there is a signal or just noise\n",
    "- We should get the C code running and be sure to compare results. Acquisition works in the C code, but tracking is untested"
   ]
  },
  {
   "cell_type": "markdown",
   "metadata": {
    "collapsed": true,
    "deletable": true,
    "editable": true
   },
   "source": [
    "## Shift frequency using multiplication by a complex exponential"
   ]
  },
  {
   "cell_type": "code",
   "execution_count": 22,
   "metadata": {
    "collapsed": false,
    "deletable": true,
    "editable": true
   },
   "outputs": [
    {
     "ename": "NameError",
     "evalue": "name 'CData' is not defined",
     "output_type": "error",
     "traceback": [
      "\u001b[0;31m---------------------------------------------------------------------------\u001b[0m",
      "\u001b[0;31mNameError\u001b[0m                                 Traceback (most recent call last)",
      "\u001b[0;32m<ipython-input-22-cb71991a1c64>\u001b[0m in \u001b[0;36m<module>\u001b[0;34m()\u001b[0m\n\u001b[1;32m      3\u001b[0m \u001b[0;34m\u001b[0m\u001b[0m\n\u001b[1;32m      4\u001b[0m \u001b[0;31m# Initialize complex array\u001b[0m\u001b[0;34m\u001b[0m\u001b[0;34m\u001b[0m\u001b[0m\n\u001b[0;32m----> 5\u001b[0;31m \u001b[0mCDataShifted\u001b[0m \u001b[0;34m=\u001b[0m \u001b[0mCData\u001b[0m\u001b[0;34m*\u001b[0m\u001b[0mnp\u001b[0m\u001b[0;34m.\u001b[0m\u001b[0mexp\u001b[0m\u001b[0;34m(\u001b[0m\u001b[0;36m1j\u001b[0m\u001b[0;34m*\u001b[0m\u001b[0;36m2\u001b[0m\u001b[0;34m*\u001b[0m\u001b[0mnp\u001b[0m\u001b[0;34m.\u001b[0m\u001b[0mpi\u001b[0m\u001b[0;34m*\u001b[0m\u001b[0mfreqShift\u001b[0m\u001b[0;34m*\u001b[0m\u001b[0mt\u001b[0m\u001b[0;34m)\u001b[0m\u001b[0;34m\u001b[0m\u001b[0m\n\u001b[0m\u001b[1;32m      6\u001b[0m \u001b[0mfftCDataShifted\u001b[0m \u001b[0;34m=\u001b[0m \u001b[0mnp\u001b[0m\u001b[0;34m.\u001b[0m\u001b[0mfft\u001b[0m\u001b[0;34m.\u001b[0m\u001b[0mfft\u001b[0m\u001b[0;34m(\u001b[0m\u001b[0mCDataShifted\u001b[0m\u001b[0;34m,\u001b[0m\u001b[0mnfft\u001b[0m\u001b[0;34m)\u001b[0m\u001b[0;34m\u001b[0m\u001b[0m\n\u001b[1;32m      7\u001b[0m \u001b[0;34m\u001b[0m\u001b[0m\n",
      "\u001b[0;31mNameError\u001b[0m: name 'CData' is not defined"
     ]
    }
   ],
   "source": [
    "freqShift = 1400 #[Hz] -20\n",
    "\n",
    "\n",
    "# Initialize complex array\n",
    "CDataShifted = CData*np.exp(1j*2*np.pi*freqShift*t)\n",
    "fftCDataShifted = np.fft.fft(CDataShifted,nfft)\n",
    "\n",
    "result = np.fft.ifft(GCConj * fftCDataShifted,nfft)\n",
    "resultSQ = np.real(result*np.conjugate(result))\n",
    "resultLog = 10*np.log10(resultSQ)\n",
    "\n",
    "plt.plot(t,resultSQ)\n",
    "plt.title(\"Cross-correlation with doppler adjustment of %d [Hz]\"%(freqShift))\n",
    "plt.xlabel(\"Time (seconds)\")\n",
    "\n",
    "# Zoom in to one ms\n",
    "xmin,xmax = plt.xlim()\n",
    "plt.xlim(xmin,xmin + 0.001)\n",
    "plt.show()\n",
    "\n",
    "# Search for largest value in 1 ms worth of data\n",
    "SecondLargestValue = GetSecondLargest(resultSQ[0:int(fs*0.001)])\n",
    "\n",
    "# Pseudo SNR\n",
    "ResultsSNR = 10*np.log10(np.amax(resultSQ)/SecondLargestValue)\n",
    "print(\"SNR: %f\"%(ResultsSNR))\n",
    "\n",
    "print(\"Max Value: %f, at freqshift: %d, with index: %d\"%(np.amax(resultSQ),freqShift,np.argmax(resultSQ)))"
   ]
  },
  {
   "cell_type": "markdown",
   "metadata": {
    "deletable": true,
    "editable": true
   },
   "source": [
    "##### Shift frequency by rotating FFT array"
   ]
  },
  {
   "cell_type": "code",
   "execution_count": 23,
   "metadata": {
    "collapsed": false,
    "deletable": true,
    "editable": true
   },
   "outputs": [
    {
     "ename": "NameError",
     "evalue": "name 'CData' is not defined",
     "output_type": "error",
     "traceback": [
      "\u001b[0;31m---------------------------------------------------------------------------\u001b[0m",
      "\u001b[0;31mNameError\u001b[0m                                 Traceback (most recent call last)",
      "\u001b[0;32m<ipython-input-23-fad54c4d524f>\u001b[0m in \u001b[0;36m<module>\u001b[0;34m()\u001b[0m\n\u001b[1;32m      2\u001b[0m \u001b[0;34m\u001b[0m\u001b[0m\n\u001b[1;32m      3\u001b[0m \u001b[0;31m# Initialize complex array\u001b[0m\u001b[0;34m\u001b[0m\u001b[0;34m\u001b[0m\u001b[0m\n\u001b[0;32m----> 4\u001b[0;31m \u001b[0mfftCDataShifted\u001b[0m \u001b[0;34m=\u001b[0m \u001b[0mnp\u001b[0m\u001b[0;34m.\u001b[0m\u001b[0mroll\u001b[0m\u001b[0;34m(\u001b[0m\u001b[0mnp\u001b[0m\u001b[0;34m.\u001b[0m\u001b[0mfft\u001b[0m\u001b[0;34m.\u001b[0m\u001b[0mfft\u001b[0m\u001b[0;34m(\u001b[0m\u001b[0mCData\u001b[0m\u001b[0;34m,\u001b[0m\u001b[0mnfft\u001b[0m\u001b[0;34m)\u001b[0m\u001b[0;34m,\u001b[0m\u001b[0mfreqRoll\u001b[0m\u001b[0;34m)\u001b[0m\u001b[0;34m\u001b[0m\u001b[0m\n\u001b[0m\u001b[1;32m      5\u001b[0m \u001b[0;34m\u001b[0m\u001b[0m\n\u001b[1;32m      6\u001b[0m \u001b[0mresult\u001b[0m \u001b[0;34m=\u001b[0m \u001b[0mnp\u001b[0m\u001b[0;34m.\u001b[0m\u001b[0mfft\u001b[0m\u001b[0;34m.\u001b[0m\u001b[0mifft\u001b[0m\u001b[0;34m(\u001b[0m\u001b[0mGCConj\u001b[0m \u001b[0;34m*\u001b[0m \u001b[0mfftCDataShifted\u001b[0m\u001b[0;34m,\u001b[0m\u001b[0mnfft\u001b[0m\u001b[0;34m)\u001b[0m\u001b[0;34m\u001b[0m\u001b[0m\n",
      "\u001b[0;31mNameError\u001b[0m: name 'CData' is not defined"
     ]
    }
   ],
   "source": [
    "freqRoll = -1 #[Bin number (See BinWidth for frequency resolution)]\n",
    "\n",
    "# Initialize complex array\n",
    "fftCDataShifted = np.roll(np.fft.fft(CData,nfft),freqRoll)\n",
    "\n",
    "result = np.fft.ifft(GCConj * fftCDataShifted,nfft)\n",
    "resultSQ = np.real(result*np.conjugate(result))\n",
    "resultLog = 20*np.log10(np.abs(result))\n",
    "\n",
    "BinWidth = fs/nfft\n",
    "plt.plot(t,resultSQ)\n",
    "plt.title(\"Cross-correlation with doppler adjustment of %f [Hz]\"%(freqRoll*BinWidth))\n",
    "plt.xlabel(\"Time (seconds)\")\n",
    "\n",
    "# Zoom in to one ms\n",
    "xmin,xmax = plt.xlim()\n",
    "plt.xlim(xmin,xmin + 0.001)\n",
    "plt.show()\n",
    "\n",
    "# Search for largest value in 1 ms worth of data\n",
    "SecondLargestValue = GetSecondLargest(resultSQ[0:int(fs*0.001)])\n",
    "\n",
    "# Pseudo SNR\n",
    "ResultsSNR = 10*np.log10(np.amax(resultSQ)/SecondLargestValue)\n",
    "print(\"SNR: %f\"%(ResultsSNR))\n",
    "\n",
    "print(\"Max Value: %f, at freqshift: %d, with index: %d\"%(np.amax(resultSQ),freqShift,np.argmax(resultSQ)))"
   ]
  },
  {
   "cell_type": "markdown",
   "metadata": {
    "collapsed": true,
    "deletable": true,
    "editable": true
   },
   "source": [
    "## Shift through frequency and satellite range\n",
    "The signal was generated with gps-sdr-gen with command: \n",
    "  ./gps-sdr-sim -e brdc2000.15n -l 43.798582,-120.648512,10.0 -t 2015/07/19,11:17:11 -s 4092000 -d 1 -b 8 -o test.bin\n",
    "\n",
    "The satellites are: \n",
    "Start time = 2015/07/19,11:17:11 (1854:40631)\n",
    "\n",
    "sat|  ?    |  ?   |   ?         | ?\n",
    "---|-------|------|-------------|-----\n",
    "01 | 209.8 | 14.0 | 24397817.3  | 3.7\n",
    "03 | 219.7 | 77.1 | 20309263.6  | 1.5\n",
    "06 | 317.5 | 14.0 | 24309631.9  | 3.7\n",
    "07 | 227.3 |  1.9 | 25733447.1  | 4.9\n",
    "09 | 284.7 | 25.1 | 23238199.5  | 2.9\n",
    "16 | 136.5 | 31.5 | 22442996.6  | 2.6\n",
    "23 | 300.5 | 59.6 | 21068804.2  | 1.7\n",
    "26 |  99.5 | 40.9 | 21945145.6  | 2.2\n",
    "31 |  49.8 | 31.8 | 22795607.4  | 2.6\n",
    "32 | 147.0 | 43.2 | 22071954.8  | 2.1\n"
   ]
  },
  {
   "cell_type": "code",
   "execution_count": 24,
   "metadata": {
    "collapsed": false,
    "deletable": true,
    "editable": true,
    "scrolled": false
   },
   "outputs": [
    {
     "ename": "NameError",
     "evalue": "name 'ms' is not defined",
     "output_type": "error",
     "traceback": [
      "\u001b[0;31m---------------------------------------------------------------------------\u001b[0m",
      "\u001b[0;31mNameError\u001b[0m                                 Traceback (most recent call last)",
      "\u001b[0;32m<ipython-input-24-ca4ef7a61b13>\u001b[0m in \u001b[0;36m<module>\u001b[0;34m()\u001b[0m\n\u001b[1;32m     35\u001b[0m \u001b[0;34m\u001b[0m\u001b[0m\n\u001b[1;32m     36\u001b[0m     \u001b[0;31m# Repeat entire array for each ms of data sampled\u001b[0m\u001b[0;34m\u001b[0m\u001b[0;34m\u001b[0m\u001b[0m\n\u001b[0;32m---> 37\u001b[0;31m     \u001b[0mCACodeSampled\u001b[0m \u001b[0;34m=\u001b[0m \u001b[0mnp\u001b[0m\u001b[0;34m.\u001b[0m\u001b[0mtile\u001b[0m\u001b[0;34m(\u001b[0m\u001b[0mCACodeSampled\u001b[0m\u001b[0;34m,\u001b[0m\u001b[0mms\u001b[0m\u001b[0;34m)\u001b[0m\u001b[0;34m\u001b[0m\u001b[0m\n\u001b[0m\u001b[1;32m     38\u001b[0m     \u001b[0mCodefft\u001b[0m \u001b[0;34m=\u001b[0m \u001b[0mnp\u001b[0m\u001b[0;34m.\u001b[0m\u001b[0mfft\u001b[0m\u001b[0;34m.\u001b[0m\u001b[0mfft\u001b[0m\u001b[0;34m(\u001b[0m\u001b[0mCACodeSampled\u001b[0m\u001b[0;34m,\u001b[0m\u001b[0mnfft\u001b[0m\u001b[0;34m)\u001b[0m\u001b[0;34m\u001b[0m\u001b[0m\n\u001b[1;32m     39\u001b[0m     \u001b[0mGCConj\u001b[0m \u001b[0;34m=\u001b[0m \u001b[0mnp\u001b[0m\u001b[0;34m.\u001b[0m\u001b[0mconjugate\u001b[0m\u001b[0;34m(\u001b[0m\u001b[0mCodefft\u001b[0m\u001b[0;34m)\u001b[0m\u001b[0;34m\u001b[0m\u001b[0m\n",
      "\u001b[0;31mNameError\u001b[0m: name 'ms' is not defined"
     ]
    }
   ],
   "source": [
    "# Choose what frequencies and satellites to increment over\n",
    "StartingFrequencyShift = -10*10**3\n",
    "EndingFrequencyShift = 10*10**3\n",
    "FrequencyShiftIncrement = 100\n",
    "FrequencyList = range(StartingFrequencyShift,EndingFrequencyShift + FrequencyShiftIncrement,FrequencyShiftIncrement)\n",
    "\n",
    "StartingSatellite = 1\n",
    "EndingSatellite = 32\n",
    "SatelliteList = range(StartingSatellite, EndingSatellite + 1)\n",
    "\n",
    "# Create list of C/A code Taps, for simpler sat selection\",\n",
    "#sat = [(2,6),(3,7),(4,8),(5,9),(1,9),(2,6),(1,8),(2,9),(3,10),(2,3),(3,4),(5,6),(6,7),(7,8),(8,9),(9,10),(1,4),(2,5),(3,6),(4,7),(5,8),(6,9),(1,3),(4,6),(5,7),(6,8),(7,9),(8,10),(1,6),(2,7),(3,8),(4,9),(5,10),(4,10),(1,7),(2,8),(4,10)]\n",
    "sat = [(1,5),(2,6),(3,7),(4,8),(0,8),(1,5),(0,7),(1,8),(2,9),(1,2),(2,3),(4,5),(5,6),(6,7),(7,8),(8,9),(0,3),(1,4),(2,5),(3,6),(4,7),(5,8),(0,2),(3,5),(4,6),(5,7),(6,8),(7,9),(0,5),(1,6),(2,7),(3,8),(4,9),(3,9),(0,6),(1,7),(3,9)]\n",
    "\n",
    "# Create array to store max values, freq ranges, per satellite\n",
    "SatMax = np.zeros((len(SatelliteList),len(FrequencyList),4))\n",
    "\n",
    "satInd = 0 \n",
    "# Loop through selected satellites\n",
    "for curSat in SatelliteList: \n",
    "    # Create Code Generator object for chosen Satellite\n",
    "    CodeGen = GoldCode(sat[curSat - 1]) # Index starts at zero\n",
    "    \n",
    "    # Generate CA Code\n",
    "    CACode = CodeGen.getCode(1023)\n",
    "    \n",
    "    # Reformat GC to have -1 in place of 0\n",
    "    for n,i in enumerate(CACode):\n",
    "        if i==0:\n",
    "            CACode[n]=-1\n",
    "            \n",
    "    # Repeat each chip 4 times (See markdown in above cell), to match our ADC sample frequency\",\n",
    "    CACodeSampled = np.repeat(CACode,4)\n",
    "    #print(\"Satellite chosen: %d, with tap: %s\" %(Satellite,str(sat[Satellite - 1])))\n",
    "    \n",
    "    # Repeat entire array for each ms of data sampled\n",
    "    CACodeSampled = np.tile(CACodeSampled,ms)\n",
    "    Codefft = np.fft.fft(CACodeSampled,nfft)\n",
    "    GCConj = np.conjugate(Codefft)\n",
    "    \n",
    "    freqInd = 0\n",
    "    # Loop through all frequencies\n",
    "    for curFreq in FrequencyList:\n",
    "        # Initialize complex array\n",
    "        CDataShifted = np.zeros(len(CData), dtype=np.complex)\n",
    "        \n",
    "        # Shift frequency using complex exponential \n",
    "        CDataShifted = CData*np.exp(1j*2*np.pi*curFreq*t)\n",
    "\n",
    "        fftCDataShifted = np.fft.fft(CDataShifted,nfft)\n",
    "        \n",
    "        result = np.fft.ifft(GCConj * fftCDataShifted,nfft)\n",
    "        \n",
    "        resultSQ = np.abs(result) ** 2\n",
    "        resultSQ = np.real(resultSQ)\n",
    "        maxAbsSquared = np.max(resultSQ)\n",
    "        \n",
    "        rmsPowerdB = 10*np.log10(np.mean(resultSQ))\n",
    "        \n",
    "        resultLog= 10*np.log10(resultSQ)\n",
    "        \n",
    "        maxdB = np.max(resultLog)\n",
    "        \n",
    "                \n",
    "        # Store results in array\n",
    "        SatMax[satInd,freqInd,0] = maxAbsSquared\n",
    "        SatMax[satInd,freqInd,1] = maxdB\n",
    "        SatMax[satInd,freqInd,2] = np.real(np.sum(resultLog))\n",
    "        SatMax[satInd,freqInd,3] = maxdB - rmsPowerdB\n",
    "        \n",
    "        #print(\"Sat: %d, Doppler Shift: %8.2f, MaxVal: %8.2f, MaxVal (dB): %8.4f, Peak-Second Ratio (dB): %8.4f\" %(curSat,curFreq, maxAbsSquared, maxdB, maxdB - rmsPowerdB))\n",
    "\n",
    "        freqInd = freqInd + 1\n",
    "        \n",
    "    plt.figure()\n",
    "    \n",
    "    plt.plot(FrequencyList, SatMax[satInd, :, 3])\n",
    "    #plt.ylim((0,20))\n",
    "    plt.xlabel('Doppler Shift (Hz)')\n",
    "    plt.ylabel('Peak-to-RMS ratio (dB)')\n",
    "    plt.title(\"Sat %d\"%curSat)\n",
    "    plt.show()\n",
    "    \n",
    "    satInd = satInd+1\n",
    "\n",
    "#maxAbsSquared\n",
    "#secondMax"
   ]
  },
  {
   "cell_type": "code",
   "execution_count": null,
   "metadata": {
    "collapsed": false,
    "deletable": true,
    "editable": true
   },
   "outputs": [],
   "source": []
  },
  {
   "cell_type": "markdown",
   "metadata": {
    "deletable": true,
    "editable": true
   },
   "source": [
    "For this data sample (Launch 12, 4 seconds after launch) we should see the following satellites:\n",
    "\n",
    "Sat | S/N (dB-Hz) | doppler shift (Hz) | code phase (chips)\n",
    ":----- | -------:| -------:| --------:\n",
    " 1 | 13.287713  | -1209.276720 | 394.250000\n",
    " 4 | 13.700614 | 600.950356 | 547.750000\n",
    " 11 | 13.381992 | 612.980296 | 514.750000\n",
    " 13 | 13.554054 | -12.064141 | 655.250000\n",
    " 15 | 15.276798 | -1399.910091 | 489.750000\n",
    " \n",
    " So if we generate the Gold codes for the correct satellites and correct for the Doppler shift, we should see a peak in the time domain correlator."
   ]
  },
  {
   "cell_type": "markdown",
   "metadata": {
    "collapsed": true,
    "deletable": true,
    "editable": true
   },
   "source": [
    "\n",
    "# Generate Gold Code for selected satellite"
   ]
  },
  {
   "cell_type": "code",
   "execution_count": 25,
   "metadata": {
    "collapsed": false,
    "deletable": true,
    "editable": true,
    "scrolled": false
   },
   "outputs": [
    {
     "ename": "NameError",
     "evalue": "name 'SampleLength' is not defined",
     "output_type": "error",
     "traceback": [
      "\u001b[0;31m---------------------------------------------------------------------------\u001b[0m",
      "\u001b[0;31mNameError\u001b[0m                                 Traceback (most recent call last)",
      "\u001b[0;32m<ipython-input-25-2cbf578a0722>\u001b[0m in \u001b[0;36m<module>\u001b[0;34m()\u001b[0m\n\u001b[1;32m     22\u001b[0m \u001b[0;34m\u001b[0m\u001b[0m\n\u001b[1;32m     23\u001b[0m     \u001b[0;31m# Repeat entire array for each ms of data sampled\u001b[0m\u001b[0;34m\u001b[0m\u001b[0;34m\u001b[0m\u001b[0m\n\u001b[0;32m---> 24\u001b[0;31m     \u001b[0mCACodeSampled\u001b[0m \u001b[0;34m=\u001b[0m \u001b[0mnp\u001b[0m\u001b[0;34m.\u001b[0m\u001b[0mtile\u001b[0m\u001b[0;34m(\u001b[0m\u001b[0mCACodeSampled\u001b[0m\u001b[0;34m,\u001b[0m\u001b[0mint\u001b[0m\u001b[0;34m(\u001b[0m\u001b[0mSampleLength\u001b[0m\u001b[0;34m*\u001b[0m\u001b[0;36m1000\u001b[0m\u001b[0;34m)\u001b[0m\u001b[0;34m)\u001b[0m\u001b[0;34m\u001b[0m\u001b[0m\n\u001b[0m\u001b[1;32m     25\u001b[0m \u001b[0;34m\u001b[0m\u001b[0m\n\u001b[1;32m     26\u001b[0m     \u001b[0mCodefft\u001b[0m \u001b[0;34m=\u001b[0m \u001b[0mnp\u001b[0m\u001b[0;34m.\u001b[0m\u001b[0mfft\u001b[0m\u001b[0;34m.\u001b[0m\u001b[0mfft\u001b[0m\u001b[0;34m(\u001b[0m\u001b[0mCACodeSampled\u001b[0m\u001b[0;34m)\u001b[0m\u001b[0;34m\u001b[0m\u001b[0m\n",
      "\u001b[0;31mNameError\u001b[0m: name 'SampleLength' is not defined"
     ]
    }
   ],
   "source": [
    "sats = {1: -1209.3, 4: 600.95, 11: 612.98, 13: -12.06, 15: -1399.9}\n",
    "\n",
    "plt.style.use('ggplot')\n",
    "\n",
    "for Satellite, Doppler in sats.items():\n",
    "\n",
    "    #code = np.repeat(CodeGen.getCode(1023), 4)\n",
    "\n",
    "    # Create Code Generator object for chosen Satellite\n",
    "    CodeGen = GoldCode(sat[Satellite - 1]) # Index starts at zero\n",
    "\n",
    "    # Generate CA Code\n",
    "    CACode = CodeGen.getCode(1023)\n",
    "\n",
    "    # Reformat GC to have -1 in place of 0 (Now done in GoldCode)\n",
    "    #for n,i in enumerate(CACode):\n",
    "    #    if i==0:\n",
    "    #        CACode[n]=-1\n",
    "\n",
    "    # Repeat each chip 4 times (See markdown in above cell), to match our ADC sample frequency\",\n",
    "    CACodeSampled = np.repeat(CACode,4)\n",
    "\n",
    "    # Repeat entire array for each ms of data sampled\n",
    "    CACodeSampled = np.tile(CACodeSampled,int(SampleLength*1000))\n",
    " \n",
    "    Codefft = np.fft.fft(CACodeSampled)\n",
    "    GCConj = np.conjugate(Codefft)\n",
    "    \n",
    "\n",
    "    result = np.fft.ifft(GCConj * ffC,nfft)\n",
    "\n",
    "    resultSQ = np.real(result*np.conjugate(result))\n",
    "\n",
    "    t = np.linspace(0,SampleLength,nfft,endpoint=True) \n",
    "#    plt.figure(figsize=(10,6))\n",
    "    \n",
    "    plt.plot(t,resultSQ)\n",
    "\n",
    "    # Zoom in to one ms\n",
    "    xmin,xmax = plt.xlim()\n",
    "    plt.xlim(xmin,xmin + 0.001)\n",
    "\n",
    "\n",
    "    plt.title(\"SV%d Cross-correlation without\\nadjusting for Doppler shift.\"%Satellite)\n",
    "    plt.xlabel(\"Time (seconds)\")\n",
    "    plt.show()\n",
    "\n",
    "    # Search for largest value in 1 ms worth of data\n",
    "    SecondLargestValue = GetSecondLargest(resultSQ[0:int(fs*0.001)])\n",
    "\n",
    "    # Pseudo SNR\n",
    "    ResultsSNR = 10*np.log10(np.amax(resultSQ)/SecondLargestValue)\n",
    "    \n",
    "    freqShift = -Doppler #[Hz] -20\n",
    "\n",
    "\n",
    "    # Initialize complex array\n",
    "    CDataShifted = CData*np.exp(1j*2*np.pi*freqShift*t)\n",
    "    fftCDataShifted = np.fft.fft(CDataShifted,nfft)\n",
    "\n",
    "    result = np.fft.ifft(GCConj * fftCDataShifted,nfft)\n",
    "    resultSQ = np.real(result*np.conjugate(result))\n",
    "    resultLog = 10*np.log10(resultSQ)\n",
    "\n",
    " #   plt.figure(figsize=(10,6))\n",
    "    plt.plot(t,resultSQ)\n",
    "    plt.title(\"SV%d Cross-correlation with\\nDoppler adjustment of %d [Hz]\"%(Satellite, freqShift))\n",
    "    plt.xlabel(\"Time (seconds)\")\n",
    "\n",
    "    # Zoom in to one ms\n",
    "    xmin,xmax = plt.xlim()\n",
    "    plt.xlim(xmin,xmin + 0.001)\n",
    "    plt.show()\n",
    "\n",
    "    # Search for largest value in 1 ms worth of data\n",
    "    SecondLargestValue = GetSecondLargest(resultSQ[0:int(fs*0.001)])\n",
    "\n",
    "    # Pseudo SNR\n",
    "    ResultsSNR = 10*np.log10(np.amax(resultSQ)/SecondLargestValue)\n"
   ]
  },
  {
   "cell_type": "code",
   "execution_count": null,
   "metadata": {
    "collapsed": true,
    "deletable": true,
    "editable": true
   },
   "outputs": [],
   "source": [
    "\n"
   ]
  },
  {
   "cell_type": "code",
   "execution_count": 26,
   "metadata": {
    "collapsed": false,
    "deletable": true,
    "editable": true
   },
   "outputs": [
    {
     "ename": "NameError",
     "evalue": "name 'maxAbsSquared' is not defined",
     "output_type": "error",
     "traceback": [
      "\u001b[0;31m---------------------------------------------------------------------------\u001b[0m",
      "\u001b[0;31mNameError\u001b[0m                                 Traceback (most recent call last)",
      "\u001b[0;32m<ipython-input-26-79087ca7e677>\u001b[0m in \u001b[0;36m<module>\u001b[0;34m()\u001b[0m\n\u001b[0;32m----> 1\u001b[0;31m \u001b[0mmaxAbsSquared\u001b[0m\u001b[0;34m\u001b[0m\u001b[0m\n\u001b[0m",
      "\u001b[0;31mNameError\u001b[0m: name 'maxAbsSquared' is not defined"
     ]
    }
   ],
   "source": [
    "maxAbsSquared"
   ]
  },
  {
   "cell_type": "code",
   "execution_count": null,
   "metadata": {
    "collapsed": false,
    "deletable": true,
    "editable": true
   },
   "outputs": [],
   "source": [
    "secondMax"
   ]
  },
  {
   "cell_type": "code",
   "execution_count": null,
   "metadata": {
    "collapsed": false,
    "deletable": true,
    "editable": true
   },
   "outputs": [],
   "source": [
    "resultSQ"
   ]
  },
  {
   "cell_type": "code",
   "execution_count": null,
   "metadata": {
    "collapsed": false,
    "deletable": true,
    "editable": true
   },
   "outputs": [],
   "source": [
    "plt.plot(resultSQ)\n",
    "plt.show()"
   ]
  },
  {
   "cell_type": "code",
   "execution_count": null,
   "metadata": {
    "collapsed": true,
    "deletable": true,
    "editable": true
   },
   "outputs": [],
   "source": []
  }
 ],
 "metadata": {
  "anaconda-cloud": {},
  "kernelspec": {
   "display_name": "Python 3",
   "language": "python",
   "name": "python3"
  }
 },
 "nbformat": 4,
 "nbformat_minor": 2
}
