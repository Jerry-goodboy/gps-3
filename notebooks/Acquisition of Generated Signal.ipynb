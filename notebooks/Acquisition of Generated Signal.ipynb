{
 "cells": [
  {
   "cell_type": "markdown",
   "metadata": {
    "deletable": true,
    "editable": true
   },
   "source": [
    "# Satellite Acquisition\n",
    "\n",
    "**BEFORE RUNNING THIS CODE:\n",
    "test.bin needs to be generated using gps-sdr-sim, using the command below. https://github.com/osqzss/gps-sdr-sim The brdc2000.15n file is from: ftp://cddis.gsfc.nasa.gov/gnss/data/daily/\n",
    "\n",
    "This notebook demonstrates the satellite acquisition proccess, in which we determine which satellites are overhead. This code implements the parallel code phase search algorithm, which is the most complex of those available, but is also the fastest since it returns a result in just one iteration. It is possible that we will need to use a different algorithm when the code is running on an embedded platform.\n",
    "\n",
    "As noted in the L-12 GPS data README, the sampling frequency is 4.092 MHz. and the IF is 0. Also note that the L1 signal hits the antenna at the 1.57542 GHz frequency (10.23 MHz x 154). This is dealt with by the hardware frontend, so we only have to concern ourselves with the 1.023 MHz BPSK modulated C/A code.\n",
    "\n",
    "## Preamble"
   ]
  },
  {
   "cell_type": "code",
   "execution_count": 1,
   "metadata": {
    "collapsed": false,
    "deletable": true,
    "editable": true
   },
   "outputs": [
    {
     "name": "stderr",
     "output_type": "stream",
     "text": [
      "/home/eric/anaconda3/lib/python3.5/site-packages/matplotlib/font_manager.py:273: UserWarning: Matplotlib is building the font cache using fc-list. This may take a moment.\n",
      "  warnings.warn('Matplotlib is building the font cache using fc-list. This may take a moment.')\n",
      "/home/eric/anaconda3/lib/python3.5/site-packages/matplotlib/font_manager.py:273: UserWarning: Matplotlib is building the font cache using fc-list. This may take a moment.\n",
      "  warnings.warn('Matplotlib is building the font cache using fc-list. This may take a moment.')\n"
     ]
    }
   ],
   "source": [
    "import numpy as np\n",
    "import matplotlib.pyplot as plt\n",
    "import struct\n",
    "import math\n",
    "import heapq\n",
    "\n",
    "##Grabs the GoldCode module from the root of the repo\n",
    "import os\n",
    "import sys\n",
    "nb_dir = os.path.split(os.getcwd())[0]\n",
    "if nb_dir not in sys.path:\n",
    "    sys.path.append(nb_dir)\n",
    "from GoldCode import GoldCode\n",
    "from GPSData import IQData"
   ]
  },
  {
   "cell_type": "markdown",
   "metadata": {
    "deletable": true,
    "editable": true
   },
   "source": [
    "## Import data File\n",
    "\n",
    "test.bin needs to be generated using gps-sdr-sim, using the command below. \n",
    "https://github.com/osqzss/gps-sdr-sim\n",
    "The brdc2000.15n file is from: \n",
    "ftp://cddis.gsfc.nasa.gov/gnss/data/daily/"
   ]
  },
  {
   "cell_type": "code",
   "execution_count": 2,
   "metadata": {
    "collapsed": false,
    "deletable": true,
    "editable": true
   },
   "outputs": [
    {
     "name": "stdout",
     "output_type": "stream",
     "text": [
      "Opening a file.\n",
      "b'\\x1e'\n",
      "b'\\xf9'\n",
      "30\n",
      "-7\n",
      "File is now closed.\n",
      "[  0.00000000e+00   2.44439012e-04   4.88878025e-04 ...,   9.99511122e-01\n",
      "   9.99755561e-01   1.00000000e+00]\n"
     ]
    }
   ],
   "source": [
    "# ## Import data File\n",
    "# Generated from gps-sdr-sim using the command: \n",
    "#  ./gps-sdr-sim -e brdc2000.15n -l 43.798582,-120.648512,10.0 -t 2015/07/19,11:17:11 -s 4092000 -d 1 -b 8 -o test.bin\n",
    "\n",
    "# In[2]:\n",
    "print(\"Opening a file.\")\n",
    "fHandle = open('../../gps-sdr-sim/test.bin','rb')\n",
    "I1 = fHandle.read(1)\n",
    "Q1 = fHandle.read(1)\n",
    "print(I1)\n",
    "print(Q1)\n",
    "print(int.from_bytes(I1, byteorder='big', signed=True))\n",
    "print(int.from_bytes(Q1, byteorder='big', signed=True))\n",
    "\n",
    "i = 1\n",
    "ms = 1\n",
    "IData = []\n",
    "QData = []\n",
    "while I1 != \"\":\n",
    "    IData.append(int.from_bytes(I1, byteorder='big', signed=True))\n",
    "    QData.append(int.from_bytes(Q1, byteorder='big', signed=True))\n",
    "    I1 = fHandle.read(1)\n",
    "    Q1 = fHandle.read(1)\n",
    "    i = i+1\n",
    "    if i > ms*4092:\n",
    "        break\n",
    "fHandle.close()\n",
    "print(\"File is now closed.\")\n",
    "\n",
    "fs = 4097000\n",
    "t = np.linspace(0,1,len(IData),endpoint=True) \n",
    "print(t)\n",
    "CData = np.zeros(len(IData), dtype=np.complex)\n",
    "CData = np.array(IData) + 1j*np.array(QData)"
   ]
  },
  {
   "cell_type": "markdown",
   "metadata": {
    "deletable": true,
    "editable": true
   },
   "source": [
    "# View Complex Data Spectrum\n",
    "\n",
    "We need to take the fft of the IQ datastream."
   ]
  },
  {
   "cell_type": "code",
   "execution_count": 3,
   "metadata": {
    "collapsed": false,
    "deletable": true,
    "editable": true
   },
   "outputs": [
    {
     "name": "stdout",
     "output_type": "stream",
     "text": [
      "Calculated deltaFreq: 1001.221896 [Hz]\n"
     ]
    }
   ],
   "source": [
    "# Since we are using circular-convolution, nfft must be equal to the number of samples\n",
    "nfft = len(CData)\n",
    "deltaFreq = fs/nfft\n",
    "print(\"Calculated deltaFreq: %f [Hz]\" %(deltaFreq))\n",
    "\n",
    "# Generate frequency lists for plotting fft\n",
    "# Can use f for regular fft and fshift for shifted version\n",
    "fs_kHz = fs/1000 #Make easier to read\n",
    "f = np.linspace (0,fs_kHz,nfft, endpoint=False)\n",
    "fshift = np.linspace(-fs_kHz/2,fs_kHz/2,nfft,endpoint=False)\n",
    "\n",
    "SampleLength = ms*10**(-3)\n",
    "t = np.linspace(0,SampleLength,nfft,endpoint=True) \n",
    "# Reference data size section of book to pick the len param. Should be based sample rate\n",
    "ffC = np.fft.fft(CData, nfft)"
   ]
  },
  {
   "cell_type": "markdown",
   "metadata": {
    "deletable": true,
    "editable": true
   },
   "source": [
    "# Plot output"
   ]
  },
  {
   "cell_type": "code",
   "execution_count": 4,
   "metadata": {
    "collapsed": false,
    "deletable": true,
    "editable": true
   },
   "outputs": [
    {
     "data": {
      "image/png": "[encoded data removed]",
      "text/plain": [
       "<matplotlib.figure.Figure at 0x7f5a6c536940>"
      ]
     },
     "metadata": {},
     "output_type": "display_data"
    }
   ],
   "source": [
    "plt.plot(f, np.abs(ffC))\n",
    "\n",
    "plt.title(\"FFT of Complex Data\")\n",
    "plt.xlabel(\"Frequency (kHz)\")\n",
    "plt.show()"
   ]
  },
  {
   "cell_type": "markdown",
   "metadata": {
    "deletable": true,
    "editable": true
   },
   "source": [
    "# Get a Gold Code\n",
    "\n",
    "- Gold Code must be generated as though it were sampled at the sampling rate\n",
    "- 1023 chips that must take 1ms to pass through (due to chipping rate)\n",
    "- We are sampling @ 4.092 MHz\n",
    "- So we need the GC to repeat each chip 4 times before going to the next chip.\n",
    "- The numpy.repeat() function does this exactly\n",
    "\n",
    "## SVs in this data:\n",
    "\n",
    "The satellites are: \n",
    "Start time = 2015/07/19,11:17:11 (1854:40631)\n",
    "\n",
    "sat|  ?    |  ?   |   ?         | ?\n",
    "---|-------|------|-------------|-----\n",
    "01 | 209.8 | 14.0 | 24397817.3  | 3.7\n",
    "03 | 219.7 | 77.1 | 20309263.6  | 1.5\n",
    "06 | 317.5 | 14.0 | 24309631.9  | 3.7\n",
    "07 | 227.3 |  1.9 | 25733447.1  | 4.9\n",
    "09 | 284.7 | 25.1 | 23238199.5  | 2.9\n",
    "16 | 136.5 | 31.5 | 22442996.6  | 2.6\n",
    "23 | 300.5 | 59.6 | 21068804.2  | 1.7\n",
    "26 |  99.5 | 40.9 | 21945145.6  | 2.2\n",
    "31 |  49.8 | 31.8 | 22795607.4  | 2.6\n",
    "32 | 147.0 | 43.2 | 22071954.8  | 2.1\n"
   ]
  },
  {
   "cell_type": "code",
   "execution_count": 5,
   "metadata": {
    "collapsed": false,
    "deletable": true,
    "editable": true,
    "scrolled": true
   },
   "outputs": [
    {
     "ename": "SyntaxError",
     "evalue": "invalid syntax (<ipython-input-5-5b0f67651f72>, line 3)",
     "output_type": "error",
     "traceback": [
      "\u001b[0;36m  File \u001b[0;32m\"<ipython-input-5-5b0f67651f72>\"\u001b[0;36m, line \u001b[0;32m3\u001b[0m\n\u001b[0;31m    -\u001b[0m\n\u001b[0m     ^\u001b[0m\n\u001b[0;31mSyntaxError\u001b[0m\u001b[0;31m:\u001b[0m invalid syntax\n"
     ]
    }
   ],
   "source": [
    "#code = np.repeat(CodeGen.getCode(1023), 4)\n",
    "\n",
    "-"
   ]
  },
  {
   "cell_type": "code",
   "execution_count": null,
   "metadata": {
    "collapsed": false,
    "deletable": true,
    "editable": true,
    "scrolled": true
   },
   "outputs": [],
   "source": [
    "Codefft = np.fft.fft(CACodeSampled, nfft)\n",
    "\n",
    "plt.plot(f, np.abs(Codefft))\n",
    "plt.title(\"FFT of Gold Code\")\n",
    "plt.xlabel(\"Frequency (kHz)\")\n",
    "plt.show()"
   ]
  },
  {
   "cell_type": "markdown",
   "metadata": {
    "deletable": true,
    "editable": true
   },
   "source": [
    "## Function to find second largest value"
   ]
  },
  {
   "cell_type": "code",
   "execution_count": null,
   "metadata": {
    "collapsed": false,
    "deletable": true,
    "editable": true
   },
   "outputs": [],
   "source": [
    "# This will return second largest value\n",
    "# It will also ignore any value that is close to the second largest value\n",
    "def GetSecondLargest(DataList):\n",
    "    # Make sure is a numpy array\n",
    "    DataArray = np.array(DataList)\n",
    "    \n",
    "    # Find largest value\n",
    "    Largest = np.amax(DataArray)\n",
    "    LargestIndex = np.argmax(DataArray)\n",
    "#    print(\"Largest value: %f, at position: %d\"%(Largest,LargestIndex))\n",
    "    \n",
    "    # Reduce value by a percent to prevent near-identical values from being selected\n",
    "    ScaleAmount = 0.95\n",
    "    ScaledLargest = ScaleAmount*Largest\n",
    "    SecondLargest = 0\n",
    "    SecondLargestIndex = 0\n",
    "    \n",
    "    for ind,val in enumerate(DataArray):\n",
    "        if val < ScaledLargest:\n",
    "            if val > SecondLargest:\n",
    "                #Ignore adjacent bins to Largest\n",
    "                if (np.abs(LargestIndex-ind) > 10):\n",
    "                    SecondLargest = val\n",
    "                    SecondLargestIndex = ind\n",
    "    \n",
    "#    print(\"Second largest value: %f, at position: %d\"%(SecondLargest,SecondLargestIndex))\n",
    "    return SecondLargest"
   ]
  },
  {
   "cell_type": "markdown",
   "metadata": {
    "deletable": true,
    "editable": true
   },
   "source": [
    "# Complex Conjugate of Gold Code fft\n",
    "\n",
    "Take the complex conjugate of the Gold Code [real(fft) - imag(fft)j], and then multiply it by the IQ fft. If this is done correctly there should be a spike about $10^7$ times as high as the noise. \n",
    "\n"
   ]
  },
  {
   "cell_type": "code",
   "execution_count": null,
   "metadata": {
    "collapsed": false,
    "deletable": true,
    "editable": true,
    "scrolled": false
   },
   "outputs": [],
   "source": [
    "GCConj = np.conjugate(Codefft)\n",
    "\n",
    "result = np.fft.ifft(GCConj * ffC,nfft)\n",
    "\n",
    "resultSQ = np.real(result*np.conjugate(result))\n",
    "\n",
    "t = np.linspace(0,SampleLength,nfft,endpoint=True) \n",
    "print(\"Length of t: %d\" %(len(t)))\n",
    "print(\"Length of IFFT: %d\" %(len(resultSQ)))\n",
    "\n",
    "plt.plot(t,resultSQ)\n",
    "\n",
    "# Zoom in to one ms\n",
    "xmin,xmax = plt.xlim()\n",
    "plt.xlim(xmin,xmin + 0.001)\n",
    "\n",
    "plt.title(\"Cross-correlation without adjusting for doppler shift.\")\n",
    "plt.xlabel(\"Time (seconds)\")\n",
    "plt.show()\n",
    "\n",
    "# Search for largest value in 1 ms worth of data\n",
    "SecondLargestValue = GetSecondLargest(resultSQ[0:int(fs*0.001)])\n",
    "\n",
    "# Pseudo SNR\n",
    "ResultsSNR = 10*np.log10(np.amax(resultSQ)/SecondLargestValue)\n",
    "print(\"SNR: %f\"%(ResultsSNR))\n",
    "\n",
    "print(\"Max Value: %f, at freqshift: %d, with index %d\"%(np.amax(resultSQ),0,np.argmax(resultSQ)))"
   ]
  },
  {
   "cell_type": "markdown",
   "metadata": {
    "collapsed": true,
    "deletable": true,
    "editable": true
   },
   "source": [
    "# Notes\n",
    "\n",
    "- From book appendix: we should look for the top 2 peaks, and use the ratio to determine whether there is a signal or just noise\n",
    "- We should get the C code running and be sure to compare results. Acquisition works in the C code, but tracking is untested"
   ]
  },
  {
   "cell_type": "markdown",
   "metadata": {
    "collapsed": true,
    "deletable": true,
    "editable": true
   },
   "source": [
    "## Shift frequency using multiplication by a complex exponential"
   ]
  },
  {
   "cell_type": "code",
   "execution_count": null,
   "metadata": {
    "collapsed": false,
    "deletable": true,
    "editable": true
   },
   "outputs": [],
   "source": [
    "freqShift = 1400 #[Hz] -20\n",
    "\n",
    "\n",
    "# Initialize complex array\n",
    "CDataShifted = CData*np.exp(1j*2*np.pi*freqShift*t)\n",
    "fftCDataShifted = np.fft.fft(CDataShifted,nfft)\n",
    "\n",
    "result = np.fft.ifft(GCConj * fftCDataShifted,nfft)\n",
    "resultSQ = np.real(result*np.conjugate(result))\n",
    "resultLog = 10*np.log10(resultSQ)\n",
    "\n",
    "plt.plot(t,resultSQ)\n",
    "plt.title(\"Cross-correlation with doppler adjustment of %d [Hz]\"%(freqShift))\n",
    "plt.xlabel(\"Time (seconds)\")\n",
    "\n",
    "# Zoom in to one ms\n",
    "xmin,xmax = plt.xlim()\n",
    "plt.xlim(xmin,xmin + 0.001)\n",
    "plt.show()\n",
    "\n",
    "# Search for largest value in 1 ms worth of data\n",
    "SecondLargestValue = GetSecondLargest(resultSQ[0:int(fs*0.001)])\n",
    "\n",
    "# Pseudo SNR\n",
    "ResultsSNR = 10*np.log10(np.amax(resultSQ)/SecondLargestValue)\n",
    "print(\"SNR: %f\"%(ResultsSNR))\n",
    "\n",
    "print(\"Max Value: %f, at freqshift: %d, with index: %d\"%(np.amax(resultSQ),freqShift,np.argmax(resultSQ)))"
   ]
  },
  {
   "cell_type": "markdown",
   "metadata": {
    "deletable": true,
    "editable": true
   },
   "source": [
    "##### Shift frequency by rotating FFT array"
   ]
  },
  {
   "cell_type": "code",
   "execution_count": null,
   "metadata": {
    "collapsed": false,
    "deletable": true,
    "editable": true
   },
   "outputs": [],
   "source": [
    "freqRoll = -1 #[Bin number (See BinWidth for frequency resolution)]\n",
    "\n",
    "# Initialize complex array\n",
    "fftCDataShifted = np.roll(np.fft.fft(CData,nfft),freqRoll)\n",
    "\n",
    "result = np.fft.ifft(GCConj * fftCDataShifted,nfft)\n",
    "resultSQ = np.real(result*np.conjugate(result))\n",
    "resultLog = 20*np.log10(np.abs(result))\n",
    "\n",
    "BinWidth = fs/nfft\n",
    "plt.plot(t,resultSQ)\n",
    "plt.title(\"Cross-correlation with doppler adjustment of %f [Hz]\"%(freqRoll*BinWidth))\n",
    "plt.xlabel(\"Time (seconds)\")\n",
    "\n",
    "# Zoom in to one ms\n",
    "xmin,xmax = plt.xlim()\n",
    "plt.xlim(xmin,xmin + 0.001)\n",
    "plt.show()\n",
    "\n",
    "# Search for largest value in 1 ms worth of data\n",
    "SecondLargestValue = GetSecondLargest(resultSQ[0:int(fs*0.001)])\n",
    "\n",
    "# Pseudo SNR\n",
    "ResultsSNR = 10*np.log10(np.amax(resultSQ)/SecondLargestValue)\n",
    "print(\"SNR: %f\"%(ResultsSNR))\n",
    "\n",
    "print(\"Max Value: %f, at freqshift: %d, with index: %d\"%(np.amax(resultSQ),freqShift,np.argmax(resultSQ)))"
   ]
  },
  {
   "cell_type": "markdown",
   "metadata": {
    "collapsed": true,
    "deletable": true,
    "editable": true
   },
   "source": [
    "## Shift through frequency and satellite range\n",
    "The signal was generated with gps-sdr-gen with command: \n",
    "  ./gps-sdr-sim -e brdc2000.15n -l 43.798582,-120.648512,10.0 -t 2015/07/19,11:17:11 -s 4092000 -d 1 -b 8 -o test.bin\n",
    "\n",
    "The satellites are: \n",
    "Start time = 2015/07/19,11:17:11 (1854:40631)\n",
    "\n",
    "sat|  ?    |  ?   |   ?         | ?\n",
    "---|-------|------|-------------|-----\n",
    "01 | 209.8 | 14.0 | 24397817.3  | 3.7\n",
    "03 | 219.7 | 77.1 | 20309263.6  | 1.5\n",
    "06 | 317.5 | 14.0 | 24309631.9  | 3.7\n",
    "07 | 227.3 |  1.9 | 25733447.1  | 4.9\n",
    "09 | 284.7 | 25.1 | 23238199.5  | 2.9\n",
    "16 | 136.5 | 31.5 | 22442996.6  | 2.6\n",
    "23 | 300.5 | 59.6 | 21068804.2  | 1.7\n",
    "26 |  99.5 | 40.9 | 21945145.6  | 2.2\n",
    "31 |  49.8 | 31.8 | 22795607.4  | 2.6\n",
    "32 | 147.0 | 43.2 | 22071954.8  | 2.1\n"
   ]
  },
  {
   "cell_type": "code",
   "execution_count": 6,
   "metadata": {
    "collapsed": false,
    "deletable": true,
    "editable": true,
    "scrolled": false
   },
   "outputs": [
    {
     "name": "stdout",
     "output_type": "stream",
     "text": [
      "Sat: 6, Doppler Shift:  3200.00, BinPeak: 1571 , Peak-Second Ratio (dB):  16.4141\n",
      "Sat: 6, Doppler Shift:  3201.00, BinPeak: 1571 , Peak-Second Ratio (dB):  16.4162\n",
      "Sat: 6, Doppler Shift:  3202.00, BinPeak: 1571 , Peak-Second Ratio (dB):  16.4183\n",
      "Sat: 6, Doppler Shift:  3203.00, BinPeak: 1571 , Peak-Second Ratio (dB):  16.4204\n",
      "Sat: 6, Doppler Shift:  3204.00, BinPeak: 1571 , Peak-Second Ratio (dB):  16.4224\n",
      "Sat: 6, Doppler Shift:  3205.00, BinPeak: 1571 , Peak-Second Ratio (dB):  16.4245\n",
      "Sat: 6, Doppler Shift:  3206.00, BinPeak: 1571 , Peak-Second Ratio (dB):  16.4265\n",
      "Sat: 6, Doppler Shift:  3207.00, BinPeak: 1571 , Peak-Second Ratio (dB):  16.4284\n",
      "Sat: 6, Doppler Shift:  3208.00, BinPeak: 1571 , Peak-Second Ratio (dB):  16.4304\n",
      "Sat: 6, Doppler Shift:  3209.00, BinPeak: 1571 , Peak-Second Ratio (dB):  16.4323\n",
      "Sat: 6, Doppler Shift:  3210.00, BinPeak: 1571 , Peak-Second Ratio (dB):  16.4342\n",
      "Sat: 6, Doppler Shift:  3211.00, BinPeak: 1571 , Peak-Second Ratio (dB):  16.4360\n",
      "Sat: 6, Doppler Shift:  3212.00, BinPeak: 1571 , Peak-Second Ratio (dB):  16.4379\n",
      "Sat: 6, Doppler Shift:  3213.00, BinPeak: 1571 , Peak-Second Ratio (dB):  16.4397\n",
      "Sat: 6, Doppler Shift:  3214.00, BinPeak: 1571 , Peak-Second Ratio (dB):  16.4415\n",
      "Sat: 6, Doppler Shift:  3215.00, BinPeak: 1571 , Peak-Second Ratio (dB):  16.4432\n",
      "Sat: 6, Doppler Shift:  3216.00, BinPeak: 1571 , Peak-Second Ratio (dB):  16.4449\n",
      "Sat: 6, Doppler Shift:  3217.00, BinPeak: 1571 , Peak-Second Ratio (dB):  16.4466\n",
      "Sat: 6, Doppler Shift:  3218.00, BinPeak: 1571 , Peak-Second Ratio (dB):  16.4483\n",
      "Sat: 6, Doppler Shift:  3219.00, BinPeak: 1571 , Peak-Second Ratio (dB):  16.4500\n",
      "Sat: 6, Doppler Shift:  3220.00, BinPeak: 1571 , Peak-Second Ratio (dB):  16.4516\n",
      "Sat: 6, Doppler Shift:  3221.00, BinPeak: 1571 , Peak-Second Ratio (dB):  16.4532\n",
      "Sat: 6, Doppler Shift:  3222.00, BinPeak: 1571 , Peak-Second Ratio (dB):  16.4548\n",
      "Sat: 6, Doppler Shift:  3223.00, BinPeak: 1571 , Peak-Second Ratio (dB):  16.4563\n",
      "Sat: 6, Doppler Shift:  3224.00, BinPeak: 1571 , Peak-Second Ratio (dB):  16.4579\n",
      "Sat: 6, Doppler Shift:  3225.00, BinPeak: 1571 , Peak-Second Ratio (dB):  16.4594\n",
      "Sat: 6, Doppler Shift:  3226.00, BinPeak: 1571 , Peak-Second Ratio (dB):  16.4608\n",
      "Sat: 6, Doppler Shift:  3227.00, BinPeak: 1571 , Peak-Second Ratio (dB):  16.4623\n",
      "Sat: 6, Doppler Shift:  3228.00, BinPeak: 1571 , Peak-Second Ratio (dB):  16.4637\n",
      "Sat: 6, Doppler Shift:  3229.00, BinPeak: 1571 , Peak-Second Ratio (dB):  16.4651\n",
      "Sat: 6, Doppler Shift:  3230.00, BinPeak: 1571 , Peak-Second Ratio (dB):  16.4665\n",
      "Sat: 6, Doppler Shift:  3231.00, BinPeak: 1571 , Peak-Second Ratio (dB):  16.4678\n",
      "Sat: 6, Doppler Shift:  3232.00, BinPeak: 1571 , Peak-Second Ratio (dB):  16.4691\n",
      "Sat: 6, Doppler Shift:  3233.00, BinPeak: 1571 , Peak-Second Ratio (dB):  16.4704\n",
      "Sat: 6, Doppler Shift:  3234.00, BinPeak: 1571 , Peak-Second Ratio (dB):  16.4717\n",
      "Sat: 6, Doppler Shift:  3235.00, BinPeak: 1571 , Peak-Second Ratio (dB):  16.4729\n",
      "Sat: 6, Doppler Shift:  3236.00, BinPeak: 1571 , Peak-Second Ratio (dB):  16.4741\n",
      "Sat: 6, Doppler Shift:  3237.00, BinPeak: 1571 , Peak-Second Ratio (dB):  16.4753\n",
      "Sat: 6, Doppler Shift:  3238.00, BinPeak: 1571 , Peak-Second Ratio (dB):  16.4765\n",
      "Sat: 6, Doppler Shift:  3239.00, BinPeak: 1571 , Peak-Second Ratio (dB):  16.4776\n",
      "Sat: 6, Doppler Shift:  3240.00, BinPeak: 1571 , Peak-Second Ratio (dB):  16.4787\n",
      "Sat: 6, Doppler Shift:  3241.00, BinPeak: 1571 , Peak-Second Ratio (dB):  16.4798\n",
      "Sat: 6, Doppler Shift:  3242.00, BinPeak: 1571 , Peak-Second Ratio (dB):  16.4809\n",
      "Sat: 6, Doppler Shift:  3243.00, BinPeak: 1571 , Peak-Second Ratio (dB):  16.4819\n",
      "Sat: 6, Doppler Shift:  3244.00, BinPeak: 1571 , Peak-Second Ratio (dB):  16.4829\n",
      "Sat: 6, Doppler Shift:  3245.00, BinPeak: 1571 , Peak-Second Ratio (dB):  16.4839\n",
      "Sat: 6, Doppler Shift:  3246.00, BinPeak: 1571 , Peak-Second Ratio (dB):  16.4849\n",
      "Sat: 6, Doppler Shift:  3247.00, BinPeak: 1571 , Peak-Second Ratio (dB):  16.4858\n",
      "Sat: 6, Doppler Shift:  3248.00, BinPeak: 1571 , Peak-Second Ratio (dB):  16.4867\n",
      "Sat: 6, Doppler Shift:  3249.00, BinPeak: 1571 , Peak-Second Ratio (dB):  16.4876\n",
      "Sat: 6, Doppler Shift:  3250.00, BinPeak: 1571 , Peak-Second Ratio (dB):  16.4885\n",
      "Sat: 6, Doppler Shift:  3251.00, BinPeak: 1571 , Peak-Second Ratio (dB):  16.4893\n",
      "Sat: 6, Doppler Shift:  3252.00, BinPeak: 1571 , Peak-Second Ratio (dB):  16.4901\n",
      "Sat: 6, Doppler Shift:  3253.00, BinPeak: 1571 , Peak-Second Ratio (dB):  16.4909\n",
      "Sat: 6, Doppler Shift:  3254.00, BinPeak: 1571 , Peak-Second Ratio (dB):  16.4916\n",
      "Sat: 6, Doppler Shift:  3255.00, BinPeak: 1571 , Peak-Second Ratio (dB):  16.4924\n",
      "Sat: 6, Doppler Shift:  3256.00, BinPeak: 1571 , Peak-Second Ratio (dB):  16.4931\n",
      "Sat: 6, Doppler Shift:  3257.00, BinPeak: 1571 , Peak-Second Ratio (dB):  16.4937\n",
      "Sat: 6, Doppler Shift:  3258.00, BinPeak: 1571 , Peak-Second Ratio (dB):  16.4944\n",
      "Sat: 6, Doppler Shift:  3259.00, BinPeak: 1571 , Peak-Second Ratio (dB):  16.4950\n",
      "Sat: 6, Doppler Shift:  3260.00, BinPeak: 1571 , Peak-Second Ratio (dB):  16.4956\n",
      "Sat: 6, Doppler Shift:  3261.00, BinPeak: 1571 , Peak-Second Ratio (dB):  16.4962\n",
      "Sat: 6, Doppler Shift:  3262.00, BinPeak: 1571 , Peak-Second Ratio (dB):  16.4967\n",
      "Sat: 6, Doppler Shift:  3263.00, BinPeak: 1571 , Peak-Second Ratio (dB):  16.4973\n",
      "Sat: 6, Doppler Shift:  3264.00, BinPeak: 1571 , Peak-Second Ratio (dB):  16.4978\n",
      "Sat: 6, Doppler Shift:  3265.00, BinPeak: 1571 , Peak-Second Ratio (dB):  16.4982\n",
      "Sat: 6, Doppler Shift:  3266.00, BinPeak: 1571 , Peak-Second Ratio (dB):  16.4987\n",
      "Sat: 6, Doppler Shift:  3267.00, BinPeak: 1571 , Peak-Second Ratio (dB):  16.4991\n",
      "Sat: 6, Doppler Shift:  3268.00, BinPeak: 1571 , Peak-Second Ratio (dB):  16.4995\n",
      "Sat: 6, Doppler Shift:  3269.00, BinPeak: 1571 , Peak-Second Ratio (dB):  16.4999\n",
      "Sat: 6, Doppler Shift:  3270.00, BinPeak: 1571 , Peak-Second Ratio (dB):  16.5002\n",
      "Sat: 6, Doppler Shift:  3271.00, BinPeak: 1571 , Peak-Second Ratio (dB):  16.5006\n",
      "Sat: 6, Doppler Shift:  3272.00, BinPeak: 1571 , Peak-Second Ratio (dB):  16.5009\n",
      "Sat: 6, Doppler Shift:  3273.00, BinPeak: 1571 , Peak-Second Ratio (dB):  16.5011\n",
      "Sat: 6, Doppler Shift:  3274.00, BinPeak: 1571 , Peak-Second Ratio (dB):  16.5014\n",
      "Sat: 6, Doppler Shift:  3275.00, BinPeak: 1571 , Peak-Second Ratio (dB):  16.5016\n",
      "Sat: 6, Doppler Shift:  3276.00, BinPeak: 1571 , Peak-Second Ratio (dB):  16.5018\n",
      "Sat: 6, Doppler Shift:  3277.00, BinPeak: 1571 , Peak-Second Ratio (dB):  16.5020\n",
      "Sat: 6, Doppler Shift:  3278.00, BinPeak: 1571 , Peak-Second Ratio (dB):  16.5021\n",
      "Sat: 6, Doppler Shift:  3279.00, BinPeak: 1571 , Peak-Second Ratio (dB):  16.5022\n",
      "Sat: 6, Doppler Shift:  3280.00, BinPeak: 1571 , Peak-Second Ratio (dB):  16.5023\n",
      "Sat: 6, Doppler Shift:  3281.00, BinPeak: 1571 , Peak-Second Ratio (dB):  16.5024\n",
      "Sat: 6, Doppler Shift:  3282.00, BinPeak: 1571 , Peak-Second Ratio (dB):  16.5024\n",
      "Sat: 6, Doppler Shift:  3283.00, BinPeak: 1571 , Peak-Second Ratio (dB):  16.5025\n",
      "Sat: 6, Doppler Shift:  3284.00, BinPeak: 1571 , Peak-Second Ratio (dB):  16.5024\n",
      "Sat: 6, Doppler Shift:  3285.00, BinPeak: 1571 , Peak-Second Ratio (dB):  16.5024\n",
      "Sat: 6, Doppler Shift:  3286.00, BinPeak: 1571 , Peak-Second Ratio (dB):  16.5024\n",
      "Sat: 6, Doppler Shift:  3287.00, BinPeak: 1571 , Peak-Second Ratio (dB):  16.5023\n",
      "Sat: 6, Doppler Shift:  3288.00, BinPeak: 1571 , Peak-Second Ratio (dB):  16.5022\n",
      "Sat: 6, Doppler Shift:  3289.00, BinPeak: 1571 , Peak-Second Ratio (dB):  16.5020\n",
      "Sat: 6, Doppler Shift:  3290.00, BinPeak: 1571 , Peak-Second Ratio (dB):  16.5019\n",
      "Sat: 6, Doppler Shift:  3291.00, BinPeak: 1571 , Peak-Second Ratio (dB):  16.5017\n",
      "Sat: 6, Doppler Shift:  3292.00, BinPeak: 1571 , Peak-Second Ratio (dB):  16.5015\n",
      "Sat: 6, Doppler Shift:  3293.00, BinPeak: 1571 , Peak-Second Ratio (dB):  16.5013\n",
      "Sat: 6, Doppler Shift:  3294.00, BinPeak: 1571 , Peak-Second Ratio (dB):  16.5010\n",
      "Sat: 6, Doppler Shift:  3295.00, BinPeak: 1571 , Peak-Second Ratio (dB):  16.5007\n",
      "Sat: 6, Doppler Shift:  3296.00, BinPeak: 1571 , Peak-Second Ratio (dB):  16.5004\n",
      "Sat: 6, Doppler Shift:  3297.00, BinPeak: 1571 , Peak-Second Ratio (dB):  16.5001\n",
      "Sat: 6, Doppler Shift:  3298.00, BinPeak: 1571 , Peak-Second Ratio (dB):  16.4997\n",
      "Sat: 6, Doppler Shift:  3299.00, BinPeak: 1571 , Peak-Second Ratio (dB):  16.4993\n",
      "Sat: 6, Doppler Shift:  3300.00, BinPeak: 1571 , Peak-Second Ratio (dB):  16.4989\n",
      "Sat: 6, Doppler Shift:  3301.00, BinPeak: 1571 , Peak-Second Ratio (dB):  16.4985\n",
      "Sat: 6, Doppler Shift:  3302.00, BinPeak: 1571 , Peak-Second Ratio (dB):  16.4980\n",
      "Sat: 6, Doppler Shift:  3303.00, BinPeak: 1571 , Peak-Second Ratio (dB):  16.4975\n",
      "Sat: 6, Doppler Shift:  3304.00, BinPeak: 1571 , Peak-Second Ratio (dB):  16.4970\n",
      "Sat: 6, Doppler Shift:  3305.00, BinPeak: 1571 , Peak-Second Ratio (dB):  16.4965\n",
      "Sat: 6, Doppler Shift:  3306.00, BinPeak: 1571 , Peak-Second Ratio (dB):  16.4959\n",
      "Sat: 6, Doppler Shift:  3307.00, BinPeak: 1571 , Peak-Second Ratio (dB):  16.4954\n",
      "Sat: 6, Doppler Shift:  3308.00, BinPeak: 1571 , Peak-Second Ratio (dB):  16.4947\n",
      "Sat: 6, Doppler Shift:  3309.00, BinPeak: 1571 , Peak-Second Ratio (dB):  16.4941\n",
      "Sat: 6, Doppler Shift:  3310.00, BinPeak: 1571 , Peak-Second Ratio (dB):  16.4935\n",
      "Sat: 6, Doppler Shift:  3311.00, BinPeak: 1571 , Peak-Second Ratio (dB):  16.4928\n",
      "Sat: 6, Doppler Shift:  3312.00, BinPeak: 1571 , Peak-Second Ratio (dB):  16.4921\n",
      "Sat: 6, Doppler Shift:  3313.00, BinPeak: 1571 , Peak-Second Ratio (dB):  16.4913\n",
      "Sat: 6, Doppler Shift:  3314.00, BinPeak: 1571 , Peak-Second Ratio (dB):  16.4906\n",
      "Sat: 6, Doppler Shift:  3315.00, BinPeak: 1571 , Peak-Second Ratio (dB):  16.4898\n",
      "Sat: 6, Doppler Shift:  3316.00, BinPeak: 1571 , Peak-Second Ratio (dB):  16.4890\n",
      "Sat: 6, Doppler Shift:  3317.00, BinPeak: 1571 , Peak-Second Ratio (dB):  16.4881\n",
      "Sat: 6, Doppler Shift:  3318.00, BinPeak: 1571 , Peak-Second Ratio (dB):  16.4873\n",
      "Sat: 6, Doppler Shift:  3319.00, BinPeak: 1571 , Peak-Second Ratio (dB):  16.4864\n",
      "Sat: 6, Doppler Shift:  3320.00, BinPeak: 1571 , Peak-Second Ratio (dB):  16.4855\n",
      "Sat: 6, Doppler Shift:  3321.00, BinPeak: 1571 , Peak-Second Ratio (dB):  16.4845\n",
      "Sat: 6, Doppler Shift:  3322.00, BinPeak: 1571 , Peak-Second Ratio (dB):  16.4836\n",
      "Sat: 6, Doppler Shift:  3323.00, BinPeak: 1571 , Peak-Second Ratio (dB):  16.4826\n",
      "Sat: 6, Doppler Shift:  3324.00, BinPeak: 1571 , Peak-Second Ratio (dB):  16.4816\n",
      "Sat: 6, Doppler Shift:  3325.00, BinPeak: 1571 , Peak-Second Ratio (dB):  16.4805\n",
      "Sat: 6, Doppler Shift:  3326.00, BinPeak: 1571 , Peak-Second Ratio (dB):  16.4795\n",
      "Sat: 6, Doppler Shift:  3327.00, BinPeak: 1571 , Peak-Second Ratio (dB):  16.4784\n",
      "Sat: 6, Doppler Shift:  3328.00, BinPeak: 1571 , Peak-Second Ratio (dB):  16.4773\n",
      "Sat: 6, Doppler Shift:  3329.00, BinPeak: 1571 , Peak-Second Ratio (dB):  16.4761\n",
      "Sat: 6, Doppler Shift:  3330.00, BinPeak: 1571 , Peak-Second Ratio (dB):  16.4750\n",
      "Sat: 6, Doppler Shift:  3331.00, BinPeak: 1571 , Peak-Second Ratio (dB):  16.4738\n",
      "Sat: 6, Doppler Shift:  3332.00, BinPeak: 1571 , Peak-Second Ratio (dB):  16.4726\n",
      "Sat: 6, Doppler Shift:  3333.00, BinPeak: 1571 , Peak-Second Ratio (dB):  16.4713\n",
      "Sat: 6, Doppler Shift:  3334.00, BinPeak: 1571 , Peak-Second Ratio (dB):  16.4701\n",
      "Sat: 6, Doppler Shift:  3335.00, BinPeak: 1571 , Peak-Second Ratio (dB):  16.4688\n",
      "Sat: 6, Doppler Shift:  3336.00, BinPeak: 1571 , Peak-Second Ratio (dB):  16.4675\n",
      "Sat: 6, Doppler Shift:  3337.00, BinPeak: 1571 , Peak-Second Ratio (dB):  16.4662\n",
      "Sat: 6, Doppler Shift:  3338.00, BinPeak: 1571 , Peak-Second Ratio (dB):  16.4648\n",
      "Sat: 6, Doppler Shift:  3339.00, BinPeak: 1571 , Peak-Second Ratio (dB):  16.4634\n",
      "Sat: 6, Doppler Shift:  3340.00, BinPeak: 1571 , Peak-Second Ratio (dB):  16.4620\n",
      "Sat: 6, Doppler Shift:  3341.00, BinPeak: 1571 , Peak-Second Ratio (dB):  16.4606\n",
      "Sat: 6, Doppler Shift:  3342.00, BinPeak: 1571 , Peak-Second Ratio (dB):  16.4591\n",
      "Sat: 6, Doppler Shift:  3343.00, BinPeak: 1571 , Peak-Second Ratio (dB):  16.4576\n",
      "Sat: 6, Doppler Shift:  3344.00, BinPeak: 1571 , Peak-Second Ratio (dB):  16.4561\n",
      "Sat: 6, Doppler Shift:  3345.00, BinPeak: 1571 , Peak-Second Ratio (dB):  16.4546\n",
      "Sat: 6, Doppler Shift:  3346.00, BinPeak: 1571 , Peak-Second Ratio (dB):  16.4530\n",
      "Sat: 6, Doppler Shift:  3347.00, BinPeak: 1571 , Peak-Second Ratio (dB):  16.4514\n",
      "Sat: 6, Doppler Shift:  3348.00, BinPeak: 1571 , Peak-Second Ratio (dB):  16.4498\n",
      "Sat: 6, Doppler Shift:  3349.00, BinPeak: 1571 , Peak-Second Ratio (dB):  16.4481\n",
      "Sat: 6, Doppler Shift:  3350.00, BinPeak: 1571 , Peak-Second Ratio (dB):  16.4465\n",
      "Sat: 6, Doppler Shift:  3351.00, BinPeak: 1571 , Peak-Second Ratio (dB):  16.4448\n",
      "Sat: 6, Doppler Shift:  3352.00, BinPeak: 1571 , Peak-Second Ratio (dB):  16.4431\n",
      "Sat: 6, Doppler Shift:  3353.00, BinPeak: 1571 , Peak-Second Ratio (dB):  16.4413\n",
      "Sat: 6, Doppler Shift:  3354.00, BinPeak: 1571 , Peak-Second Ratio (dB):  16.4396\n",
      "Sat: 6, Doppler Shift:  3355.00, BinPeak: 1571 , Peak-Second Ratio (dB):  16.4378\n",
      "Sat: 6, Doppler Shift:  3356.00, BinPeak: 1571 , Peak-Second Ratio (dB):  16.4360\n",
      "Sat: 6, Doppler Shift:  3357.00, BinPeak: 1571 , Peak-Second Ratio (dB):  16.4341\n",
      "Sat: 6, Doppler Shift:  3358.00, BinPeak: 1571 , Peak-Second Ratio (dB):  16.4323\n",
      "Sat: 6, Doppler Shift:  3359.00, BinPeak: 1571 , Peak-Second Ratio (dB):  16.4304\n",
      "Sat: 6, Doppler Shift:  3360.00, BinPeak: 1571 , Peak-Second Ratio (dB):  16.4285\n",
      "Sat: 6, Doppler Shift:  3361.00, BinPeak: 1571 , Peak-Second Ratio (dB):  16.4265\n",
      "Sat: 6, Doppler Shift:  3362.00, BinPeak: 1571 , Peak-Second Ratio (dB):  16.4246\n",
      "Sat: 6, Doppler Shift:  3363.00, BinPeak: 1571 , Peak-Second Ratio (dB):  16.4226\n",
      "Sat: 6, Doppler Shift:  3364.00, BinPeak: 1571 , Peak-Second Ratio (dB):  16.4206\n",
      "Sat: 6, Doppler Shift:  3365.00, BinPeak: 1571 , Peak-Second Ratio (dB):  16.4185\n",
      "Sat: 6, Doppler Shift:  3366.00, BinPeak: 1571 , Peak-Second Ratio (dB):  16.4165\n",
      "Sat: 6, Doppler Shift:  3367.00, BinPeak: 1571 , Peak-Second Ratio (dB):  16.4144\n",
      "Sat: 6, Doppler Shift:  3368.00, BinPeak: 1571 , Peak-Second Ratio (dB):  16.4123\n",
      "Sat: 6, Doppler Shift:  3369.00, BinPeak: 1571 , Peak-Second Ratio (dB):  16.4101\n",
      "Sat: 6, Doppler Shift:  3370.00, BinPeak: 1571 , Peak-Second Ratio (dB):  16.4079\n",
      "Sat: 6, Doppler Shift:  3371.00, BinPeak: 1571 , Peak-Second Ratio (dB):  16.4058\n",
      "Sat: 6, Doppler Shift:  3372.00, BinPeak: 1571 , Peak-Second Ratio (dB):  16.4035\n",
      "Sat: 6, Doppler Shift:  3373.00, BinPeak: 1571 , Peak-Second Ratio (dB):  16.4013\n",
      "Sat: 6, Doppler Shift:  3374.00, BinPeak: 1571 , Peak-Second Ratio (dB):  16.3990\n",
      "Sat: 6, Doppler Shift:  3375.00, BinPeak: 1571 , Peak-Second Ratio (dB):  16.3967\n",
      "Sat: 6, Doppler Shift:  3376.00, BinPeak: 1571 , Peak-Second Ratio (dB):  16.3944\n",
      "Sat: 6, Doppler Shift:  3377.00, BinPeak: 1571 , Peak-Second Ratio (dB):  16.3921\n",
      "Sat: 6, Doppler Shift:  3378.00, BinPeak: 1571 , Peak-Second Ratio (dB):  16.3897\n",
      "Sat: 6, Doppler Shift:  3379.00, BinPeak: 1571 , Peak-Second Ratio (dB):  16.3873\n",
      "Sat: 6, Doppler Shift:  3380.00, BinPeak: 1571 , Peak-Second Ratio (dB):  16.3849\n",
      "Sat: 6, Doppler Shift:  3381.00, BinPeak: 1571 , Peak-Second Ratio (dB):  16.3825\n",
      "Sat: 6, Doppler Shift:  3382.00, BinPeak: 1571 , Peak-Second Ratio (dB):  16.3800\n",
      "Sat: 6, Doppler Shift:  3383.00, BinPeak: 1571 , Peak-Second Ratio (dB):  16.3775\n",
      "Sat: 6, Doppler Shift:  3384.00, BinPeak: 1571 , Peak-Second Ratio (dB):  16.3750\n",
      "Sat: 6, Doppler Shift:  3385.00, BinPeak: 1571 , Peak-Second Ratio (dB):  16.3724\n",
      "Sat: 6, Doppler Shift:  3386.00, BinPeak: 1571 , Peak-Second Ratio (dB):  16.3699\n",
      "Sat: 6, Doppler Shift:  3387.00, BinPeak: 1571 , Peak-Second Ratio (dB):  16.3673\n",
      "Sat: 6, Doppler Shift:  3388.00, BinPeak: 1571 , Peak-Second Ratio (dB):  16.3647\n",
      "Sat: 6, Doppler Shift:  3389.00, BinPeak: 1571 , Peak-Second Ratio (dB):  16.3620\n",
      "Sat: 6, Doppler Shift:  3390.00, BinPeak: 1571 , Peak-Second Ratio (dB):  16.3593\n",
      "Sat: 6, Doppler Shift:  3391.00, BinPeak: 1571 , Peak-Second Ratio (dB):  16.3566\n",
      "Sat: 6, Doppler Shift:  3392.00, BinPeak: 1571 , Peak-Second Ratio (dB):  16.3539\n",
      "Sat: 6, Doppler Shift:  3393.00, BinPeak: 1571 , Peak-Second Ratio (dB):  16.3512\n",
      "Sat: 6, Doppler Shift:  3394.00, BinPeak: 1571 , Peak-Second Ratio (dB):  16.3484\n",
      "Sat: 6, Doppler Shift:  3395.00, BinPeak: 1571 , Peak-Second Ratio (dB):  16.3456\n",
      "Sat: 6, Doppler Shift:  3396.00, BinPeak: 1571 , Peak-Second Ratio (dB):  16.3428\n",
      "Sat: 6, Doppler Shift:  3397.00, BinPeak: 1571 , Peak-Second Ratio (dB):  16.3399\n",
      "Sat: 6, Doppler Shift:  3398.00, BinPeak: 1571 , Peak-Second Ratio (dB):  16.3371\n",
      "Sat: 6, Doppler Shift:  3399.00, BinPeak: 1571 , Peak-Second Ratio (dB):  16.3342\n",
      "Sat: 6, Doppler Shift:  3400.00, BinPeak: 1571 , Peak-Second Ratio (dB):  16.3312\n"
     ]
    },
    {
     "data": {
      "image/png": "[encoded data removed]",
      "text/plain": [
       "<matplotlib.figure.Figure at 0x7f5a44c645c0>"
      ]
     },
     "metadata": {},
     "output_type": "display_data"
    }
   ],
   "source": [
    "# Choose what frequencies and satellites to increment over\n",
    "StartingFrequencyShift = 3200\n",
    "EndingFrequencyShift = 3400\n",
    "FrequencyShiftIncrement = 1\n",
    "FrequencyList = range(StartingFrequencyShift,EndingFrequencyShift + FrequencyShiftIncrement,FrequencyShiftIncrement)\n",
    "\n",
    "StartingSatellite = 6\n",
    "EndingSatellite = 6\n",
    "SatelliteList = range(StartingSatellite, EndingSatellite + 1)\n",
    "\n",
    "# Create list of C/A code Taps, for simpler sat selection\",\n",
    "#sat = [(2,6),(3,7),(4,8),(5,9),(1,9),(2,6),(1,8),(2,9),(3,10),(2,3),(3,4),(5,6),(6,7),(7,8),(8,9),(9,10),(1,4),(2,5),(3,6),(4,7),(5,8),(6,9),(1,3),(4,6),(5,7),(6,8),(7,9),(8,10),(1,6),(2,7),(3,8),(4,9),(5,10),(4,10),(1,7),(2,8),(4,10)]\n",
    "sat = [(1,5),(2,6),(3,7),(4,8),(0,8),(1,5),(0,7),(1,8),(2,9),(1,2),(2,3),(4,5),(5,6),(6,7),(7,8),(8,9),(0,3),(1,4),(2,5),(3,6),(4,7),(5,8),(0,2),(3,5),(4,6),(5,7),(6,8),(7,9),(0,5),(1,6),(2,7),(3,8),(4,9),(3,9),(0,6),(1,7),(3,9)]\n",
    "\n",
    "# Create array to store max values, freq ranges, per satellite\n",
    "SatMax = np.zeros((len(SatelliteList),len(FrequencyList),4))\n",
    "\n",
    "satInd = 0 \n",
    "# Loop through selected satellites\n",
    "for curSat in SatelliteList: \n",
    "    # Create Code Generator object for chosen Satellite\n",
    "    CodeGen = GoldCode(sat[curSat - 1]) # Index starts at zero\n",
    "    \n",
    "    # Generate CA Code\n",
    "    CACode = CodeGen.getCode(1023)\n",
    "    \n",
    "    # Reformat GC to have -1 in place of 0\n",
    "    for n,i in enumerate(CACode):\n",
    "        if i==0:\n",
    "            CACode[n]=-1\n",
    "            \n",
    "    # Repeat each chip 4 times (See markdown in above cell), to match our ADC sample frequency\",\n",
    "    CACodeSampled = np.repeat(CACode,4)\n",
    "    #print(\"Satellite chosen: %d, with tap: %s\" %(Satellite,str(sat[Satellite - 1])))\n",
    "    \n",
    "    # Repeat entire array for each ms of data sampled\n",
    "    CACodeSampled = np.tile(CACodeSampled,ms)\n",
    "    Codefft = np.fft.fft(CACodeSampled,nfft)\n",
    "    GCConj = np.conjugate(Codefft)\n",
    "    \n",
    "    freqInd = 0\n",
    "    # Loop through all frequencies\n",
    "    for curFreq in FrequencyList:\n",
    "        # Initialize complex array\n",
    "        CDataShifted = np.zeros(len(CData), dtype=np.complex)\n",
    "        \n",
    "        # Shift frequency using complex exponential \n",
    "        CDataShifted = CData*np.exp(1j*2*np.pi*curFreq*t)\n",
    "\n",
    "        fftCDataShifted = np.fft.fft(CDataShifted,nfft)\n",
    "        \n",
    "        result = np.fft.ifft(GCConj * fftCDataShifted,nfft)\n",
    "        \n",
    "        resultSQ = np.abs(result) ** 2\n",
    "        resultSQ = np.real(resultSQ)\n",
    "        maxAbsSquared = np.max(resultSQ)\n",
    "        \n",
    "        rmsPowerdB = 10*np.log10(np.mean(resultSQ))\n",
    "        \n",
    "        resultLog= 10*np.log10(resultSQ)\n",
    "        \n",
    "        maxdB = np.max(resultLog)\n",
    "        \n",
    "                \n",
    "        # Store results in array\n",
    "        SatMax[satInd,freqInd,0] = maxAbsSquared\n",
    "        SatMax[satInd,freqInd,1] = maxdB\n",
    "        SatMax[satInd,freqInd,2] = np.real(np.sum(resultLog))\n",
    "        SatMax[satInd,freqInd,3] = maxdB - rmsPowerdB\n",
    "        \n",
    "        print(\"Sat: %d, Doppler Shift: %8.2f, BinPeak: %d , Peak-Second Ratio (dB): %8.4f\" %(curSat,curFreq, np.argmax(resultSQ[0:4*1022]), maxdB - rmsPowerdB))\n",
    "        #if (maxdB - rmsPowerdB > 21):\n",
    "            #plt.plot(resultSQ)\n",
    "            #plt.show()\n",
    "        \n",
    "        freqInd = freqInd + 1\n",
    "        \n",
    "    plt.figure()\n",
    "    \n",
    "    plt.plot(FrequencyList, SatMax[satInd, :, 3])\n",
    "    #plt.ylim((0,20))\n",
    "    plt.xlabel('Doppler Shift (Hz)')\n",
    "    plt.ylabel('Peak-to-RMS ratio (dB)')\n",
    "    plt.title(\"Sat %d\"%curSat)\n",
    "    plt.show()\n",
    "    \n",
    "    satInd = satInd+1\n",
    "\n",
    "#maxAbsSquared\n",
    "#secondMax"
   ]
  },
  {
   "cell_type": "code",
   "execution_count": null,
   "metadata": {
    "collapsed": false,
    "deletable": true,
    "editable": true
   },
   "outputs": [],
   "source": []
  },
  {
   "cell_type": "markdown",
   "metadata": {
    "deletable": true,
    "editable": true
   },
   "source": [
    "For this data sample (Launch 12, 4 seconds after launch) we should see the following satellites:\n",
    "\n",
    "Sat | S/N (dB-Hz) | doppler shift (Hz) | code phase (chips)\n",
    ":----- | -------:| -------:| --------:\n",
    " 1 | 13.287713  | -1209.276720 | 394.250000\n",
    " 4 | 13.700614 | 600.950356 | 547.750000\n",
    " 11 | 13.381992 | 612.980296 | 514.750000\n",
    " 13 | 13.554054 | -12.064141 | 655.250000\n",
    " 15 | 15.276798 | -1399.910091 | 489.750000\n",
    " \n",
    " So if we generate the Gold codes for the correct satellites and correct for the Doppler shift, we should see a peak in the time domain correlator."
   ]
  },
  {
   "cell_type": "markdown",
   "metadata": {
    "collapsed": true,
    "deletable": true,
    "editable": true
   },
   "source": [
    "\n",
    "# Generate Gold Code for selected satellite"
   ]
  },
  {
   "cell_type": "code",
   "execution_count": null,
   "metadata": {
    "collapsed": false,
    "deletable": true,
    "editable": true,
    "scrolled": false
   },
   "outputs": [],
   "source": [
    "sats = {1: -1209.3, 4: 600.95, 11: 612.98, 13: -12.06, 15: -1399.9}\n",
    "\n",
    "plt.style.use('ggplot')\n",
    "\n",
    "for Satellite, Doppler in sats.items():\n",
    "\n",
    "    #code = np.repeat(CodeGen.getCode(1023), 4)\n",
    "\n",
    "    # Create Code Generator object for chosen Satellite\n",
    "    CodeGen = GoldCode(sat[Satellite - 1]) # Index starts at zero\n",
    "\n",
    "    # Generate CA Code\n",
    "    CACode = CodeGen.getCode(1023)\n",
    "\n",
    "    # Reformat GC to have -1 in place of 0 (Now done in GoldCode)\n",
    "    #for n,i in enumerate(CACode):\n",
    "    #    if i==0:\n",
    "    #        CACode[n]=-1\n",
    "\n",
    "    # Repeat each chip 4 times (See markdown in above cell), to match our ADC sample frequency\",\n",
    "    CACodeSampled = np.repeat(CACode,4)\n",
    "\n",
    "    # Repeat entire array for each ms of data sampled\n",
    "    CACodeSampled = np.tile(CACodeSampled,int(SampleLength*1000))\n",
    " \n",
    "    Codefft = np.fft.fft(CACodeSampled)\n",
    "    GCConj = np.conjugate(Codefft)\n",
    "    \n",
    "\n",
    "    result = np.fft.ifft(GCConj * ffC,nfft)\n",
    "\n",
    "    resultSQ = np.real(result*np.conjugate(result))\n",
    "\n",
    "    t = np.linspace(0,SampleLength,nfft,endpoint=True) \n",
    "#    plt.figure(figsize=(10,6))\n",
    "    \n",
    "    plt.plot(t,resultSQ)\n",
    "\n",
    "    # Zoom in to one ms\n",
    "    xmin,xmax = plt.xlim()\n",
    "    plt.xlim(xmin,xmin + 0.001)\n",
    "\n",
    "\n",
    "    plt.title(\"SV%d Cross-correlation without\\nadjusting for Doppler shift.\"%Satellite)\n",
    "    plt.xlabel(\"Time (seconds)\")\n",
    "    plt.show()\n",
    "\n",
    "    # Search for largest value in 1 ms worth of data\n",
    "    SecondLargestValue = GetSecondLargest(resultSQ[0:int(fs*0.001)])\n",
    "\n",
    "    # Pseudo SNR\n",
    "    ResultsSNR = 10*np.log10(np.amax(resultSQ)/SecondLargestValue)\n",
    "    \n",
    "    freqShift = -Doppler #[Hz] -20\n",
    "\n",
    "\n",
    "    # Initialize complex array\n",
    "    CDataShifted = CData*np.exp(1j*2*np.pi*freqShift*t)\n",
    "    fftCDataShifted = np.fft.fft(CDataShifted,nfft)\n",
    "\n",
    "    result = np.fft.ifft(GCConj * fftCDataShifted,nfft)\n",
    "    resultSQ = np.real(result*np.conjugate(result))\n",
    "    resultLog = 10*np.log10(resultSQ)\n",
    "\n",
    " #   plt.figure(figsize=(10,6))\n",
    "    plt.plot(t,resultSQ)\n",
    "    plt.title(\"SV%d Cross-correlation with\\nDoppler adjustment of %d [Hz]\"%(Satellite, freqShift))\n",
    "    plt.xlabel(\"Time (seconds)\")\n",
    "\n",
    "    # Zoom in to one ms\n",
    "    xmin,xmax = plt.xlim()\n",
    "    plt.xlim(xmin,xmin + 0.001)\n",
    "    plt.show()\n",
    "\n",
    "    # Search for largest value in 1 ms worth of data\n",
    "    SecondLargestValue = GetSecondLargest(resultSQ[0:int(fs*0.001)])\n",
    "\n",
    "    # Pseudo SNR\n",
    "    ResultsSNR = 10*np.log10(np.amax(resultSQ)/SecondLargestValue)\n"
   ]
  },
  {
   "cell_type": "code",
   "execution_count": null,
   "metadata": {
    "collapsed": true,
    "deletable": true,
    "editable": true
   },
   "outputs": [],
   "source": [
    "\n"
   ]
  },
  {
   "cell_type": "code",
   "execution_count": null,
   "metadata": {
    "collapsed": false,
    "deletable": true,
    "editable": true
   },
   "outputs": [],
   "source": [
    "maxAbsSquared"
   ]
  },
  {
   "cell_type": "code",
   "execution_count": null,
   "metadata": {
    "collapsed": false,
    "deletable": true,
    "editable": true
   },
   "outputs": [],
   "source": [
    "secondMax"
   ]
  },
  {
   "cell_type": "code",
   "execution_count": null,
   "metadata": {
    "collapsed": false,
    "deletable": true,
    "editable": true
   },
   "outputs": [],
   "source": [
    "resultSQ"
   ]
  },
  {
   "cell_type": "code",
   "execution_count": null,
   "metadata": {
    "collapsed": false,
    "deletable": true,
    "editable": true
   },
   "outputs": [],
   "source": [
    "plt.plot(resultSQ)\n",
    "plt.show()"
   ]
  },
  {
   "cell_type": "code",
   "execution_count": null,
   "metadata": {
    "collapsed": true,
    "deletable": true,
    "editable": true
   },
   "outputs": [],
   "source": []
  }
 ],
 "metadata": {
  "anaconda-cloud": {},
  "kernelspec": {
   "display_name": "Python [default]",
   "language": "python",
   "name": "python3"
  },
  "language_info": {
   "codemirror_mode": {
    "name": "ipython",
    "version": 3
   },
   "file_extension": ".py",
   "mimetype": "text/x-python",
   "name": "python",
   "nbconvert_exporter": "python",
   "pygments_lexer": "ipython3",
   "version": "3.5.2"
  }
 },
 "nbformat": 4,
 "nbformat_minor": 2
}
