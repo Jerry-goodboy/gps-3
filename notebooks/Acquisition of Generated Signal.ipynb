{
 "cells": [
  {
   "cell_type": "markdown",
   "metadata": {
    "deletable": true,
    "editable": true
   },
   "source": [
    "# Satellite Acquisition\n",
    "\n",
    "**BEFORE RUNNING THIS CODE:\n",
    "test.bin needs to be generated using gps-sdr-sim, using the command below. https://github.com/osqzss/gps-sdr-sim The brdc2000.15n file is from: ftp://cddis.gsfc.nasa.gov/gnss/data/daily/\n",
    "\n",
    "This notebook demonstrates the satellite acquisition proccess, in which we determine which satellites are overhead. This code implements the parallel code phase search algorithm, which is the most complex of those available, but is also the fastest since it returns a result in just one iteration. It is possible that we will need to use a different algorithm when the code is running on an embedded platform.\n",
    "\n",
    "As noted in the L-12 GPS data README, the sampling frequency is 4.092 MHz. and the IF is 0. Also note that the L1 signal hits the antenna at the 1.57542 GHz frequency (10.23 MHz x 154). This is dealt with by the hardware frontend, so we only have to concern ourselves with the 1.023 MHz BPSK modulated C/A code.\n",
    "\n",
    "## Preamble"
   ]
  },
  {
   "cell_type": "code",
   "execution_count": 12,
   "metadata": {
    "collapsed": false,
    "deletable": true,
    "editable": true
   },
   "outputs": [],
   "source": [
    "import numpy as np\n",
    "import matplotlib.pyplot as plt\n",
    "import struct\n",
    "import math\n",
    "import heapq\n",
    "\n",
    "##Grabs the GoldCode module from the root of the repo\n",
    "import os\n",
    "import sys\n",
    "nb_dir = os.path.split(os.getcwd())[0]\n",
    "if nb_dir not in sys.path:\n",
    "    sys.path.append(nb_dir)\n",
    "from GoldCode import GoldCode\n",
    "from GPSData import IQData"
   ]
  },
  {
   "cell_type": "markdown",
   "metadata": {
    "deletable": true,
    "editable": true
   },
   "source": [
    "## Import data File\n",
    "\n",
    "test.bin needs to be generated using gps-sdr-sim, using the command below. \n",
    "https://github.com/osqzss/gps-sdr-sim\n",
    "The brdc2000.15n file is from: \n",
    "ftp://cddis.gsfc.nasa.gov/gnss/data/daily/"
   ]
  },
  {
   "cell_type": "code",
   "execution_count": 13,
   "metadata": {
    "collapsed": false,
    "deletable": true,
    "editable": true
   },
   "outputs": [],
   "source": [
    "# Generated from gps-sdr-sim using the command: \n",
    "#  ./gps-sdr-sim -e brdc2000.15n -l 43.798582,-120.648512,1381.0 -t 2015/07/19,11:17:11 -s 5000000 -d 5 -b 8 -o test5MHz.bin -v\n",
    "\n",
    "fs = 5*10**6 # Sample rate used in above command\n",
    "\n",
    "fHandle = open('../../gps-sdr-sim/test5MHz.bin','rb')\n",
    "\n",
    "# Read first pair of bytes\n",
    "I1 = fHandle.read(1)\n",
    "Q1 = fHandle.read(1)\n",
    "\n",
    "i = 1\n",
    "numOfMS = 5\n",
    "ms = 1*10**(-3)\n",
    "TotalSamples = (numOfMS*ms) * fs\n",
    "SamplesInOneMS = ms*fs\n",
    "\n",
    "# Create empty lists\n",
    "IData = []\n",
    "QData = []\n",
    "\n",
    "# Read until no data is left (will also stop if goes past desired numOfMS)\n",
    "while I1 != \"\":\n",
    "    IData.append(int.from_bytes(I1, byteorder='big', signed=True))\n",
    "    QData.append(int.from_bytes(Q1, byteorder='big', signed=True))\n",
    "    I1 = fHandle.read(1)\n",
    "    Q1 = fHandle.read(1)\n",
    "    i = i+1\n",
    "    if i > TotalSamples: # Read only desired number of ms\n",
    "        break\n",
    "fHandle.close()\n",
    "\n",
    "# Generate time vector\n",
    "t = np.linspace(0,(numOfMS*ms),len(IData),endpoint=True) \n",
    "\n",
    "# Create Numpy array of complex data (Note: IData is the real data)\n",
    "CData = np.zeros(len(IData), dtype=np.complex)\n",
    "CData = np.array(IData) + 1j*np.array(QData)"
   ]
  },
  {
   "cell_type": "code",
   "execution_count": 14,
   "metadata": {
    "collapsed": false,
    "deletable": true,
    "editable": true
   },
   "outputs": [
    {
     "name": "stdout",
     "output_type": "stream",
     "text": [
      "Calculated deltaFreq: 200.000000 [Hz]\n"
     ]
    }
   ],
   "source": [
    "# Since we are using circular-convolution, nfft must be equal to the number of samples\n",
    "nfft = len(CData)\n",
    "deltaFreq = fs/nfft\n",
    "print(\"Calculated deltaFreq: %f [Hz]\" %(deltaFreq))\n",
    "\n",
    "# Generate frequency lists for plotting fft\n",
    "# Can use f for regular fft and fshift for shifted version\n",
    "fs_kHz = fs/1000 #Make easier to read\n",
    "f = np.linspace (0,fs_kHz,nfft, endpoint=False)\n",
    "fshift = np.linspace(-fs_kHz/2,fs_kHz/2,nfft,endpoint=False)"
   ]
  },
  {
   "cell_type": "markdown",
   "metadata": {
    "deletable": true,
    "editable": true
   },
   "source": [
    "## Function to generate gold codes"
   ]
  },
  {
   "cell_type": "code",
   "execution_count": 15,
   "metadata": {
    "collapsed": false,
    "deletable": true,
    "editable": true,
    "scrolled": true
   },
   "outputs": [],
   "source": [
    "def GoldCodeSampled(PRN,fs,ChipOffset,numOfMS = 1):\n",
    "    # Create list of C/A code Taps, for simpler sat selection\",\n",
    "    sat = [(1,5),(2,6),(3,7),(4,8),(0,8),(1,5),(0,7),(1,8),(2,9),(1,2),(2,3),(4,5),(5,6),(6,7),(7,8),(8,9),(0,3),(1,4),(2,5),(3,6),(4,7),(5,8),(0,2),(3,5),(4,6),(5,7),(6,8),(7,9),(0,5),(1,6),(2,7),(3,8),(4,9),(3,9),(0,6),(1,7),(3,9)]\n",
    "    \n",
    "    # Create Code Generator object for chosen Satellite\n",
    "    CodeGen = GoldCode(sat[PRN - 1]) # Index starts at zero\n",
    "    \n",
    "    # Generate a non-sampled CA Code\n",
    "    CACode = CodeGen.getCode(1023*numOfMS, samplesPerChip = 1)\n",
    "    \n",
    "    # Determine how many samples occur within numOfMS\n",
    "    numOfSamples = (numOfMS*10**(-3)*fs)\n",
    "    maxTimeValue = numOfMS*10**(-3)\n",
    "    \n",
    "    # Determine ChipOffset in units of time\n",
    "    Tca = 1/(1.023*10**6)\n",
    "    timeChipOffset = Tca*ChipOffset \n",
    "    \n",
    "    # Time vector for sampled CA code\n",
    "    tm = np.linspace(timeChipOffset, maxTimeValue + timeChipOffset, endpoint=True)\n",
    "\n",
    "    # Time vector for 1.023 MHz sampled CA code (1 sample per chip)\n",
    "    # where each sample is at the beginning transition edge (ie: the first chip starts at t=0)\n",
    "    tca = np.linspace(0,maxTimeValue,numOfMS*1023,endpoint=False)\n",
    "    \n",
    "    CACodeSampled = []\n",
    "    for tInd,tVal in enumerate(tm):\n",
    "        # Catch values outside the boundry of 0 [ms] - n [ms] CA code\n",
    "        # Then roll the time to the other end of the time list and store in tAdj\n",
    "        if tVal < 0: \n",
    "            tAdj = maxTimeValue + tVal\n",
    "        elif tVal > maxTimeValue:\n",
    "            tAdj = maxTimeValue - tVal\n",
    "        else: \n",
    "            tAdj = tVal\n",
    "        \n",
    "    return 0 # Haven't finished implementing this part yet."
   ]
  },
  {
   "cell_type": "code",
   "execution_count": 16,
   "metadata": {
    "collapsed": false,
    "deletable": true,
    "editable": true,
    "scrolled": true
   },
   "outputs": [],
   "source": [
    "CodeSampled = GoldCodeSampled(1,fs,0,1)\n"
   ]
  },
  {
   "cell_type": "markdown",
   "metadata": {
    "deletable": true,
    "editable": true
   },
   "source": [
    "## Function to find second largest value"
   ]
  },
  {
   "cell_type": "code",
   "execution_count": 17,
   "metadata": {
    "collapsed": false,
    "deletable": true,
    "editable": true
   },
   "outputs": [],
   "source": [
    "# This will return second largest value\n",
    "# It will also ignore any value that is close to the second largest value\n",
    "def GetSecondLargest(DataList):\n",
    "    # Make sure is a numpy array\n",
    "    DataArray = np.array(DataList)\n",
    "    \n",
    "    # Find largest value\n",
    "    Largest = np.amax(DataArray)\n",
    "    LargestIndex = np.argmax(DataArray)\n",
    "#    print(\"Largest value: %f, at position: %d\"%(Largest,LargestIndex))\n",
    "    \n",
    "    # Reduce value by a percent to prevent near-identical values from being selected\n",
    "    ScaleAmount = 0.95\n",
    "    ScaledLargest = ScaleAmount*Largest\n",
    "    SecondLargest = 0\n",
    "    SecondLargestIndex = 0\n",
    "    \n",
    "    for ind,val in enumerate(DataArray):\n",
    "        if val < ScaledLargest:\n",
    "            if val > SecondLargest:\n",
    "                #Ignore adjacent bins to Largest\n",
    "                if (np.abs(LargestIndex-ind) > 10):\n",
    "                    SecondLargest = val\n",
    "                    SecondLargestIndex = ind\n",
    "    \n",
    "#    print(\"Second largest value: %f, at position: %d\"%(SecondLargest,SecondLargestIndex))\n",
    "    return SecondLargest"
   ]
  },
  {
   "cell_type": "code",
   "execution_count": null,
   "metadata": {
    "collapsed": true
   },
   "outputs": [],
   "source": []
  }
 ],
 "metadata": {
  "anaconda-cloud": {},
  "kernelspec": {
   "display_name": "Python [default]",
   "language": "python",
   "name": "python3"
  },
  "language_info": {
   "codemirror_mode": {
    "name": "ipython",
    "version": 3
   },
   "file_extension": ".py",
   "mimetype": "text/x-python",
   "name": "python",
   "nbconvert_exporter": "python",
   "pygments_lexer": "ipython3",
   "version": "3.5.2"
  }
 },
 "nbformat": 4,
 "nbformat_minor": 2
}
