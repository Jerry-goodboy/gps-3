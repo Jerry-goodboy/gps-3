{
 "cells": [
  {
   "cell_type": "markdown",
   "metadata": {
    "deletable": true,
    "editable": true
   },
   "source": [
    "# Costas Loop\n",
    "#### This version of the Costas Loop was designed by mirroring the block diagram (Borre, pg 94) rather than using feedback loop design techniques. Each cell represents an block in the diagram."
   ]
  },
  {
   "cell_type": "markdown",
   "metadata": {
    "deletable": true,
    "editable": true
   },
   "source": [
    "## Initialization of variables"
   ]
  },
  {
   "cell_type": "code",
   "execution_count": 2,
   "metadata": {
    "collapsed": false,
    "deletable": true,
    "editable": true
   },
   "outputs": [],
   "source": [
    "import numpy as np\n",
    "import matplotlib.pyplot as plt\n",
    "import math\n",
    "import string\n",
    "#Store the shift registers as a deque, so that deque.rotate{} can be used.\n",
    "from collections import deque\n",
    "import os\n",
    "import sys\n",
    "nb_dir = os.path.split(os.getcwd())[0]\n",
    "if nb_dir not in sys.path:\n",
    "    sys.path.append(nb_dir)\n",
    "from GoldCode import GoldCode\n",
    "\n",
    "# Initializations\n",
    "\n",
    "phi = 0.0              # Original signal phase\n",
    "phi_hat = 0.3      # phi_hat is the output phase - I channel\n",
    "phi_hat_Q = phi_hat + np.pi/2    # phi_hat_Q is the output phase - Q channel\n",
    "freq_offset = 0.3\n",
    "delta_phi = 0.0    # delta_phi is the phase difference between the incomming signal and the VCO\n",
    "wn = 0.01          # wn is omega_n, pll bandwidth\n",
    "zeta = 0.707       # Damping factor of the loop\n",
    "K = 1000           # K = loop gain, which I assume can be chosen, but this is a sample value\n",
    "N = 1023           # Number of samples\n",
    "\n",
    "# Set tap for a particular satellite\n",
    "tap = (1, 5)\n",
    "\n",
    "# These are just initializing some vectors for plotting\n",
    "ref = np.linspace(0, N, N, dtype=int)"
   ]
  },
  {
   "cell_type": "markdown",
   "metadata": {
    "deletable": true,
    "editable": true
   },
   "source": [
    "## \"Incoming signal\" block"
   ]
  },
  {
   "cell_type": "code",
   "execution_count": null,
   "metadata": {
    "collapsed": false,
    "deletable": true,
    "editable": true
   },
   "outputs": [],
   "source": [
    "def tstSignalGen(ref, phi, freq_offset):\n",
    "    signal = []       # Save the signal_in for plotting\n",
    "    for i in ref:\n",
    "\n",
    "        # Complex input signal\n",
    "        signal_in = np.cos(phi) + 1j*np.sin(phi)\n",
    "        phi += freq_offset\n",
    "\n",
    "        signal.append(signal_in) # Saved for plotting\n",
    "    return signal"
   ]
  },
  {
   "cell_type": "code",
   "execution_count": 5,
   "metadata": {
    "collapsed": false,
    "deletable": true,
    "editable": true
   },
   "outputs": [
    {
     "data": {
      "image/png": "[encoded data removed]",
      "text/plain": [
       "<matplotlib.figure.Figure at 0x7f08e4505630>"
      ]
     },
     "metadata": {},
     "output_type": "display_data"
    },
    {
     "name": "stdout",
     "output_type": "stream",
     "text": [
      "4092000\n",
      "4092000\n"
     ]
    }
   ],
   "source": [
    "import matplotlib.pyplot as plt\n",
    "import numpy as np\n",
    "\n",
    "\n",
    "f = 10 * 10**3\n",
    "\n",
    "Fs = 1023*4*1000\n",
    "sample = Fs\n",
    "x = np.arange(sample)\n",
    "t = x/Fs\n",
    "y = np.sin(2 * np.pi * f * t)\n",
    "plt.plot(x, y)\n",
    "plt.xlim((0,Fs*.001))\n",
    "plt.show()\n",
    "print(len(x))\n",
    "print(len(y))"
   ]
  },
  {
   "cell_type": "markdown",
   "metadata": {
    "deletable": true,
    "editable": true
   },
   "source": [
    "## \"PRN code\" block\n",
    "#### Uses the GoldCode class"
   ]
  },
  {
   "cell_type": "code",
   "execution_count": 14,
   "metadata": {
    "collapsed": false,
    "deletable": true,
    "editable": true
   },
   "outputs": [
    {
     "ename": "SyntaxError",
     "evalue": "invalid syntax (<ipython-input-14-8b598ff655d1>, line 1)",
     "output_type": "error",
     "traceback": [
      "\u001b[0;36m  File \u001b[0;32m\"<ipython-input-14-8b598ff655d1>\"\u001b[0;36m, line \u001b[0;32m1\u001b[0m\n\u001b[0;31m    from 'Gold Code Generator' import GoldCode\u001b[0m\n\u001b[0m                             ^\u001b[0m\n\u001b[0;31mSyntaxError\u001b[0m\u001b[0;31m:\u001b[0m invalid syntax\n"
     ]
    }
   ],
   "source": [
    "\n",
    "Satellite = 1\n",
    "\n",
    "# Create Code Generator object for chosen Satellite\n",
    "CodeGen = GoldCode(sat[Satellite - 1]) # Index starts at zero\n",
    "\n",
    "# Generate CA Code\n",
    "CACode = CodeGen.getCode(1023)\n",
    "\n",
    "# Repeat each chip 4 times (See markdown in above cell), to match our ADC sample frequency\",\n",
    "CACodeSampled = np.repeat(CACode,4)\n",
    "\n",
    "# Repeat entire array for each ms of data sampled\n",
    "CACodeSampled = np.tile(CACodeSampled,int(SampleLength*1000))\n",
    "\n",
    "print(CACodeSampled)"
   ]
  },
  {
   "cell_type": "markdown",
   "metadata": {
    "deletable": true,
    "editable": true
   },
   "source": [
    "## \"NCO carrier generator\" and \"90 degree\" blocks\n",
    "#### These two blocks can be combined because they can really be thought of as one block, and they are simple, especially the \"90 degree\" block."
   ]
  },
  {
   "cell_type": "code",
   "execution_count": null,
   "metadata": {
    "collapsed": false,
    "deletable": true,
    "editable": true
   },
   "outputs": [],
   "source": [
    "for sample in signal:\n",
    "\n",
    "    # Complex oscillator signal - I channel\n",
    "    vcoI = np.cos(phi_hat) + 1j*np.sin(phi_hat)\n",
    "    # Complex oscillator signal - Q channel\n",
    "    vcoQ = np.cos(phi_hat_Q) + 1j*np.sin(phi_hat_Q)\n",
    "\n",
    "    delta_phi = np.angle(sample * np.conj(vcoI))\n",
    "    output.append(vcoI)\n",
    "\n",
    "    # vx varibles are a buffer to store output changes on transfer function variables ax and bx\n",
    "    phi_hat =  v0 * b0 + v1 * b1 + v2* b2\n",
    "    phi_hat_Q = increment\n",
    "return output\n"
   ]
  },
  {
   "cell_type": "markdown",
   "metadata": {
    "deletable": true,
    "editable": true
   },
   "source": [
    "## \"Carrier loop discriminator\" block\n",
    "#### There are three possible discriminators as described in Borre, pg 94-95, two of which are included but commented out. "
   ]
  },
  {
   "cell_type": "code",
   "execution_count": null,
   "metadata": {
    "collapsed": true,
    "deletable": true,
    "editable": true
   },
   "outputs": [],
   "source": [
    "# psi = np.arctan(Q/I) # This is the most precise discriminator, but it also takes the most time.\n",
    "# psi = I*Q # This discriminator is the fastest, but least precise\n",
    "# psi = math.sign(I) * Q"
   ]
  },
  {
   "cell_type": "markdown",
   "metadata": {
    "deletable": true,
    "editable": true
   },
   "source": [
    "## Multiply \"Incoming signal\" and PRN code\" blocks"
   ]
  },
  {
   "cell_type": "code",
   "execution_count": null,
   "metadata": {
    "collapsed": false,
    "deletable": true,
    "editable": true
   },
   "outputs": [],
   "source": [
    "satCode = GoldCode(tap)\n",
    "code = satCode.getCode(1023)\n",
    "tstSig = np.array(tstSignalGen(ref, phi, freq_offset))\n",
    "INxPRN = tstSig * satCode.getCode(1023)\n",
    "#print(satCode)\n",
    "#print()\n",
    "#print(code)\n",
    "#print()\n",
    "#print(tstSig)\n",
    "#print()\n",
    "#print(INxPRN)\n",
    "\n",
    "plt.plot(ref[1:100], INxPRN[1:100])\n",
    "plt.show()\n",
    "plt.plot(ref[1:100], code[1:100])\n",
    "plt.show()\n",
    "plt.plot(ref[1:100], tstSig[1:100])\n",
    "plt.show()"
   ]
  },
  {
   "cell_type": "markdown",
   "metadata": {
    "deletable": true,
    "editable": true
   },
   "source": [
    "## Mutiply [\"NCO carrier generator\" x (\"Incoming signal\" x \"PRN code\")]"
   ]
  },
  {
   "cell_type": "code",
   "execution_count": null,
   "metadata": {
    "collapsed": true,
    "deletable": true,
    "editable": true
   },
   "outputs": [],
   "source": [
    "# INxPRN * NCOI \n",
    "# as well as\n",
    "# INxPRN * NCOQ"
   ]
  },
  {
   "cell_type": "markdown",
   "metadata": {
    "deletable": true,
    "editable": true
   },
   "source": [
    "## \"Lowpass filter\" blocks\n",
    "#### Considering the filter only needs to handle 2f, a simple first-order filter seems to be sufficient"
   ]
  },
  {
   "cell_type": "code",
   "execution_count": null,
   "metadata": {
    "collapsed": true,
    "deletable": true,
    "editable": true
   },
   "outputs": [],
   "source": [
    "# scipy.signal.butter()"
   ]
  },
  {
   "cell_type": "markdown",
   "metadata": {
    "deletable": true,
    "editable": true
   },
   "source": [
    "## Carrier loop filter\" block"
   ]
  },
  {
   "cell_type": "code",
   "execution_count": null,
   "metadata": {
    "collapsed": true,
    "deletable": true,
    "editable": true
   },
   "outputs": [],
   "source": []
  }
 ],
 "metadata": {
  "kernelspec": {
   "display_name": "Python 3",
   "language": "python",
   "name": "python3"
  },
  "language_info": {
   "codemirror_mode": {
    "name": "ipython",
    "version": 3
   },
   "file_extension": ".py",
   "mimetype": "text/x-python",
   "name": "python",
   "nbconvert_exporter": "python",
   "pygments_lexer": "ipython3",
   "version": "3.5.2"
  }
 },
 "nbformat": 4,
 "nbformat_minor": 2
}
