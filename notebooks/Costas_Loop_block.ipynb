{
 "cells": [
  {
   "cell_type": "markdown",
   "metadata": {
    "deletable": true,
    "editable": true
   },
   "source": [
    "# Costas Loop\n",
    "#### This version of the Costas Loop was designed by mirroring the block diagram (Borre, pg 94) rather than using feedback loop design techniques. Each cell represents an block in the diagram."
   ]
  },
  {
   "cell_type": "markdown",
   "metadata": {
    "deletable": true,
    "editable": true
   },
   "source": [
    "## Initialization of variables"
   ]
  },
  {
   "cell_type": "code",
   "execution_count": 4,
   "metadata": {
    "collapsed": false,
    "deletable": true,
    "editable": true
   },
   "outputs": [],
   "source": [
    "import numpy as np\n",
    "import matplotlib.pyplot as plt\n",
    "import math\n",
    "import string\n",
    "#Store the shift registers as a deque, so that deque.rotate{} can be used.\n",
    "from collections import deque\n",
    "import os\n",
    "import sys\n",
    "nb_dir = os.path.split(os.getcwd())[0]\n",
    "if nb_dir not in sys.path:\n",
    "    sys.path.append(nb_dir)\n",
    "from GoldCode import GoldCode\n",
    "\n",
    "# Initializations\n",
    "\n",
    "ms = 10\n",
    "SampleLength = ms*10**(-3)\n",
    "phi = 0.0              # Original signal phase\n",
    "phi_hat = 0.3      # phi_hat is the output phase - I channel\n",
    "phi_hat_Q = phi_hat + np.pi/2    # phi_hat_Q is the output phase - Q channel\n",
    "freq_offset = 0.3\n",
    "delta_phi = 0.0    # delta_phi is the phase difference between the incomming signal and the VCO\n",
    "wn = 0.01          # wn is omega_n, pll bandwidth\n",
    "zeta = 0.707       # Damping factor of the loop\n",
    "K = 1000           # K = loop gain, which I assume can be chosen, but this is a sample value\n",
    "N = 1023           # Number of samples\n",
    "\n",
    "# Set tap for a particular satellite\n",
    "tap = (1, 5)\n",
    "\n",
    "# These are just initializing some vectors for plotting\n",
    "ref = np.linspace(0, N, N, dtype=int)"
   ]
  },
  {
   "cell_type": "markdown",
   "metadata": {
    "deletable": true,
    "editable": true
   },
   "source": [
    "## \"Incoming signal\" block"
   ]
  },
  {
   "cell_type": "code",
   "execution_count": 5,
   "metadata": {
    "collapsed": false,
    "deletable": true,
    "editable": true
   },
   "outputs": [],
   "source": [
    "#def tstSignalGen(ref, phi, freq_offset):\n",
    "#    signal = []       # Save the signal_in for plotting\n",
    "#    for i in ref:\n",
    "#\n",
    "#        # Complex input signal\n",
    "#        signal_in = np.cos(phi) + 1j*np.sin(phi)\n",
    "#        phi += freq_offset\n",
    "\n",
    "#        signal.append(signal_in) # Saved for plotting\n",
    "#    return signal"
   ]
  },
  {
   "cell_type": "code",
   "execution_count": 22,
   "metadata": {
    "collapsed": false,
    "deletable": true,
    "editable": true,
    "scrolled": true
   },
   "outputs": [],
   "source": [
    "def tstSignalGen(self):\n",
    "    f = 10 \n",
    "    Fs = 1023*4*10**3\n",
    "    sample = Fs\n",
    "    x = np.arange(sample)\n",
    "    self.t = np.array(x/Fs)\n",
    "    tstSignal = np.sin(2 * np.pi * f * t)\n",
    "    plt.plot(t, tstSignal)\n",
    "    plt.show()\n",
    "    #print(len(x))\n",
    "    #print(len(tstSignal))\n",
    "    #print(len(t))\n",
    "    return tstSignal"
   ]
  },
  {
   "cell_type": "markdown",
   "metadata": {
    "deletable": true,
    "editable": true
   },
   "source": [
    "## \"PRN code\" block\n",
    "#### Uses the GoldCode class"
   ]
  },
  {
   "cell_type": "code",
   "execution_count": 23,
   "metadata": {
    "collapsed": false,
    "deletable": true,
    "editable": true
   },
   "outputs": [
    {
     "name": "stdout",
     "output_type": "stream",
     "text": [
      "[ 1  1  1 ..., -1 -1 -1]\n",
      "40920\n"
     ]
    }
   ],
   "source": [
    "Satellite = 1\n",
    "\n",
    "# Create list of C/A code Taps, for simpler sat selection\",\n",
    "#sat = [(2,6),(3,7),(4,8),(5,9),(1,9),(2,6),(1,8),(2,9),(3,10),(2,3),(3,4),(5,6),(6,7),(7,8),(8,9),(9,10),(1,4),(2,5),(3,6),(4,7),(5,8),(6,9),(1,3),(4,6),(5,7),(6,8),(7,9),(8,10),(1,6),(2,7),(3,8),(4,9),(5,10),(4,10),(1,7),(2,8),(4,10)]\n",
    "sat = [(1,5),(2,6),(3,7),(4,8),(0,8),(1,5),(0,7),(1,8),(2,9),(1,2),(2,3),(4,5),(5,6),(6,7),(7,8),(8,9),(0,3),(1,4),(2,5),(3,6),(4,7),(5,8),(0,2),(3,5),(4,6),(5,7),(6,8),(7,9),(0,5),(1,6),(2,7),(3,8),(4,9),(3,9),(0,6),(1,7),(3,9)]\n",
    "\n",
    "# Create Code Generator object for chosen Satellite\n",
    "CodeGen = GoldCode(sat[Satellite - 1]) # Index starts at zero\n",
    "\n",
    "# Generate CA Code\n",
    "CACode = CodeGen.getCode(1023)\n",
    "\n",
    "# Repeat each chip 4 times (See markdown in above cell), to match our ADC sample frequency\",\n",
    "CACodeSampled = np.repeat(CACode,4)\n",
    "\n",
    "# Repeat entire array for each ms of data sampled\n",
    "CACodeSampled = np.tile(CACodeSampled,int(SampleLength*1000))\n",
    "\n",
    "print(CACodeSampled)\n",
    "print(len(CACodeSampled))"
   ]
  },
  {
   "cell_type": "markdown",
   "metadata": {
    "deletable": true,
    "editable": true
   },
   "source": [
    "## \"NCO carrier generator\" and \"90 degree\" blocks\n",
    "#### These two blocks can be combined because they can really be thought of as one block, and they are simple, especially the \"90 degree\" block."
   ]
  },
  {
   "cell_type": "code",
   "execution_count": 24,
   "metadata": {
    "collapsed": false,
    "deletable": true,
    "editable": true
   },
   "outputs": [
    {
     "ename": "NameError",
     "evalue": "name 'signal' is not defined",
     "output_type": "error",
     "traceback": [
      "\u001b[0;31m---------------------------------------------------------------------------\u001b[0m",
      "\u001b[0;31mNameError\u001b[0m                                 Traceback (most recent call last)",
      "\u001b[0;32m<ipython-input-24-c2132f118829>\u001b[0m in \u001b[0;36m<module>\u001b[0;34m()\u001b[0m\n\u001b[0;32m----> 1\u001b[0;31m \u001b[0;32mfor\u001b[0m \u001b[0msample\u001b[0m \u001b[0;32min\u001b[0m \u001b[0msignal\u001b[0m\u001b[0;34m:\u001b[0m\u001b[0;34m\u001b[0m\u001b[0m\n\u001b[0m\u001b[1;32m      2\u001b[0m \u001b[0;34m\u001b[0m\u001b[0m\n\u001b[1;32m      3\u001b[0m     \u001b[0;31m# Complex oscillator signal - I channel\u001b[0m\u001b[0;34m\u001b[0m\u001b[0;34m\u001b[0m\u001b[0m\n\u001b[1;32m      4\u001b[0m     \u001b[0mvcoI\u001b[0m \u001b[0;34m=\u001b[0m \u001b[0mnp\u001b[0m\u001b[0;34m.\u001b[0m\u001b[0mcos\u001b[0m\u001b[0;34m(\u001b[0m\u001b[0mphi_hat\u001b[0m\u001b[0;34m)\u001b[0m \u001b[0;34m+\u001b[0m \u001b[0;36m1j\u001b[0m\u001b[0;34m*\u001b[0m\u001b[0mnp\u001b[0m\u001b[0;34m.\u001b[0m\u001b[0msin\u001b[0m\u001b[0;34m(\u001b[0m\u001b[0mphi_hat\u001b[0m\u001b[0;34m)\u001b[0m\u001b[0;34m\u001b[0m\u001b[0m\n\u001b[1;32m      5\u001b[0m     \u001b[0;31m# Complex oscillator signal - Q channel\u001b[0m\u001b[0;34m\u001b[0m\u001b[0;34m\u001b[0m\u001b[0m\n",
      "\u001b[0;31mNameError\u001b[0m: name 'signal' is not defined"
     ]
    }
   ],
   "source": [
    "for sample in signal:\n",
    "\n",
    "    # Complex oscillator signal - I channel\n",
    "    vcoI = np.cos(phi_hat) + 1j*np.sin(phi_hat)\n",
    "    # Complex oscillator signal - Q channel\n",
    "    vcoQ = np.cos(phi_hat_Q) + 1j*np.sin(phi_hat_Q)\n",
    "\n",
    "    delta_phi = np.angle(sample * np.conj(vcoI))\n",
    "    output.append(vcoI)\n",
    "\n",
    "    # vx varibles are a buffer to store output changes on transfer function variables ax and bx\n",
    "    phi_hat =  v0 * b0 + v1 * b1 + v2* b2\n",
    "    phi_hat_Q = increment\n",
    "return output\n"
   ]
  },
  {
   "cell_type": "markdown",
   "metadata": {
    "deletable": true,
    "editable": true
   },
   "source": [
    "## \"Carrier loop discriminator\" block\n",
    "#### There are three possible discriminators as described in Borre, pg 94-95, two of which are included but commented out. "
   ]
  },
  {
   "cell_type": "code",
   "execution_count": 25,
   "metadata": {
    "collapsed": true,
    "deletable": true,
    "editable": true
   },
   "outputs": [],
   "source": [
    "# psi = np.arctan(Q/I) # This is the most precise discriminator, but it also takes the most time.\n",
    "# psi = I*Q # This discriminator is the fastest, but least precise\n",
    "# psi = math.sign(I) * Q"
   ]
  },
  {
   "cell_type": "markdown",
   "metadata": {
    "deletable": true,
    "editable": true
   },
   "source": [
    "## Multiply \"Incoming signal\" and PRN code\" blocks"
   ]
  },
  {
   "cell_type": "code",
   "execution_count": 27,
   "metadata": {
    "collapsed": false,
    "deletable": true,
    "editable": true
   },
   "outputs": [
    {
     "ename": "NameError",
     "evalue": "name 'self' is not defined",
     "output_type": "error",
     "traceback": [
      "\u001b[0;31m---------------------------------------------------------------------------\u001b[0m",
      "\u001b[0;31mNameError\u001b[0m                                 Traceback (most recent call last)",
      "\u001b[0;32m<ipython-input-27-16468cf214ea>\u001b[0m in \u001b[0;36m<module>\u001b[0;34m()\u001b[0m\n\u001b[1;32m      1\u001b[0m \u001b[0msatCode\u001b[0m \u001b[0;34m=\u001b[0m \u001b[0mGoldCode\u001b[0m\u001b[0;34m(\u001b[0m\u001b[0mtap\u001b[0m\u001b[0;34m)\u001b[0m\u001b[0;34m\u001b[0m\u001b[0m\n\u001b[1;32m      2\u001b[0m \u001b[0mcode\u001b[0m \u001b[0;34m=\u001b[0m \u001b[0msatCode\u001b[0m\u001b[0;34m.\u001b[0m\u001b[0mgetCode\u001b[0m\u001b[0;34m(\u001b[0m\u001b[0;36m1023\u001b[0m\u001b[0;34m)\u001b[0m\u001b[0;34m\u001b[0m\u001b[0m\n\u001b[0;32m----> 3\u001b[0;31m \u001b[0mtstSignal\u001b[0m \u001b[0;34m=\u001b[0m \u001b[0mnp\u001b[0m\u001b[0;34m.\u001b[0m\u001b[0marray\u001b[0m\u001b[0;34m(\u001b[0m\u001b[0mtstSignalGen\u001b[0m\u001b[0;34m(\u001b[0m\u001b[0mself\u001b[0m\u001b[0;34m)\u001b[0m\u001b[0;34m)\u001b[0m\u001b[0;34m\u001b[0m\u001b[0m\n\u001b[0m\u001b[1;32m      4\u001b[0m \u001b[0;31m# Repeat each chip 4 times (See markdown in above cell), to match our ADC sample frequency\",\u001b[0m\u001b[0;34m\u001b[0m\u001b[0;34m\u001b[0m\u001b[0m\n\u001b[1;32m      5\u001b[0m \u001b[0mCACodeSampled\u001b[0m \u001b[0;34m=\u001b[0m \u001b[0mnp\u001b[0m\u001b[0;34m.\u001b[0m\u001b[0mrepeat\u001b[0m\u001b[0;34m(\u001b[0m\u001b[0mcode\u001b[0m\u001b[0;34m,\u001b[0m\u001b[0;36m4\u001b[0m\u001b[0;34m)\u001b[0m\u001b[0;34m\u001b[0m\u001b[0m\n",
      "\u001b[0;31mNameError\u001b[0m: name 'self' is not defined"
     ]
    }
   ],
   "source": [
    "satCode = GoldCode(tap)\n",
    "code = satCode.getCode(1023)\n",
    "tstSignal = np.array(tstSignalGen(self))\n",
    "# Repeat each chip 4 times (See markdown in above cell), to match our ADC sample frequency\",\n",
    "CACodeSampled = np.repeat(code,4)\n",
    "print(\"Satellite chosen: %d, with tap: %s\" %(Satellite,str(sat[Satellite - 1])))\n",
    "\n",
    "# Repeat entire array for each ms of data sampled\n",
    "CACodeSampled = np.tile(CACodeSampled,int(SampleLength*1000))\n",
    "\n",
    "INxPRN = tstSignal[0:40920] * CACodeSampled\n",
    "#print(satCode)\n",
    "#print()\n",
    "#print(code)\n",
    "#print()\n",
    "#print(tstSig)\n",
    "#print()\n",
    "#print(INxPRN)\n",
    "\n",
    "print(len(CACodeSampled))\n",
    "print(len(tstSignal))\n",
    "\n",
    "#plt.plot(ref[1:100], INxPRN[1:100])\n",
    "#plt.show()\n",
    "#plt.plot(ref[1:100], code[1:100])\n",
    "#plt.show()\n",
    "#plt.plot(ref[1:100], tstSig[1:100])\n",
    "#plt.show()"
   ]
  },
  {
   "cell_type": "markdown",
   "metadata": {
    "deletable": true,
    "editable": true
   },
   "source": [
    "## Mutiply [\"NCO carrier generator\" x (\"Incoming signal\" x \"PRN code\")]"
   ]
  },
  {
   "cell_type": "code",
   "execution_count": null,
   "metadata": {
    "collapsed": true,
    "deletable": true,
    "editable": true
   },
   "outputs": [],
   "source": [
    "# INxPRN * NCOI \n",
    "# as well as\n",
    "# INxPRN * NCOQ"
   ]
  },
  {
   "cell_type": "markdown",
   "metadata": {
    "deletable": true,
    "editable": true
   },
   "source": [
    "## \"Lowpass filter\" blocks\n",
    "#### Considering the filter only needs to handle 2f, a simple first-order filter seems to be sufficient"
   ]
  },
  {
   "cell_type": "code",
   "execution_count": null,
   "metadata": {
    "collapsed": true,
    "deletable": true,
    "editable": true
   },
   "outputs": [],
   "source": [
    "# scipy.signal.butter()"
   ]
  },
  {
   "cell_type": "markdown",
   "metadata": {
    "deletable": true,
    "editable": true
   },
   "source": [
    "## Carrier loop filter\" block"
   ]
  },
  {
   "cell_type": "code",
   "execution_count": null,
   "metadata": {
    "collapsed": true,
    "deletable": true,
    "editable": true
   },
   "outputs": [],
   "source": []
  }
 ],
 "metadata": {
  "kernelspec": {
   "display_name": "Python 3",
   "language": "python",
   "name": "python3"
  },
  "language_info": {
   "codemirror_mode": {
    "name": "ipython",
    "version": 3
   },
   "file_extension": ".py",
   "mimetype": "text/x-python",
   "name": "python",
   "nbconvert_exporter": "python",
   "pygments_lexer": "ipython3",
   "version": "3.5.2"
  }
 },
 "nbformat": 4,
 "nbformat_minor": 2
}
