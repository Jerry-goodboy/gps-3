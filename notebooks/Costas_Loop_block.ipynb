{
 "cells": [
  {
   "cell_type": "markdown",
   "metadata": {
    "deletable": true,
    "editable": true
   },
   "source": [
    "# Costas Loop\n",
    "#### This version of the Costas Loop was designed by mirroring the block diagram (Borre, pg 94) rather than using feedback loop design techniques. Each cell represents an block in the diagram."
   ]
  },
  {
   "cell_type": "markdown",
   "metadata": {
    "deletable": true,
    "editable": true
   },
   "source": [
    "## Initialization of variables"
   ]
  },
  {
   "cell_type": "code",
   "execution_count": 57,
   "metadata": {
    "collapsed": false,
    "deletable": true,
    "editable": true
   },
   "outputs": [
    {
     "name": "stdout",
     "output_type": "stream",
     "text": [
      "37.714259804307275\n"
     ]
    }
   ],
   "source": [
    "import numpy as np\n",
    "import matplotlib.pyplot as plt\n",
    "\n",
    "# Initializations\n",
    "\n",
    "phi = 0\n",
    "phi_hat = 0.3      # phi_hat is the output phase \n",
    "freq_offset = 0.3\n",
    "delta_phi = 0.0    # delta_phi is the phase difference between the incomming signal and the VCO\n",
    "Zeta = 0.707\n",
    "Bn = 20\n",
    "wn = (2*Bn) / (Zeta + 1/(4*Zeta))          # wn is omega_n, pll bandwidth\n",
    "print(wn)\n",
    "zeta = 0.707       # Damping factor of the loop\n",
    "K = 1000           # K = loop gain, which I assume can be chosen, but this is a sample value\n",
    "fs = 4.092 *10**6  # Sampling frequency\n",
    "ts = 1/fs          # Sampling time\n",
    "t = 1* 10**-3\n",
    "N = fs*t         # Number of samples\n",
    "\n",
    "noise_power = 0\n",
    "noise_mean = 0\n",
    "\n",
    "# These are just initializing some vectors for plotting\n",
    "ref = np.linspace(0, N, N)"
   ]
  },
  {
   "cell_type": "markdown",
   "metadata": {},
   "source": [
    "## \"NCO carrier generator\" and \"90 degree\" blocks\n",
    "The NCO and the 90 degree offset NCO (called NCO90) are simple LUTs (lookup tables) whos indexes correlate to the indexes of the descriminator. "
   ]
  },
  {
   "cell_type": "code",
   "execution_count": 94,
   "metadata": {
    "collapsed": false
   },
   "outputs": [],
   "source": [
    "def oscillator(delta_phi):\n",
    "    NCO = []\n",
    "    NCO90 = []\n",
    "    delta_phi_incr = \n",
    "    for i in ref:\n",
    "        nco = np.cos(delta_phi)\n",
    "        nco90 = np.sin(delta_phi)\n",
    "        \n",
    "        NCO.append(nco)\n",
    "        NCO90.append(nco90)\n",
    "        \n",
    "        delta_phi += delta_phi_incr\n",
    "    return(NCO, NCO90)\n",
    "    \n",
    "    #thetaIncr = 2**15 *f*(2*np.pi*n)/fs\n",
    "    #NCO = []\n",
    "    #NCO90 = []\n",
    "    #for i in ref:\n",
    "        #NCO.append(np.cos(theta))\n",
    "        #NCO90.append(np.sin(theta))\n",
    "        #theta += thetaIncr\n",
    "    #return(NCO, NCO90)"
   ]
  },
  {
   "cell_type": "code",
   "execution_count": 93,
   "metadata": {
    "collapsed": false
   },
   "outputs": [
    {
     "name": "stdout",
     "output_type": "stream",
     "text": [
      "-0.545112025665\n",
      "0.838363214529\n"
     ]
    }
   ],
   "source": [
    "\n",
    "#plt.subplot(2, 1, 1)\n",
    "#plt.plot(ref, NCO)\n",
    "#plt.subplot(2, 1, 2)\n",
    "#plt.plot(ref, NCO90)\n",
    "#plt.show()"
   ]
  },
  {
   "cell_type": "markdown",
   "metadata": {
    "deletable": true,
    "editable": true
   },
   "source": [
    "## \"Incoming signal\" block"
   ]
  },
  {
   "cell_type": "code",
   "execution_count": 2,
   "metadata": {
    "collapsed": false,
    "deletable": true,
    "editable": true
   },
   "outputs": [],
   "source": [
    "def tstSignalGen(ref, phi, freq_offset):\n",
    "    signal = []       # Save the signal_in for plotting\n",
    "    for i in ref:\n",
    "\n",
    "        # Complex input signal\n",
    "        signal_in = np.cos(phi) + 1j*np.sin(phi)\n",
    "        phi += freq_offset\n",
    "\n",
    "        signal.append(signal_in) # Saved for plotting\n",
    "    return signal"
   ]
  },
  {
   "cell_type": "markdown",
   "metadata": {},
   "source": [
    "## Multiply \"incoming signal\" and \"NCO carrier generator\" "
   ]
  },
  {
   "cell_type": "code",
   "execution_count": null,
   "metadata": {
    "collapsed": true
   },
   "outputs": [],
   "source": [
    "inputsignal = np.array(tstSignalGen(ref, phi, freq_offset))\n",
    "\n",
    "\n",
    "plt.plot(NCO, ref)"
   ]
  },
  {
   "cell_type": "markdown",
   "metadata": {
    "deletable": true,
    "editable": true
   },
   "source": [
    "## \"PRN code\" block\n",
    "#### Uses the GoldCode class"
   ]
  },
  {
   "cell_type": "code",
   "execution_count": 4,
   "metadata": {
    "collapsed": false,
    "deletable": true,
    "editable": true,
    "scrolled": true
   },
   "outputs": [
    {
     "ename": "NameError",
     "evalue": "name 'GoldCode' is not defined",
     "output_type": "error",
     "traceback": [
      "\u001b[0;31m---------------------------------------------------------------------------\u001b[0m",
      "\u001b[0;31mNameError\u001b[0m                                 Traceback (most recent call last)",
      "\u001b[0;32m<ipython-input-4-90bf027c34ed>\u001b[0m in \u001b[0;36m<module>\u001b[0;34m()\u001b[0m\n\u001b[1;32m      6\u001b[0m \u001b[0;34m\u001b[0m\u001b[0m\n\u001b[1;32m      7\u001b[0m \u001b[0;31m# Create Code Generator object for chosen Satellite\u001b[0m\u001b[0;34m\u001b[0m\u001b[0;34m\u001b[0m\u001b[0m\n\u001b[0;32m----> 8\u001b[0;31m \u001b[0mCodeGen\u001b[0m \u001b[0;34m=\u001b[0m \u001b[0mGoldCode\u001b[0m\u001b[0;34m(\u001b[0m\u001b[0msat\u001b[0m\u001b[0;34m[\u001b[0m\u001b[0mSatellite\u001b[0m \u001b[0;34m-\u001b[0m \u001b[0;36m1\u001b[0m\u001b[0;34m]\u001b[0m\u001b[0;34m)\u001b[0m \u001b[0;31m# Index starts at zero\u001b[0m\u001b[0;34m\u001b[0m\u001b[0m\n\u001b[0m\u001b[1;32m      9\u001b[0m \u001b[0;34m\u001b[0m\u001b[0m\n\u001b[1;32m     10\u001b[0m \u001b[0;31m# Generate CA Code\u001b[0m\u001b[0;34m\u001b[0m\u001b[0;34m\u001b[0m\u001b[0m\n",
      "\u001b[0;31mNameError\u001b[0m: name 'GoldCode' is not defined"
     ]
    }
   ],
   "source": [
    "Satellite = 1\n",
    "\n",
    "# Create list of C/A code Taps, for simpler sat selection\",\n",
    "#sat = [(2,6),(3,7),(4,8),(5,9),(1,9),(2,6),(1,8),(2,9),(3,10),(2,3),(3,4),(5,6),(6,7),(7,8),(8,9),(9,10),(1,4),(2,5),(3,6),(4,7),(5,8),(6,9),(1,3),(4,6),(5,7),(6,8),(7,9),(8,10),(1,6),(2,7),(3,8),(4,9),(5,10),(4,10),(1,7),(2,8),(4,10)]\n",
    "sat = [(1,5),(2,6),(3,7),(4,8),(0,8),(1,5),(0,7),(1,8),(2,9),(1,2),(2,3),(4,5),(5,6),(6,7),(7,8),(8,9),(0,3),(1,4),(2,5),(3,6),(4,7),(5,8),(0,2),(3,5),(4,6),(5,7),(6,8),(7,9),(0,5),(1,6),(2,7),(3,8),(4,9),(3,9),(0,6),(1,7),(3,9)]\n",
    "\n",
    "# Create Code Generator object for chosen Satellite\n",
    "CodeGen = GoldCode(sat[Satellite - 1]) # Index starts at zero\n",
    "\n",
    "# Generate CA Code\n",
    "CACode = CodeGen.getCode(1023)\n",
    "\n",
    "# Repeat each chip 4 times (See markdown in above cell), to match our ADC sample frequency\",\n",
    "CACodeSampled = np.repeat(CACode,4)\n",
    "\n",
    "# Repeat entire array for each ms of data sampled\n",
    "CACodeSampled = np.tile(CACodeSampled,int(SampleLength*1000))\n",
    "\n",
    "print(CACodeSampled)\n",
    "print(len(CACodeSampled))"
   ]
  },
  {
   "cell_type": "markdown",
   "metadata": {
    "deletable": true,
    "editable": true
   },
   "source": [
    "## \"Carrier loop discriminator\" block\n",
    "#### There are three possible discriminators as described in Borre, pg 94-95, two of which are included but commented out. "
   ]
  },
  {
   "cell_type": "code",
   "execution_count": 6,
   "metadata": {
    "collapsed": false,
    "deletable": true,
    "editable": true
   },
   "outputs": [
    {
     "ename": "NameError",
     "evalue": "name 'Q' is not defined",
     "output_type": "error",
     "traceback": [
      "\u001b[0;31m---------------------------------------------------------------------------\u001b[0m",
      "\u001b[0;31mNameError\u001b[0m                                 Traceback (most recent call last)",
      "\u001b[0;32m<ipython-input-6-2e2cdd4e13a2>\u001b[0m in \u001b[0;36m<module>\u001b[0;34m()\u001b[0m\n\u001b[0;32m----> 1\u001b[0;31m \u001b[0mdescriminator\u001b[0m \u001b[0;34m=\u001b[0m \u001b[0mnp\u001b[0m\u001b[0;34m.\u001b[0m\u001b[0marctan\u001b[0m\u001b[0;34m(\u001b[0m\u001b[0mQ\u001b[0m\u001b[0;34m/\u001b[0m\u001b[0mI\u001b[0m\u001b[0;34m)\u001b[0m \u001b[0;31m# This is the most precise discriminator, but it also takes the most time.\u001b[0m\u001b[0;34m\u001b[0m\u001b[0m\n\u001b[0m\u001b[1;32m      2\u001b[0m \u001b[0;31m# descriminator = I*Q # This discriminator is the fastest, but least precise\u001b[0m\u001b[0;34m\u001b[0m\u001b[0;34m\u001b[0m\u001b[0m\n\u001b[1;32m      3\u001b[0m \u001b[0;31m# descriminator = math.sign(I) * Q\u001b[0m\u001b[0;34m\u001b[0m\u001b[0;34m\u001b[0m\u001b[0m\n",
      "\u001b[0;31mNameError\u001b[0m: name 'Q' is not defined"
     ]
    }
   ],
   "source": [
    "descriminator = np.arctan(Q/I) # This is the most precise discriminator, but it also takes the most time.\n",
    "# descriminator = I*Q # This discriminator is the fastest, but least precise\n",
    "# descriminator = math.sign(I) * Q"
   ]
  },
  {
   "cell_type": "markdown",
   "metadata": {
    "deletable": true,
    "editable": true
   },
   "source": [
    "## Multiply \"Incoming signal\" and PRN code\" blocks"
   ]
  },
  {
   "cell_type": "code",
   "execution_count": 27,
   "metadata": {
    "collapsed": false,
    "deletable": true,
    "editable": true
   },
   "outputs": [
    {
     "ename": "NameError",
     "evalue": "name 'self' is not defined",
     "output_type": "error",
     "traceback": [
      "\u001b[0;31m---------------------------------------------------------------------------\u001b[0m",
      "\u001b[0;31mNameError\u001b[0m                                 Traceback (most recent call last)",
      "\u001b[0;32m<ipython-input-27-16468cf214ea>\u001b[0m in \u001b[0;36m<module>\u001b[0;34m()\u001b[0m\n\u001b[1;32m      1\u001b[0m \u001b[0msatCode\u001b[0m \u001b[0;34m=\u001b[0m \u001b[0mGoldCode\u001b[0m\u001b[0;34m(\u001b[0m\u001b[0mtap\u001b[0m\u001b[0;34m)\u001b[0m\u001b[0;34m\u001b[0m\u001b[0m\n\u001b[1;32m      2\u001b[0m \u001b[0mcode\u001b[0m \u001b[0;34m=\u001b[0m \u001b[0msatCode\u001b[0m\u001b[0;34m.\u001b[0m\u001b[0mgetCode\u001b[0m\u001b[0;34m(\u001b[0m\u001b[0;36m1023\u001b[0m\u001b[0;34m)\u001b[0m\u001b[0;34m\u001b[0m\u001b[0m\n\u001b[0;32m----> 3\u001b[0;31m \u001b[0mtstSignal\u001b[0m \u001b[0;34m=\u001b[0m \u001b[0mnp\u001b[0m\u001b[0;34m.\u001b[0m\u001b[0marray\u001b[0m\u001b[0;34m(\u001b[0m\u001b[0mtstSignalGen\u001b[0m\u001b[0;34m(\u001b[0m\u001b[0mself\u001b[0m\u001b[0;34m)\u001b[0m\u001b[0;34m)\u001b[0m\u001b[0;34m\u001b[0m\u001b[0m\n\u001b[0m\u001b[1;32m      4\u001b[0m \u001b[0;31m# Repeat each chip 4 times (See markdown in above cell), to match our ADC sample frequency\",\u001b[0m\u001b[0;34m\u001b[0m\u001b[0;34m\u001b[0m\u001b[0m\n\u001b[1;32m      5\u001b[0m \u001b[0mCACodeSampled\u001b[0m \u001b[0;34m=\u001b[0m \u001b[0mnp\u001b[0m\u001b[0;34m.\u001b[0m\u001b[0mrepeat\u001b[0m\u001b[0;34m(\u001b[0m\u001b[0mcode\u001b[0m\u001b[0;34m,\u001b[0m\u001b[0;36m4\u001b[0m\u001b[0;34m)\u001b[0m\u001b[0;34m\u001b[0m\u001b[0m\n",
      "\u001b[0;31mNameError\u001b[0m: name 'self' is not defined"
     ]
    }
   ],
   "source": [
    "satCode = GoldCode(tap)\n",
    "code = satCode.getCode(1023)\n",
    "tstSignal = np.array(tstSignalGen(self))\n",
    "# Repeat each chip 4 times (See markdown in above cell), to match our ADC sample frequency\",\n",
    "CACodeSampled = np.repeat(code,4)\n",
    "print(\"Satellite chosen: %d, with tap: %s\" %(Satellite,str(sat[Satellite - 1])))\n",
    "\n",
    "# Repeat entire array for each ms of data sampled\n",
    "CACodeSampled = np.tile(CACodeSampled,int(SampleLength*1000))\n",
    "\n",
    "INxPRN = tstSignal[0:40920] * CACodeSampled\n",
    "#print(satCode)\n",
    "#print()\n",
    "#print(code)\n",
    "#print()\n",
    "#print(tstSig)\n",
    "#print()\n",
    "#print(INxPRN)\n",
    "\n",
    "print(len(CACodeSampled))\n",
    "print(len(tstSignal))\n",
    "\n",
    "#plt.plot(ref[1:100], INxPRN[1:100])\n",
    "#plt.show()\n",
    "#plt.plot(ref[1:100], code[1:100])\n",
    "#plt.show()\n",
    "#plt.plot(ref[1:100], tstSig[1:100])\n",
    "#plt.show()"
   ]
  },
  {
   "cell_type": "markdown",
   "metadata": {
    "deletable": true,
    "editable": true
   },
   "source": [
    "## \"Lowpass filter\" blocks\n",
    "#### Considering the filter only needs to handle 2f, a simple first-order filter seems to be sufficient"
   ]
  },
  {
   "cell_type": "code",
   "execution_count": null,
   "metadata": {
    "collapsed": true,
    "deletable": true,
    "editable": true
   },
   "outputs": [],
   "source": [
    "scipy.signal.butter(2, )"
   ]
  },
  {
   "cell_type": "markdown",
   "metadata": {
    "deletable": true,
    "editable": true
   },
   "source": [
    "## Carrier loop filter\" block"
   ]
  },
  {
   "cell_type": "code",
   "execution_count": null,
   "metadata": {
    "collapsed": true,
    "deletable": true,
    "editable": true
   },
   "outputs": [],
   "source": []
  }
 ],
 "metadata": {
  "kernelspec": {
   "display_name": "Python 3",
   "language": "python",
   "name": "python3"
  },
  "language_info": {
   "codemirror_mode": {
    "name": "ipython",
    "version": 3
   },
   "file_extension": ".py",
   "mimetype": "text/x-python",
   "name": "python",
   "nbconvert_exporter": "python",
   "pygments_lexer": "ipython3",
   "version": "3.5.2"
  }
 },
 "nbformat": 4,
 "nbformat_minor": 2
}
