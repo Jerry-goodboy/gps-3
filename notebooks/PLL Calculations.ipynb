{
 "cells": [
  {
   "cell_type": "markdown",
   "metadata": {
    "deletable": true,
    "editable": true
   },
   "source": [
    "### 2nd-Order PLL "
   ]
  },
  {
   "cell_type": "code",
   "execution_count": 3,
   "metadata": {
    "collapsed": false,
    "deletable": true,
    "editable": true
   },
   "outputs": [
    {
     "name": "stdout",
     "output_type": "stream",
     "text": [
      "(6.51612455627277e-7/z - 6.51612243263816e-7/z**2)/(1 - 1.99999934838754/z + 0.999999348387757/z**2)\n"
     ]
    }
   ],
   "source": [
    "import numpy as np\n",
    "from sympy import *\n",
    "from sympy.polys.partfrac import apart\n",
    "from sympy.abc import x, y, z\n",
    "\n",
    "# from our hardware\n",
    "fs = 4.092*10**6 # Hz\n",
    "Ts = 1/fs # seconds\n",
    "\n",
    "# given in Tsui 8.7\n",
    "codeNoiseBandwidth = 1 # Hz\n",
    "carrierNoiseBandwidth = 20 # Hz\n",
    "zeta = 0.707\n",
    "codeGain = 50 \n",
    "carrierGain = 4*np.pi*100\n",
    "\n",
    "# solve for natural frequency\n",
    "codeWn = (2*codeNoiseBandwidth)/(zeta + 1/(4*zeta))\n",
    "carrierWn = (2*carrierNoiseBandwidth)/(zeta + 1/(4*zeta))\n",
    "\n",
    "# solve for C1 and C2\n",
    "codeC1 = (1/codeGain) * ( (8*zeta*codeWn*Ts)/(4 + 4*zeta*codeWn*Ts + (codeWn*Ts)**2) )\n",
    "codeC2 = (1/codeGain) * ( (4*(codeWn*Ts)**2)/(4 + 4*zeta*codeWn*Ts + (codeWn*Ts)**2) )\n",
    "carrierC1 = (1/carrierGain) * ( (8*zeta*carrierWn*Ts)/(4 + 4*zeta*carrierWn*Ts + (carrierWn*Ts)**2) )\n",
    "carrierC2 = (1/carrierGain) * ( (4*(carrierWn*Ts)**2)/(4 + 4*zeta*carrierWn*Ts + (carrierWn*Ts)**2) )\n",
    "\n",
    "# solve for transfer functions\n",
    "codeH = (codeGain*(codeC1 + codeC2)*z**(-1) - codeGain*codeC1*z**(-2))/(1+(codeGain*(codeC1+codeC2) - 2)*z**(-1) + (1 - codeGain*codeC1)*z**(-2))\n",
    "carrierH = (carrierGain*(carrierC1 + carrierC2)*z**(-1) - carrierGain*carrierC1*z**(-2))/(1+(carrierGain*(carrierC1 + carrierC2) - 2)*z**(-1) + (1 - carrierGain*carrierC1)*z**(-2))\n",
    "\n",
    "print(codeH)"
   ]
  },
  {
   "cell_type": "code",
   "execution_count": null,
   "metadata": {
    "collapsed": false,
    "deletable": true,
    "editable": true
   },
   "outputs": [],
   "source": [
    "print(codeWn)\n",
    "print(carrierWn)\n",
    "print(carrierC1)\n",
    "print(carrierC2)\n",
    "print(codeC1)\n",
    "print(codeC2)\n",
    "print(codeH)\n",
    "print(carrierH)"
   ]
  },
  {
   "cell_type": "code",
   "execution_count": null,
   "metadata": {
    "collapsed": false,
    "deletable": true,
    "editable": true
   },
   "outputs": [],
   "source": [
    "# Will solve for output Y(z) \n",
    "X = Symbol('X') # Input in z-domain\n",
    "codeY = X*codeH\n",
    "carrierY = X*carrierH"
   ]
  }
 ],
 "metadata": {
  "anaconda-cloud": {},
  "kernelspec": {
   "display_name": "Python 3",
   "language": "python",
   "name": "python3"
  },
  "language_info": {
   "codemirror_mode": {
    "name": "ipython",
    "version": 3
   },
   "file_extension": ".py",
   "mimetype": "text/x-python",
   "name": "python",
   "nbconvert_exporter": "python",
   "pygments_lexer": "ipython3",
   "version": "3.5.2"
  }
 },
 "nbformat": 4,
 "nbformat_minor": 1
}
