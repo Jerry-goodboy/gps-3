{
 "cells": [
  {
   "cell_type": "code",
   "execution_count": null,
   "metadata": {
    "collapsed": false
   },
   "outputs": [],
   "source": [
    "import numpy as np\n",
    "import matplotlib.pyplot as plt\n",
    "from scipy import signal\n",
    "\n",
    "##Grabs the GPSData module from the root of the repo\n",
    "import os\n",
    "import sys\n",
    "nb_dir = os.path.split(os.getcwd())[0]\n",
    "if nb_dir not in sys.path:\n",
    "    sys.path.append(nb_dir)\n",
    "from GPSData import IQData\n",
    "\n",
    "# Need these to pass to importFile module\n",
    "fs = 4.092*10**6\n",
    "SampleLength = 0.001\n",
    "BytesToSkip = 0*2046\n",
    "\n",
    "data = IQData()\n",
    "data.importFile('../resources/JGPS@04.559925043', fs, SampleLength, BytesToSkip)\n",
    "# The following must be called after data.importFile\n",
    "tReal, RData = data.ComplexToReal(data.CData)\n"
   ]
  },
  {
   "cell_type": "code",
   "execution_count": null,
   "metadata": {
    "collapsed": false
   },
   "outputs": [],
   "source": [
    "# Length of data is twice that of the complex data\n",
    "print(len(RData))\n",
    "\n",
    "plt.plot(tReal, RData)\n",
    "\n",
    "# Set xaxis so first 100 samples are shown\n",
    "xmin,xmax = plt.xlim()\n",
    "plt.xlim(xmin,xmin + 100/(fs))\n",
    "\n",
    "plt.show()"
   ]
  },
  {
   "cell_type": "code",
   "execution_count": null,
   "metadata": {
    "collapsed": false
   },
   "outputs": [],
   "source": [
    "f, Pxx_den = signal.welch(RData-np.mean(RData), fs, nperseg=1024)\n",
    "plt.semilogy(f, Pxx_den)\n",
    "#plt.ylim([0.5e-3, 1])\n",
    "plt.xlabel('frequency [Hz]')\n",
    "plt.ylabel('PSD [V**2/Hz]')\n",
    "plt.show()\n",
    "\n"
   ]
  },
  {
   "cell_type": "code",
   "execution_count": null,
   "metadata": {
    "collapsed": true
   },
   "outputs": [],
   "source": []
  }
 ],
 "metadata": {
  "anaconda-cloud": {},
  "kernelspec": {
   "display_name": "Python [default]",
   "language": "python",
   "name": "python3"
  },
  "language_info": {
   "codemirror_mode": {
    "name": "ipython",
    "version": 3
   },
   "file_extension": ".py",
   "mimetype": "text/x-python",
   "name": "python",
   "nbconvert_exporter": "python",
   "pygments_lexer": "ipython3",
   "version": "3.5.2"
  }
 },
 "nbformat": 4,
 "nbformat_minor": 1
}
