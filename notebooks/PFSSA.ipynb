{
 "cells": [
  {
   "cell_type": "markdown",
   "metadata": {},
   "source": [
    "# Satellite Acquisition \n",
    "## (via the parallel frequency space search algorithm)\n",
    "### (It still doesn't work)\n",
    "\n",
    "**BEFORE RUNNING THIS CODE: **Download the launch 12 GPS data [here](https://github.com/psas/Launch-12/blob/gh-pages/data/GPS/JGPS%40-32.041913222), and place it in the */resources* folder.\n",
    "\n",
    "This notebook demonstrates the satellite acquisition proccess, in which we determine which satellites are overhead. This code implements the parallel code phase search algorithm, which is the most complex of those available, but is also the fastest since it returns a result in just one iteration. It is possible that we will need to use a different algorithm when the code is running on an embedded platform.\n",
    "\n",
    "As noted in the L-12 GPS data README, the sampling frequency is 4.092 MHz. and the IF is 0. Also note that the L1 signal hits the antenna at the 1.57542 GHz frequency (10.23 MHz x 154). This is dealt with by the hardware frontend, so we only have to concern ourselves with the 1.023 MHz BPSK modulated C/A code.\n",
    "\n",
    "**Note: we should only perform this acquisition method on ~20ms sections of data, see book for details**\n",
    "\n",
    "## Preamble"
   ]
  },
  {
   "cell_type": "code",
   "execution_count": null,
   "metadata": {
    "collapsed": false
   },
   "outputs": [],
   "source": [
    "import numpy as np\n",
    "import matplotlib.pyplot as plt\n",
    "#import peakutils\n",
    "import struct\n",
    "import math\n",
    "import scipy.stats as sp\n",
    "\n",
    "##Grabs the GoldCode module from the root of the repo\n",
    "import os\n",
    "import sys\n",
    "nb_dir = os.path.split(os.getcwd())[0]\n",
    "if nb_dir not in sys.path:\n",
    "    sys.path.append(nb_dir)\n",
    "from GoldCode import GoldCode\n",
    "from GPSData import IQData\n"
   ]
  },
  {
   "cell_type": "markdown",
   "metadata": {},
   "source": [
    "## Import data File\n",
    "\n",
    "- Information on file \"JGPS@-32.041913222\" can be found at: https://github.com/psas/Launch-12/tree/gh-pages/data/GPS"
   ]
  },
  {
   "cell_type": "code",
   "execution_count": null,
   "metadata": {
    "collapsed": false
   },
   "outputs": [],
   "source": [
    "# Need these to pass to importFile module\n",
    "fs = 4.092*10**6\n",
    "SampleLength = 0.001\n",
    "BytesToSkip = 2046\n",
    "\n",
    "data = IQData()\n",
    "data.importFile('../resources/JGPS@-32.041913222', fs, SampleLength, BytesToSkip)"
   ]
  },
  {
   "cell_type": "markdown",
   "metadata": {},
   "source": [
    "## Check out the imported data\n",
    "\n",
    "We will plot the first 100 samples to see what the signal looks like."
   ]
  },
  {
   "cell_type": "code",
   "execution_count": null,
   "metadata": {
    "collapsed": false
   },
   "outputs": [],
   "source": [
    "plt.plot(data.t, np.real(data.CData))\n",
    "plt.plot(data.t, np.imag(data.CData))\n",
    "\n",
    "# Set xaxis so first 100 samples are shown\n",
    "xmin,xmax = plt.xlim()\n",
    "plt.xlim(xmin,xmin + 100/fs)\n",
    "\n",
    "plt.title(\"Plot of CData (Real and Imaginary parts)\")\n",
    "plt.xlabel(\"t (microseconds)\")\n",
    "plt.show()"
   ]
  },
  {
   "cell_type": "markdown",
   "metadata": {},
   "source": [
    "# Get a Gold Code\n"
   ]
  },
  {
   "cell_type": "code",
   "execution_count": null,
   "metadata": {
    "collapsed": false,
    "scrolled": true
   },
   "outputs": [],
   "source": [
    "\n",
    "def getSat(select):\n",
    "    # Create list of C/A code Taps, for simpler sat selection\",\n",
    "    #sat = [(2,6),(3,7),(4,8),(5,9),(1,9),(2,6),(1,8),(2,9),(3,10),(2,3),(3,4),(5,6),(6,7),(7,8),(8,9),(9,10),(1,4),(2,5),(3,6),(4,7),(5,8),(6,9),(1,3),(4,6),(5,7),(6,8),(7,9),(8,10),(1,6),(2,7),(3,8),(4,9),(5,10),(4,10),(1,7),(2,8),(4,10)]\n",
    "    sat = [(1,5),(2,6),(3,7),(4,8),(0,8),(1,5),(0,7),(1,8),(2,9),(1,2),(2,3),(4,5),(5,6),(6,7),(7,8),(8,9),(0,3),(1,4),(2,5),(3,6),(4,7),(5,8),(0,2),(3,5),(4,6),(5,7),(6,8),(7,9),(0,5),(1,6),(2,7),(3,8),(4,9),(3,9),(0,6),(1,7),(3,9)]\n",
    "\n",
    "    # Create Code Generator object for chosen Satellite\n",
    "    CodeGen = GoldCode(sat[select - 1]) # Index starts at zero\n",
    "\n",
    "    # Generate CA Code\n",
    "    CACode = CodeGen.getCode(1023, samplesPerChip = 4)\n",
    "\n",
    "    print(\"Satellite chosen: %d, with tap: %s\" %(select,str(sat[select - 1])))\n",
    "\n",
    "    # Repeat entire array for each ms of data sampled\n",
    "    CACodeSampled = np.tile(CACode, data.sampleTime / 1e-3)\n",
    "    print(len(CACodeSampled))\n",
    "    return CACodeSampled"
   ]
  },
  {
   "cell_type": "markdown",
   "metadata": {},
   "source": [
    "# Multiply Signal and Code"
   ]
  },
  {
   "cell_type": "code",
   "execution_count": null,
   "metadata": {
    "collapsed": false
   },
   "outputs": [],
   "source": [
    "nfft = data.Nsamples\n",
    "\n",
    "# Generate frequency lists for plotting fft\n",
    "# Can use f for regular fft and fshift for shifted version\n",
    "fs_kHz = data.sampleFreq#/1000 #Make easier to read\n",
    "f = np.linspace (0,fs_kHz,nfft, endpoint=False)\n",
    "fshift = np.linspace(-fs_kHz/2,fs_kHz/2,nfft,endpoint=False)\n",
    "\n",
    "#fstep = fs/N\n",
    "fax = np.linspace(0, data.sampleFreq * 2, nfft)\n",
    "\n",
    "from collections import deque\n",
    "cadeque = deque()\n",
    "\n",
    "#for i in CACodeSampled:\n",
    "#    cadeque.append(i)\n",
    "    \n",
    "def mixnplot(CACodeSampled, compData, nfft, f, lab, plots = False):\n",
    "    \n",
    "    mixedData = compData * CACodeSampled\n",
    "    fftData = np.fft.fft(mixedData, nfft)\n",
    "\n",
    "    psd = np.abs(fftData) ** 2\n",
    "\n",
    "    psddb = (10 * np.log10(psd))\n",
    "    \n",
    "    #Set plots to True if you want to look over 1023 plots manually\n",
    "    if plots:\n",
    "        psddb_norm = psddb - np.max(psddb)\n",
    "        \n",
    "        plt.title(\"Iter: \" + str(lab))\n",
    "        plt.plot(fax/1000, psddb_norm)\n",
    "        savedir = './plot2/' + str(lab)\n",
    "        plt.savefig(savedir)\n",
    "        plt.clf()\n",
    "    \n",
    "    #Return the ratio of the highest peak\n",
    "    return psddb.max()/psddb.mean()"
   ]
  },
  {
   "cell_type": "markdown",
   "metadata": {},
   "source": [
    "# Get 32 CA codes, mix them, and plot the peak ratios"
   ]
  },
  {
   "cell_type": "code",
   "execution_count": null,
   "metadata": {
    "collapsed": false
   },
   "outputs": [],
   "source": [
    "for s in range(32):\n",
    "    code = getSat(s)\n",
    "    \n",
    "    codeq = deque()\n",
    "\n",
    "    for i in code:\n",
    "        codeq.append(i)\n",
    "    \n",
    "    ratios = []\n",
    "    for i in range(1023):\n",
    "        ratio = mixnplot(codeq, data.CData, nfft, f, str(i))\n",
    "        ratios.append(ratio)\n",
    "        codeq.rotate(-4)\n",
    "        #i += 1\n",
    "        \n",
    "        #print(ratio)\n",
    "        #if i % 10 == 0:\n",
    "        #   print(str(i*100/1023) + '% complete')\n",
    "    \n",
    "    plt.title(\"SV \" + str(s + 1))\n",
    "    plt.plot(ratios)\n",
    "    plt.show()\n",
    "        \n",
    "    "
   ]
  },
  {
   "cell_type": "code",
   "execution_count": null,
   "metadata": {
    "collapsed": false
   },
   "outputs": [],
   "source": [
    "plt.plot(ratios)\n",
    "plt.show()"
   ]
  },
  {
   "cell_type": "code",
   "execution_count": null,
   "metadata": {
    "collapsed": true
   },
   "outputs": [],
   "source": []
  }
 ],
 "metadata": {
  "anaconda-cloud": {},
  "kernelspec": {
   "display_name": "Python [default]",
   "language": "python",
   "name": "python3"
  },
  "language_info": {
   "codemirror_mode": {
    "name": "ipython",
    "version": 3
   },
   "file_extension": ".py",
   "mimetype": "text/x-python",
   "name": "python",
   "nbconvert_exporter": "python",
   "pygments_lexer": "ipython3",
   "version": "3.5.2"
  }
 },
 "nbformat": 4,
 "nbformat_minor": 2
}
