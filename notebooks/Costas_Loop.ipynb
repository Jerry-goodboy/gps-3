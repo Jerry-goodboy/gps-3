{
 "cells": [
  {
   "cell_type": "markdown",
   "metadata": {
    "collapsed": true
   },
   "source": [
    "# Costas Loop\n",
    "\n",
    "\n",
    "\n",
    "## Initialization of variables"
   ]
  },
  {
   "cell_type": "code",
   "execution_count": 5,
   "metadata": {
    "collapsed": false
   },
   "outputs": [],
   "source": [
    "import numpy as np\n",
    "import matplotlib.pyplot as plt\n",
    "\n",
    "# Initializations\n",
    "\n",
    "phi_hat = 0.0      # phi_hat is the output phase \n",
    "delta_phi = 0.0    # delta_phi is the phase difference between the incomming signal and the VCO\n",
    "wn = 0.01          # wn is omega_n, pll bandwidth\n",
    "zeta = 0.707       # Damping factor of the loop\n",
    "K = 1000           # K = loop gain, which I assume can be chosen, but this is a sample value\n",
    "\n",
    "# These are just initializing some vectors for plotting\n",
    "ref = np.linspace(0, 400, 400)\n",
    "out = []\n",
    "\n",
    "\n",
    "# The ax, tx, and bx variables are for the loop parameters. Using feedback theory I derived (ok, I stole)\n",
    "# an equation in the form (a0*z^-1 + a1*z^-1 + a2*z^-1)/(b0*z^-1 + b1*z^-1 + b2*z^-1). tx are just other\n",
    "# ways of expressing the variables wn, zeta, and K\n",
    "a0 = 1.0\n",
    "a1 = -2.0\n",
    "a2 = 1.0\n",
    "\n",
    "t1 = K/(wn*wn)     # tau_1\n",
    "t2 = 2*zeta/wn     # tau_2\n",
    "\n",
    "b0 = (4*K/t1) * (1.0+t2/2.0)\n",
    "b1 = 8*K/t1\n",
    "b2 = (4*K/t1) * (1.0-t2/2.0)\n",
    "\n",
    "\n",
    "# In order for the filter desing to work a buffer is needed to cycle values through\n",
    "v0 = 0.0           # Buffer for the filter values\n",
    "v1 = 0.0           # Buffer for the filter values\n",
    "v2 = 0.0           # Buffer for the filter values"
   ]
  },
  {
   "cell_type": "markdown",
   "metadata": {},
   "source": [
    "## Main portion of the code"
   ]
  },
  {
   "cell_type": "code",
   "execution_count": null,
   "metadata": {
    "collapsed": true
   },
   "outputs": [],
   "source": [
    "# Main portion of the code\n",
    "\n",
    "# pll = Costas_Loop()\n",
    "\n",
    "for i in range(400):\n",
    "    phi = 0.0              # Original signal phase\n",
    "    signal_in = np.exp = (1j * phi) # Complex input signal\n",
    "    vco = np.exp(1j * phi_hat) # Complex oscillator signal\n",
    "    delta_phi = np.angle( signal_in * np.conj( vco))\n",
    "    ref.append(signal_in)\n",
    "    output.append(vco)\n",
    "    \n",
    "    v2 =  v1\n",
    "    v1 =  v0\n",
    "    v0 =  delta_phi - v1* a1 - v2* a2\n",
    "    phi_hat =  v0 * b0 + v1 * b1 + v2* b2\n",
    "    \n",
    "plt.plot(ref)\n",
    "plt.plot(out)\n",
    "#plt.plot(diff)\n",
    "plt.show()"
   ]
  }
 ],
 "metadata": {
  "kernelspec": {
   "display_name": "Python 3",
   "language": "python",
   "name": "python3"
  },
  "language_info": {
   "codemirror_mode": {
    "name": "ipython",
    "version": 3
   },
   "file_extension": ".py",
   "mimetype": "text/x-python",
   "name": "python",
   "nbconvert_exporter": "python",
   "pygments_lexer": "ipython3",
   "version": "3.5.2"
  }
 },
 "nbformat": 4,
 "nbformat_minor": 2
}
