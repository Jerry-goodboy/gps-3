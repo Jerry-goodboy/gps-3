{
 "cells": [
  {
   "cell_type": "markdown",
   "metadata": {},
   "source": [
    "# Satellite Acquisition\n",
    "\n",
    "**BEFORE RUNNING THIS CODE: **Download the launch 12 GPS data [here](https://github.com/psas/Launch-12/blob/gh-pages/data/GPS/JGPS%40-32.041913222), and place it in the */resources* folder.\n",
    "\n",
    "This notebook demonstrates the satellite acquisition proccess, in which we determine which satellites are overhead. This code implements the parallel code phase search algorithm, which is the most complex of those available, but is also the fastest since it returns a result in just one iteration. It is possible that we will need to use a different algorithm when the code is running on an embedded platform.\n",
    "\n",
    "As noted in the L-12 GPS data README, the sampling frequency is 4.092 MHz. and the IF is 0. Also note that the L1 signal hits the antenna at the 1.57542 GHz frequency (10.23 MHz x 154). This is dealt with by the hardware frontend, so we only have to concern ourselves with the 1.023 MHz BPSK modulated C/A code.\n",
    "\n",
    "**Note: we should only perform this acquisition method on ~20ms sections of data, see book for details**\n",
    "\n",
    "## Preamble"
   ]
  },
  {
   "cell_type": "code",
   "execution_count": 1,
   "metadata": {
    "collapsed": false
   },
   "outputs": [],
   "source": [
    "import numpy as np\n",
    "import matplotlib.pyplot as plt\n",
    "import peakutils\n",
    "import struct\n",
    "import math\n",
    "\n",
    "##Grabs the GoldCode module from the root of the repo\n",
    "import os\n",
    "import sys\n",
    "nb_dir = os.path.split(os.getcwd())[0]\n",
    "if nb_dir not in sys.path:\n",
    "    sys.path.append(nb_dir)\n",
    "from GoldCode import GoldCode\n",
    "\n",
    "# Start of ByteToIQPairs Function\n",
    "def ByteToIQPairs( TheByte ):\n",
    "    IQPairs = []\n",
    "    \n",
    "    # This code reads each of the four pairs of bits from the byte \n",
    "    # and determines the sign and magnitude. Then it returns a list \n",
    "    # containing two pairs of IQ data as floating point [I1,Q1,I2,Q2].\n",
    "    # For magnitude: a bit value of 1 means mag 1, 0 means mag 1/3\n",
    "    # For sign: a bit value of 1 means negative, 0 means positive\n",
    "    # This interpretation was taken by the sample code provided\n",
    "    # in the PSAS Launch12 github repo (example was provided in C)\n",
    "    #\n",
    "    # f_s = 4.092 MHz (sampling rate of raw signal)\n",
    "   \n",
    "    IMag1 = (TheByte >> 7) & (0b00000001)\n",
    "    ISign1 = (TheByte >> 6) & (0b00000001)\n",
    "    I1 = 1.0 if (IMag1 == 1) else 1.0/3.0\n",
    "    I1 = -I1 if (ISign1 == 1) else I1\n",
    "    IQPairs.append(I1)\n",
    "    \n",
    "    QMag1 = (TheByte >> 5) & (0b00000001)\n",
    "    QSign1 = (TheByte >> 4) & (0b00000001)\n",
    "    Q1 = 1.0 if (QMag1 == 1) else 1.0/3.0\n",
    "    Q1 = -Q1 if (QSign1 == 1) else Q1\n",
    "    IQPairs.append(Q1)    \n",
    "        \n",
    "    IMag2 = (TheByte >> 3) & (0b00000001)\n",
    "    ISign2 = (TheByte >> 2) & (0b00000001)\n",
    "    I2 = 1.0 if (IMag2 == 1) else 1.0/3.0\n",
    "    I2 = -I2 if (ISign2 == 1) else I2\n",
    "    IQPairs.append(I2)    \n",
    "        \n",
    "    QMag2 = (TheByte >> 1) & (0b00000001)\n",
    "    QSign2 = (TheByte >> 0) & (0b00000001)\n",
    "    Q2 = 1.0 if (QMag2 == 1) else 1.0/3.0\n",
    "    Q2 = -Q2 if (QSign2 == 1) else Q2\n",
    "    IQPairs.append(Q2)\n",
    "    \n",
    "    return IQPairs \n",
    "# End of ByteToIQPairs Function\n"
   ]
  },
  {
   "cell_type": "markdown",
   "metadata": {},
   "source": [
    "## Import data File\n",
    "\n",
    "- Information on file \"JGPS@-32.041913222\" can be found at: https://github.com/psas/Launch-12/tree/gh-pages/data/GPS"
   ]
  },
  {
   "cell_type": "code",
   "execution_count": 2,
   "metadata": {
    "collapsed": false
   },
   "outputs": [
    {
     "name": "stdout",
     "output_type": "stream",
     "text": [
      "Opening a file.\n",
      "File handle is: 49.\n",
      "Total Bytes read: 40920.\n",
      "Which equals 81840 IQ pairs.\n",
      "Sample Length: 0.020000 seconds.\n",
      "File is now closed.\n"
     ]
    }
   ],
   "source": [
    "\n",
    "print(\"Opening a file.\")\n",
    "fHandle = open('../resources/JGPS@-32.041913222','r', encoding = 'utf-8', errors = 'ignore')\n",
    "print(\"File handle is: %d.\" % (fHandle.fileno()))\n",
    "\n",
    "# Read file one byte at a time, extract the two \n",
    "# IQ pairs, and store in array, after conversion to float.\n",
    "# Will initially read enough samples for ~20 ms of data\n",
    "fs = 4.092*10**6 # Sampling Frequency [Hz]\n",
    "Ts = 1/fs # Sampling Period [s]\n",
    "SampleLength = 20*10**(-3) # 20 ms Sample length\n",
    "StartingByte = 1 # Can change this if we want to discard initial samples\n",
    "TotalSamples = int(np.ceil(SampleLength/Ts)) \n",
    "TotalBytes = int(np.ceil(TotalSamples/2))\n",
    "print(\"Total Samples to read: %d\"%(TotalSamples))\n",
    "print(\"Total Bytes read: %d.\" %(TotalBytes))\n",
    "print(\"Which equals %d IQ pairs.\" %(TotalBytes*2))\n",
    "print(\"Sample Length: %f seconds.\" %(TotalBytes*2*Ts))\n",
    "\n",
    "i = StartingByte\n",
    "SingleByte = fHandle.read(1)\n",
    "IData = []\n",
    "QData = []\n",
    "while SingleByte != \"\":\n",
    "    IQPairs = ByteToIQPairs(ord(SingleByte))\n",
    "    IData.append(IQPairs[0])\n",
    "    IData.append(IQPairs[2])\n",
    "    QData.append(IQPairs[1])\n",
    "    QData.append(IQPairs[3])\n",
    "    #print(\"I: %f, Q: %f .\" % (IQPairs[0], IQPairs[1]))\n",
    "    #print(\"I: %f, Q: %f .\" % (IQPairs[2], IQPairs[3]))\n",
    "    \n",
    "    i += 1\n",
    "    if i >= (TotalBytes - StartingByte):\n",
    "        break\n",
    "    SingleByte = fHandle.read(1)\n",
    "\n",
    "fHandle.close()\n",
    "print(\"File is now closed.\")"
   ]
  },
  {
   "cell_type": "markdown",
   "metadata": {},
   "source": [
    "# LO Sweep\n",
    "\n",
    "- Between these 2 steps we need to sweep the local oscillator due to Doppler effect\n",
    "- Pick a frequency, and run the steps from here assuming the Doppler shift puts us @ that freq\n",
    "- We need to multiply the incoming data by a complex sine wave \n",
    "- The frequency of the generated wave is equal to the difference between the actual and target frequencies\n",
    "- The sine wave must be complex in order to get a negative frequency (sweep both directions)\n",
    "- Book recommends +/- 10kHz in 500Hz steps (pg 77)"
   ]
  },
  {
   "cell_type": "code",
   "execution_count": 3,
   "metadata": {
    "collapsed": false
   },
   "outputs": [],
   "source": [
    "#Test doppler shift\n",
    "#np.exp(2*np.pi*1j*-1581) #Is this a scalar? (Bad)\n",
    "#CData = CData * \n",
    "\n",
    "#Make a 1.023MHz carrier\n",
    "#carriert = np.linspace(0, 81837/4.092e6, 81838)\n",
    "#Icarrier = np.sin(2 * np.pi * 1.023e6 * carriert) #+ 1j * np.sin()\n",
    "#Qcarrier = np.cos(2 * np.pi * 1.023e6 * carriert)\n",
    "\n",
    "#plt.plot(carriert[0:50], Icarrier[0:50])\n",
    "#plt.plot(carriert[0:50], Qcarrier[0:50])\n",
    "\n",
    "#plt.show()"
   ]
  },
  {
   "cell_type": "markdown",
   "metadata": {},
   "source": [
    "# Convert to complex array\n",
    "\n",
    "Data needs to be in the form: $I(t) + jQ(t)$"
   ]
  },
  {
   "cell_type": "code",
   "execution_count": 4,
   "metadata": {
    "collapsed": false
   },
   "outputs": [
    {
     "name": "stdout",
     "output_type": "stream",
     "text": [
      "length of IData is: 81838\n",
      "Length of QData is: 81838\n"
     ]
    }
   ],
   "source": [
    "print(\"length of IData is: %d\" % (len(IData)))\n",
    "print(\"Length of QData is: %d\" % (len(QData)))\n",
    "\n",
    "CData = np.zeros(len(IData), dtype=np.complex)\n",
    "\n",
    "for d in range(len(IData)):\n",
    "    CData[d] = IData[d]  + QData[d] * 1j  # Complex data\n",
    "\t#CData[d] = IData[d] * Icarrier[d] + QData[d] * 1j * Qcarrier[d] # Complex data w/LO (maybe)\n",
    "    \n",
    "#print(CData)"
   ]
  },
  {
   "cell_type": "markdown",
   "metadata": {},
   "source": [
    "## Check out the imported data\n",
    "\n",
    "We will plot the first 100 samples to see what the signal looks like."
   ]
  },
  {
   "cell_type": "code",
   "execution_count": 5,
   "metadata": {
    "collapsed": false
   },
   "outputs": [
    {
     "data": {
      "image/png": "[encoded data removed]",
      "text/plain": [
       "<matplotlib.figure.Figure at 0x7fe2fc3932e8>"
      ]
     },
     "metadata": {},
     "output_type": "display_data"
    }
   ],
   "source": [
    "scale = 1/4.092e6\n",
    "x = np.linspace(0,99,100)\n",
    "x = x * scale\n",
    "\n",
    "plt.plot(x, np.real(CData[0:100]))\n",
    "plt.plot(x, np.imag(CData[0:100]))\n",
    "\n",
    "#plt.plot(np.real(CData))\n",
    "#plt.plot(np.imag(CData))\n",
    "\n",
    "plt.xlabel(\"t (microseconds)\")\n",
    "plt.show()"
   ]
  },
  {
   "cell_type": "markdown",
   "metadata": {},
   "source": [
    "# Take fft\n",
    "\n",
    "We need to take the fft of the IQ datastream."
   ]
  },
  {
   "cell_type": "code",
   "execution_count": 6,
   "metadata": {
    "collapsed": false
   },
   "outputs": [
    {
     "name": "stdout",
     "output_type": "stream",
     "text": [
      "Calculated deltaFreq: 50.001222 [Hz]\n"
     ]
    }
   ],
   "source": [
    "# Since we are using circular-convolution, nfft must be equal to the number of samples\n",
    "nfft = len(QData)\n",
    "print(\"Calculated deltaFreq: %f [Hz]\" %(fs/nfft))\n",
    "\n",
    "# Generate frequency lists for plotting fft\n",
    "# Can use f for regular fft and fshift for shifted version\n",
    "fs_kHz = fs/1000 #Make easier to read\n",
    "f = np.linspace (0,fs_kHz,nfft, endpoint=False)\n",
    "fshift = np.linspace(-fs_kHz/2,fs_kHz/2,nfft,endpoint=False)\n",
    "\n",
    "\n",
    "# Reference data size section of book to pick the len param. Should be based sample rate\n",
    "ffC = np.fft.fft(CData, nfft)"
   ]
  },
  {
   "cell_type": "markdown",
   "metadata": {},
   "source": [
    "# Plot output"
   ]
  },
  {
   "cell_type": "code",
   "execution_count": 5,
   "metadata": {
    "collapsed": false
   },
   "outputs": [
    {
     "data": {
      "image/png": "[encoded data removed]",
      "text/plain": [
       "<matplotlib.figure.Figure at 0x7f2390bec400>"
      ]
     },
     "metadata": {},
     "output_type": "display_data"
    }
   ],
   "source": [
    "plt.plot(f, np.abs(ffC))\n",
    "\n",
    "plt.title(\"FFT of Complex Data\")\n",
    "plt.xlabel(\"Frequency (kHz)\")\n",
    "plt.show()"
   ]
  },
  {
   "cell_type": "markdown",
   "metadata": {},
   "source": [
    "# Get a Gold Code\n",
    "\n",
    "- Gold Code must be generated as though it were sampled at the sampling rate\n",
    "- 1023 chips that must take 1ms to pass through (due to chipping rate)\n",
    "- We are sampling @ 4.092 MHz\n",
    "- So we need the GC to repeat each chip 4 times before going to the next chip.\n",
    "- The numpy.repeat() function does this exactly\n",
    "\n",
    "## SVs in this data:\n",
    "\n",
    "#SV| Doppler(Hz)| Alt (deg)| Az (deg)\n",
    "---|------------|----------|--------\n",
    "13 |     3195   | 23.3| 216.5\n",
    "11 |     3097   |  5.8|  39.0\n",
    "28 |     1581   | 43.4|  76.3\n",
    "17 |      359   | 80.6|  80.1\n",
    "12 |    -2825   |  5.6| 277.7\n",
    "15 |     1994   | 25.7| 255.4\n",
    "01 |     1797   | 19.3|  44.4\n",
    "24 |    -2592   | 31.9| 309.6\n",
    "30 |     3378   | 13.4| 141.2\n",
    "06 |    -3321   | 21.1| 159.8"
   ]
  },
  {
   "cell_type": "code",
   "execution_count": 8,
   "metadata": {
    "collapsed": false,
    "scrolled": true
   },
   "outputs": [
    {
     "name": "stdout",
     "output_type": "stream",
     "text": [
      "Satellite chosen: 17, with tap: (1, 4)\n"
     ]
    }
   ],
   "source": [

    "#sat = (7, 9) #SV 28\n",
    "sat = (0,3) #SV 17\n",
    "#sat = (2,3)   #SV 1\n",
    "CodeGen = GoldCode(sat)\n",
    "code = np.repeat(CodeGen.getCode(1023), 4)\n",
    "#Satellites in the sky during launch:\n",
    "#SV:  1   25.5° el    71.5° az\n",
    "#SV:  4   14.5° el    46.1° az\n",
    "#SV:  6   -2.5° el   172.8° az\n",
    "#SV:  7   11.1° el   130.3° az\n",
    "#SV: 11   24.3° el    56.3° az\n",
    "#SV: 13   46.5° el   244.3° az\n",
    "#SV: 15   32.1° el   287.7° az\n",
    "#SV: 17   62.3° el   189.2° az\n",
    "#SV: 24    5.7° el   310.0° az\n",
    "#SV: 28   65.0° el    41.4° az\n",
    "#SV: 30   42.6° el   127.9° az\n",
    "\n",
    "\n",
    "#Choose which satellite's C/A code is generated\n",
    "Satellite = 17\n",
    "\n",
    "# Create list of C/A code Taps, for simpler sat selection\",\n",
    "sat = [(2,6),(3,7),(4,8),(5,9),(1,9),(2,6),(1,8),(2,9),(3,10),(2,3),(3,4),(5,6),(6,7),(7,8),(8,9),(9,10),(1,4),(2,5),(3,6),(4,7),(5,8),(6,9),(1,3),(4,6),(5,7),(6,8),(7,9),(8,10),(1,6),(2,7),(3,8),(4,9),(5,10),(4,10),(1,7),(2,8),(4,10)]\n",
    "\n",
    "# Create Code Generator object for chosen Satellite\n",
    "CodeGen = GoldCode(sat[Satellite - 1]) # Index starts at zero\n",
    "\n",
    "# Generate CA Code\n",
    "CACode = CodeGen.getCode(1023)\n",
    "\n",
    "# Reformat GC to have -1 in place of 0\n",
    "for n,i in enumerate(CACode):\n",
    "    if i==0:\n",
    "        CACode[n]=-1\n",
    "        \n",
    "# Repeat each chip 4 times (See markdown in above cell), to match our ADC sample frequency\",\n",
    "CACodeSampled = np.repeat(CACode,4)\n",
    "print(\"Satellite chosen: %d, with tap: %s\" %(Satellite,str(sat[Satellite - 1])))"
   ]
  },
  {
   "cell_type": "code",
   "execution_count": null,
   "metadata": {
    "collapsed": false,
    "scrolled": true
   },
   "outputs": [],
   "source": [
    "Codefft = np.fft.fft(CACode, nfft)\n",
    "\n",
    "plt.plot(f, np.abs(Codefft))\n",
    "plt.title(\"FFT of Gold Code\")\n",
    "plt.xlabel(\"Frequency (kHz)\")\n",
    "plt.show()"
   ]
  },
  {
   "cell_type": "markdown",
   "metadata": {},
   "source": [
    "# Complex Conjugate of Gold Code fft\n",
    "\n",
    "Take the complex conjugate of the Gold Code [real(fft) - imag(fft)j], and then multiply it by the IQ fft. If this is done correctly there should be a spike about $10^7$ times as high as the noise. \n",
    "\n"
   ]
  },
  {
   "cell_type": "code",
   "execution_count": null,
   "metadata": {
    "collapsed": false,
    "scrolled": false
   },
   "outputs": [],
   "source": [
    "GCConj = np.conjugate(Codefft)\n",
    "\n",
    "result = np.fft.ifft(GCConj * ffC,nfft)\n",
    "\n",
    "resultSQ = np.abs(result) ** 2\n",
    "resultLog = -10*np.log10(resultSQ)\n",
    "\n",
    "t = np.linspace(0,SampleLength,nfft,endpoint=True) \n",
    "print(\"Length of t: %d\" %(len(t)))\n",
    "print(\"Length of IFFT: %d\" %(len(resultSQ)))\n",
    "\n",
    "plt.plot(t,resultLog)\n",
    "plt.title(\"Cross-correlation without adjusting for doppler shift.\")\n",
    "plt.xlabel(\"Time (seconds)\")\n",
    "plt.show()\n",
    "\n",
    "print(\"Max Value: %f, at freqshift: %d, with index %d\"%(np.max(resultLog),0,np.argmax(resultLog)))"
   ]
  },
  {
   "cell_type": "markdown",
   "metadata": {
    "collapsed": true
   },
   "source": [
    "# Notes\n",
    "\n",
    "- From book appendix: we should look for the top 2 peaks, and use the ratio to determine whether there is a signal or just noise\n",
    "- We should get the C code running and be sure to compare results. Acquisition works in the C code, but tracking is untested"
   ]
  },
  {
   "cell_type": "markdown",
   "metadata": {
    "collapsed": true
   },
   "source": [
    "## Shift frequency using multiplication by a complex exponential"
   ]
  },
  {
   "cell_type": "code",
   "execution_count": null,
   "metadata": {
    "collapsed": false
   },
   "outputs": [],
   "source": [
    "freqShift = 3195 #[Hz]\n",
    "\n",
    "# Initialize complex array\n",
    "CDataShifted = np.zeros(len(CData), dtype=np.complex)\n",
    "print(len(CData))\n",
    "print(len(CDataShifted))\n",
    "print(len(t))\n",
    "for i in range(len(CData)):\n",
    "    CDataShifted[i] = CData[i]*np.exp(1j*2*np.pi*freqShift*t[i]) + CData[i]*np.exp(1j*2*np.pi*freqShift*t[i])\n",
    "    \n",
    "fftCDataShifted = np.fft.fft(CDataShifted,nfft)\n",
    "\n",
    "result = np.fft.ifft(GCConj * fftCDataShifted,nfft)\n",
    "\n",
    "resultSQ = np.abs(result) ** 2\n",
    "resultLog = -10*np.log10(resultSQ)\n",
    "\n",
    "plt.plot(t,resultLog)\n",
    "plt.title(\"Cross-correlation with doppler adjustment of %d [Hz]\"%(freqShift))\n",
    "plt.xlabel(\"Time (seconds)\")\n",
    "plt.show()\n",
    "\n",
    "print(\"Max Value: %f, at freqshift: %d, with index: %d div/4: %f\"%(np.max(resultLog),freqShift,np.argmax(resultLog),np.argmax(resultLog)/4))"
   ]
  },
  {
   "cell_type": "code",
   "execution_count": null,
   "metadata": {
    "collapsed": false
   },
   "outputs": [],
   "source": [
    "# Shift gold code by maximum index from prior cell\n",
    "CACode_Shifted = CACodeSampled\n",
    "np.roll(CACode_Shifted,np.argmax(resultLog))\n",
    "\n",
    "print(len(CData))\n",
    "print(len(CACode_Shifted))\n",
    "# Multiply by frequency shifted complex data: \n",
    "Result = np.zeros(len(CData), dtype=np.complex)\n",
    "for i in range(len(CData)):\n",
    "    Result[i] = CACode_Shifted[i]*CData[i]\n",
    "\n",
    "plt.plot(t,Result)\n",
    "plt.show()"
   ]
  },
  {
   "cell_type": "code",
   "execution_count": null,
   "metadata": {
    "collapsed": false
   },
   "outputs": [],
   "source": [
    "t"
   ]
  },
  {
   "cell_type": "code",
   "execution_count": null,
   "metadata": {
    "collapsed": true
   },
   "outputs": [],
   "source": [
    "len(t)"
   ]
  },
  {
   "cell_type": "code",
   "execution_count": null,
   "metadata": {
    "collapsed": true
   },
   "outputs": [],
   "source": []
  }
 ],
 "metadata": {
  "anaconda-cloud": {},
  "kernelspec": {
   "display_name": "Python [default]",
   "language": "python",
   "name": "python3"
  },
  "language_info": {
   "codemirror_mode": {
    "name": "ipython",
    "version": 3
   },
   "file_extension": ".py",
   "mimetype": "text/x-python",
   "name": "python",
   "nbconvert_exporter": "python",
   "pygments_lexer": "ipython3",
   "version": "3.5.2"
  }
 },
 "nbformat": 4,
 "nbformat_minor": 2
}
