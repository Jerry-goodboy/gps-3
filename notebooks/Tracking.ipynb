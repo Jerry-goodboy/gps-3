{
 "cells": [
  {
   "cell_type": "markdown",
   "metadata": {
    "deletable": true,
    "editable": true
   },
   "source": [
    "# Tracking\n",
    "\n",
    "After we have used acquisition to see what satellites are above us, we select the strongest signals, and start tracking them using a replica CA Code. This is done by generating a local CA code, and then aligning it with the transmitted version. The reciever is locked on when the CA codes are perfectly aligned, and from there we can start extracting the navigation data.\n",
    "\n",
    "If you have worked with the acquisition notebook, you should see that SV13 is almost high overhead in the L-12 GPS data. Since the Doppler shift is only 12Hz, it will be the easiest satellite to start tracking.\n",
    "\n",
    "# Preamble"
   ]
  },
  {
   "cell_type": "code",
   "execution_count": 1,
   "metadata": {
    "collapsed": true,
    "deletable": true,
    "editable": true
   },
   "outputs": [],
   "source": [
    "import numpy as np\n",
    "import matplotlib.pyplot as plt\n",
    "import math\n",
    "from collections import deque\n",
    "import itertools\n",
    "\n",
    "##Grabs the GoldCode module from the root of the repo\n",
    "import os\n",
    "import sys\n",
    "nb_dir = os.path.split(os.getcwd())[0]\n",
    "if nb_dir not in sys.path:\n",
    "    sys.path.append(nb_dir)\n",
    "from GoldCode import GoldCode\n",
    "from GPSData import IQData"
   ]
  },
  {
   "cell_type": "code",
   "execution_count": 2,
   "metadata": {
    "collapsed": false,
    "deletable": true,
    "editable": true
   },
   "outputs": [
    {
     "name": "stdout",
     "output_type": "stream",
     "text": [
      "Opening a file.\n",
      "File handle is: 53.\n",
      "Total Samples to read: 57288\n",
      "Total Bytes read: 28644.\n",
      "Which equals 57288 IQ pairs.\n",
      "Sample Length: 0.014000 seconds.\n",
      "File is now closed.\n"
     ]
    }
   ],
   "source": [
    "# Need these to pass to importFile module\n",
    "fs = 4.092*10**6\n",
    "SampleLength = 0.014\n",
    "\n",
    "BytesToSkip = 0 #2046\n",
    "\n",
    "data = IQData()\n",
    "data.importFile('../resources/JGPS@04.559925043', fs, SampleLength, BytesToSkip)"
   ]
  },
  {
   "cell_type": "markdown",
   "metadata": {
    "deletable": true,
    "editable": true
   },
   "source": [
    "# The delay locked loop\n",
    "\n",
    "The signal is tracked using a delay locked loop (DLL). 3 replica CA codes are generated, each a half chip out of phase. The center code is referred to as \"Prompt\" with \"Early\" and \"Late\" on either side. The real part of the signal is mixed with each code seperately, and then each result is integrated. The result of the integrations are referred to as $I_E$, $I_P$, and $I_L$. They feed back to the code generator which shifts the code into the correct direction. The result for $I_P$ contains the navigation data.\n",
    "\n",
    "The same process is done for the imaginary (Q) part resulting in $Q_E$, $Q_P$, and $Q_L$."
   ]
  },
  {
   "cell_type": "code",
   "execution_count": 3,
   "metadata": {
    "collapsed": false,
    "deletable": true,
    "editable": true
   },
   "outputs": [
    {
     "data": {
      "image/png": "[encoded data removed]",
      "text/plain": [
       "<matplotlib.figure.Figure at 0x7fb5afd41dd8>"
      ]
     },
     "metadata": {},
     "output_type": "display_data"
    }
   ],
   "source": [
    "#Choose which satellite's C/A code is generated\n",
    "Satellite = 13\n",
    "# Create list of C/A code Taps, for simpler sat selection\",\n",
    "#sat = [(2,6),(3,7),(4,8),(5,9),(1,9),(2,6),(1,8),(2,9),(3,10),(2,3),(3,4),(5,6),(6,7),(7,8),(8,9),(9,10),(1,4),(2,5),(3,6),(4,7),(5,8),(6,9),(1,3),(4,6),(5,7),(6,8),(7,9),(8,10),(1,6),(2,7),(3,8),(4,9),(5,10),(4,10),(1,7),(2,8),(4,10)]\n",
    "sat = [(1,5),(2,6),(3,7),(4,8),(0,8),(1,5),(0,7),(1,8),(2,9),(1,2),(2,3),(4,5),(5,6),(6,7),(7,8),(8,9),(0,3),(1,4),(2,5),(3,6),(4,7),(5,8),(0,2),(3,5),(4,6),(5,7),(6,8),(7,9),(0,5),(1,6),(2,7),(3,8),(4,9),(3,9),(0,6),(1,7),(3,9)]\n",
    "\n",
    "# Create Code Generator object for chosen Satellite\n",
    "CodeGen = GoldCode(sat[Satellite - 1]) # Index starts at zero\n",
    "\n",
    "# Generate CA Codes\n",
    "Codep = deque(CodeGen.getCode(1023, samplesPerChip = 4))\n",
    "Codee = deque(CodeGen.getCode(1023, samplesPerChip = 4))\n",
    "Codel = deque(CodeGen.getCode(1023, samplesPerChip = 4))\n",
    "\n",
    "#Offset CA codes by a half chip (2 samples)\n",
    "Codel.rotate(2)\n",
    "Codee.rotate(-2)\n",
    "#print(len(Ip))\n",
    "\n",
    "#plt.clear()\n",
    "\n",
    "plt.plot(list(itertools.islice(Codee, 20, 100)), label = 'Ie')\n",
    "plt.plot(list(itertools.islice(Codep, 20, 100)), label = 'Ip')\n",
    "plt.plot(list(itertools.islice(Codel, 20, 100)), label = 'Il')\n",
    "\n",
    "#Display settings\n",
    "plt.title('CA Code replicas')\n",
    "plt.ylim([-4, 4])\n",
    "plt.legend()\n",
    "plt.show()"
   ]
  },
  {
   "cell_type": "code",
   "execution_count": 4,
   "metadata": {
    "collapsed": true,
    "deletable": true,
    "editable": true
   },
   "outputs": [],
   "source": [
    "#Doppler shift\n",
    "\n"
   ]
  },
  {
   "cell_type": "markdown",
   "metadata": {
    "deletable": true,
    "editable": true
   },
   "source": [
    "# Mix the signal and codes, and integrate\n",
    "\n",
    "We know from the acquisition process that the SV 13 code is 1471 samples out of phase with the \"default\" code. "
   ]
  },
  {
   "cell_type": "code",
   "execution_count": 5,
   "metadata": {
    "collapsed": false,
    "deletable": true,
    "editable": true
   },
   "outputs": [
    {
     "data": {
      "image/png": "[encoded data removed]",
      "text/plain": [
       "<matplotlib.figure.Figure at 0x7fb5afcb6358>"
      ]
     },
     "metadata": {},
     "output_type": "display_data"
    }
   ],
   "source": [
    "phaseShift = 1471\n",
    "segLen = 1022\n",
    "\n",
    "Codep.rotate(phaseShift)\n",
    "Codee.rotate(phaseShift)\n",
    "Codel.rotate(phaseShift)\n",
    "\n",
    "#Shift data\n",
    "freqShift = -12 #[Hz]\n",
    "\n",
    "# Initialize complex array\n",
    "t = np.linspace(0,SampleLength,data.Nsamples,endpoint=True) \n",
    "IDataShifted = (data.IData)*np.cos(2 * np.pi* freqShift * t) \n",
    "QDataShifted = data.QData *  np.sin(2 * np.pi* freqShift * t)\n",
    "\n",
    "#Grab 1023 samples of the data\n",
    "#signalSegI = data.IData[0:segLen]\n",
    "#signalSegQ = data.QData[0:segLen]\n",
    "\n",
    "#Grab 1023 samples of the data\n",
    "signalSegI = IDataShifted[0:segLen]\n",
    "signalSegQ = QDataShifted[0:segLen]\n",
    "\n",
    "w = range(segLen)\n",
    "ImixP = [Codep[s] * signalSegI[s] for s in w]\n",
    "ImixE = [Codee[s] * signalSegI[s] for s in w]\n",
    "ImixL = [Codel[s] * signalSegI[s] for s in w]\n",
    "\n",
    "QmixP = [Codep[s] * signalSegQ[s] for s in w]\n",
    "QmixE = [Codee[s] * signalSegQ[s] for s in w]\n",
    "QmixL = [Codel[s] * signalSegQ[s] for s in w]\n",
    "\n",
    "plt.plot(ImixP, label = 'Ip')\n",
    "#plt.plot(ImixE, label = 'Ie')\n",
    "#plt.plot(ImixL, label = 'Il')\n",
    "\n",
    "#Display settings\n",
    "plt.title('Mixed signal')\n",
    "plt.ylim([-4, 4])\n",
    "plt.legend()\n",
    "plt.show()"
   ]
  },
  {
   "cell_type": "code",
   "execution_count": 6,
   "metadata": {
    "collapsed": false,
    "deletable": true,
    "editable": true,
    "scrolled": true
   },
   "outputs": [
    {
     "name": "stdout",
     "output_type": "stream",
     "text": [
      "455.11717745\n",
      "641.757492289\n",
      "323.93486041\n",
      "\n",
      "0.000693707192621\n",
      "0.0439471844999\n",
      "0.0266207720828\n",
      "\n",
      "0.168347921918\n"
     ]
    }
   ],
   "source": [
    "intIE = np.sum(ImixE)\n",
    "intIP = np.sum(ImixP)\n",
    "intIL = np.sum(ImixL)\n",
    "\n",
    "intQE = np.sum(QmixE)\n",
    "intQP = np.sum(QmixP)\n",
    "intQL = np.sum(QmixL)\n",
    "\n",
    "#discriminator = (intIP * (intIE - intIL)) + (intQP * (intQE - intQL))\n",
    "discriminator = ((intIE ** 2 + intQE ** 2) - (intIL ** 2 + intQL ** 2))/((intIE ** 2 + intQE ** 2) + (intIL ** 2 + intQL ** 2))\n",
    "\n",
    "print(intIE ** 2)\n",
    "print(intIP ** 2)\n",
    "print(intIL ** 2)\n",
    "print()\n",
    "print(intQE ** 2)\n",
    "print(intQP ** 2)\n",
    "print(intQL ** 2)\n",
    "print()\n",
    "print(discriminator)\n",
    "\n"
   ]
  },
  {
   "cell_type": "code",
   "execution_count": 7,
   "metadata": {
    "collapsed": false,
    "deletable": true,
    "editable": true
   },
   "outputs": [],
   "source": [
    "#fftmix = np.fft.fft(mixL)\n",
    "#plt.plot(np.abs(fftmix) **2)\n",
    "#plt.show()"
   ]
  },
  {
   "cell_type": "code",
   "execution_count": null,
   "metadata": {
    "collapsed": false,
    "deletable": true,
    "editable": true
   },
   "outputs": [],
   "source": []
  },
  {
   "cell_type": "code",
   "execution_count": null,
   "metadata": {
    "collapsed": true,
    "deletable": true,
    "editable": true
   },
   "outputs": [],
   "source": []
  }
 ],
 "metadata": {
  "kernelspec": {
   "display_name": "Python 3",
   "language": "python",
   "name": "python3"
  },
  "language_info": {
   "codemirror_mode": {
    "name": "ipython",
    "version": 3
   },
   "file_extension": ".py",
   "mimetype": "text/x-python",
   "name": "python",
   "nbconvert_exporter": "python",
   "pygments_lexer": "ipython3",
   "version": "3.5.2"
  }
 },
 "nbformat": 4,
 "nbformat_minor": 2
}
