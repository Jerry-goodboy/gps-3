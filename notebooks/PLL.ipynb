{
 "cells": [
  {
   "cell_type": "markdown",
   "metadata": {
    "collapsed": true,
    "deletable": true,
    "editable": true
   },
   "source": [
    "# Costas Loop\n",
    "\n",
    "This PLL is based on [this SDR PLL](http://liquidsdr.org/blog/pll-howto/) coded in C. Once this is working we will expand it to a more complex Costas Loop.\n",
    "\n",
    "## Initialization of variables"
   ]
  },
  {
   "cell_type": "code",
   "execution_count": null,
   "metadata": {
    "collapsed": false,
    "deletable": true,
    "editable": true
   },
   "outputs": [],
   "source": [
    "import numpy as np\n",
    "import matplotlib.pyplot as plt\n",
    "\n",
    "# Initializations\n",
    "\n",
    "phi_hat = 0.3      # phi_hat is the output phase \n",
    "freq_offset = 0.3\n",
    "delta_phi = 0.0    # delta_phi is the phase difference between the incomming signal and the VCO\n",
    "wn = 0.01          # wn is omega_n, pll bandwidth\n",
    "zeta = 0.707       # Damping factor of the loop\n",
    "K = 1000           # K = loop gain, which I assume can be chosen, but this is a sample value\n",
    "N = 1000         # Number of samples\n",
    "\n",
    "noise_power = 1\n",
    "noise_mean = 0\n",
    "\n",
    "# These are just initializing some vectors for plotting\n",
    "ref = np.linspace(0, N, N)\n",
    "\n"
   ]
  },
  {
   "cell_type": "markdown",
   "metadata": {
    "deletable": true,
    "editable": true
   },
   "source": [
    "## Generate a sine wave to test with\n",
    "\n",
    "This block generates a simple sine wave which is set by the phi and freq_offset parameters. "
   ]
  },
  {
   "cell_type": "code",
   "execution_count": 2,
   "metadata": {
    "collapsed": false,
    "deletable": true,
    "editable": true
   },
   "outputs": [],
   "source": [
    "phi = 0.0              # Original signal phase\n",
    "def tstSignalGen(ref, phi, freq_offset):\n",
    "    signal = []       # Save the signal_in for plotting\n",
    "    for i in ref:\n",
    "\n",
    "        # Complex input signal\n",
    "        signal_in = np.cos(phi) + 1j*np.sin(phi)\n",
    "        phi += freq_offset\n",
    "\n",
    "        signal.append(signal_in) # Saved for plotting\n",
    "    return signal"
   ]
  },
  {
   "cell_type": "markdown",
   "metadata": {
    "deletable": true,
    "editable": true
   },
   "source": [
    "## Phase lock to input signal\n",
    "\n",
    "This function takes a complex signal, and attempts to lock to it. It is currently only useful for example purposes.\n",
    "\n",
    "The ax, tx, and bx variables are for the loop parameters. Using feedback theory I derived (ok, I stole) an equation in the form \n",
    "\n",
    "$\\frac{b_0 z^{-1} + b_1 z^{-1} + b_2 z^{-1}}{a_0 z^{-1} + a_1 z^{-1} + a_2 z^{-1}}$\n",
    "\n",
    "tx are just other ways of expressing the variables wn, zeta, and K. In standard form ${a_0 z^{-1} = 1}$, but here it was left in variable form and the variable assigned to be 1."
   ]
  },
  {
   "cell_type": "code",
   "execution_count": null,
   "metadata": {
    "collapsed": false,
    "deletable": true,
    "editable": true
   },
   "outputs": [],
   "source": [
    "def phaseLock(signal, phi_hat, delta_phi):\n",
    "    # Input should be a complex signal\n",
    "    \n",
    "    \n",
    "    output = []            # Save the signal_out for plotting\n",
    "    \n",
    "    # Clear buffers\n",
    "    v0 = 0.0           \n",
    "    v1 = 0.0           \n",
    "    v2 = 0.0      \n",
    "    \n",
    "    #Set parameters for feedback equation above\n",
    "    a0 = 1.0\n",
    "    a1 = -2.0\n",
    "    a2 = 1.0\n",
    "\n",
    "    t1 = K/(wn*wn)     # tau_1\n",
    "    t2 = 2*zeta/wn     # tau_2\n",
    "\n",
    "    b0 = (4*K/t1) * (1.0+t2/2.0)\n",
    "    b1 = 8*K/t1\n",
    "    b2 = (4*K/t1) * (1.0-t2/2.0)\n",
    "\n",
    "    for sample in signal:\n",
    "\n",
    "        # Complex oscillator signal\n",
    "        vco = np.cos(phi_hat) + 1j*np.sin(phi_hat)\n",
    "\n",
    "        delta_phi = np.angle( sample * np.conj( vco))\n",
    "        output.append(vco)\n",
    "\n",
    "        # vx varibles are a buffer to store output changes on transfer function variables ax and bx\n",
    "        v2 =  v1\n",
    "        v1 =  v0\n",
    "        v0 =  delta_phi - v1 * a1 - v2 * a2\n",
    "        phi_hat =  v0 * b0 + v1 * b1 + v2* b2\n",
    "    return output\n",
    "\n"
   ]
  },
  {
   "cell_type": "code",
   "execution_count": null,
   "metadata": {
    "collapsed": false,
    "deletable": true,
    "editable": true
   },
   "outputs": [],
   "source": [
    "noise = np.random.normal(noise_mean, noise_power, N)\n",
    "inputsignal = np.array(tstSignalGen(ref, phi, freq_offset)) + noise\n",
    "lockedsig = phaseLock(inputsignal, phi_hat, delta_phi)"
   ]
  },
  {
   "cell_type": "markdown",
   "metadata": {
    "deletable": true,
    "editable": true
   },
   "source": [
    "# Plot real & imaginary outputs"
   ]
  },
  {
   "cell_type": "code",
   "execution_count": null,
   "metadata": {
    "collapsed": false,
    "deletable": true,
    "editable": true,
    "scrolled": true
   },
   "outputs": [],
   "source": [
    "\n",
    "plt.subplot(2, 1, 1)\n",
    "plt.plot(ref, np.real(inputsignal), color = 'lightblue')\n",
    "plt.plot(ref, np.real(lockedsig), color = 'firebrick')\n",
    "\n",
    "\n",
    "\n",
    "plt.subplot(2, 1, 2)\n",
    "plt.plot(ref, np.imag(lockedsig))\n",
    "plt.xlabel(\"Samples\")\n",
    "\n",
    "#plt.ylabel(\"Amplitude\")\n",
    "plt.show()"
   ]
  },
  {
   "cell_type": "markdown",
   "metadata": {
    "deletable": true,
    "editable": true
   },
   "source": [
    "## 2 signal comparison\n",
    "\n",
    "Tested 2 different signals for direct comparison"
   ]
  },
  {
   "cell_type": "code",
   "execution_count": null,
   "metadata": {
    "collapsed": true,
    "deletable": true,
    "editable": true
   },
   "outputs": [],
   "source": [
    "in1 = tstSignalGen(ref, 0.0, 0.4)\n",
    "in2 = tstSignalGen(ref, 0.0, 0.09)\n",
    "\n",
    "lock1 = phaseLock(in1, phi_hat, delta_phi)\n",
    "lock2 = phaseLock(in2, phi_hat, delta_phi)"
   ]
  },
  {
   "cell_type": "code",
   "execution_count": null,
   "metadata": {
    "collapsed": false,
    "deletable": true,
    "editable": true
   },
   "outputs": [],
   "source": [
    "plt.plot(np.real(in1))\n",
    "plt.plot(np.real(lock1))\n",
    "plt.show()\n",
    "plt.plot(np.real(in2))\n",
    "plt.plot(ref, np.real(lock2))\n",
    "plt.show()\n",
    "\n"
   ]
  },
  {
   "cell_type": "code",
   "execution_count": null,
   "metadata": {
    "collapsed": true,
    "deletable": true,
    "editable": true
   },
   "outputs": [],
   "source": []
  },
  {
   "cell_type": "code",
   "execution_count": null,
   "metadata": {
    "collapsed": true,
    "deletable": true,
    "editable": true
   },
   "outputs": [],
   "source": []
  }
 ],
 "metadata": {
  "kernelspec": {
   "display_name": "Python 3",
   "language": "python",
   "name": "python3"
  },
  "language_info": {
   "codemirror_mode": {
    "name": "ipython",
    "version": 3
   },
   "file_extension": ".py",
   "mimetype": "text/x-python",
   "name": "python",
   "nbconvert_exporter": "python",
   "pygments_lexer": "ipython3",
   "version": "3.5.2"
  }
 },
 "nbformat": 4,
 "nbformat_minor": 2
}
